{
 "cells": [
  {
   "cell_type": "markdown",
   "id": "cb4bff69",
   "metadata": {},
   "source": [
    "# Implementing Sentiment Analysis"
   ]
  },
  {
   "cell_type": "markdown",
   "id": "2604c1ca",
   "metadata": {},
   "source": [
    "## 1. Installing packages\n"
   ]
  },
  {
   "cell_type": "code",
   "execution_count": 1,
   "id": "6addefd8",
   "metadata": {},
   "outputs": [
    {
     "name": "stdout",
     "output_type": "stream",
     "text": [
      "Requirement already satisfied: pip in c:\\users\\xps\\anaconda3\\lib\\site-packages (21.2.4)"
     ]
    },
    {
     "name": "stderr",
     "output_type": "stream",
     "text": [
      "WARNING: Ignoring invalid distribution -rotobuf (c:\\users\\xps\\anaconda3\\lib\\site-packages)\n",
      "WARNING: Ignoring invalid distribution -rotobuf (c:\\users\\xps\\anaconda3\\lib\\site-packages)\n",
      "WARNING: Ignoring invalid distribution -rotobuf (c:\\users\\xps\\anaconda3\\lib\\site-packages)\n",
      "    WARNING: Ignoring invalid distribution -rotobuf (c:\\users\\xps\\anaconda3\\lib\\site-packages)\n",
      "ERROR: Could not install packages due to an OSError: [WinError 5] Access is denied: 'C:\\\\Users\\\\xps\\\\AppData\\\\Local\\\\Temp\\\\pip-uninstall-vl9f7dzc\\\\pip.exe'\n",
      "Consider using the `--user` option or check the permissions.\n",
      "\n",
      "WARNING: Ignoring invalid distribution -rotobuf (c:\\users\\xps\\anaconda3\\lib\\site-packages)\n",
      "WARNING: Ignoring invalid distribution -rotobuf (c:\\users\\xps\\anaconda3\\lib\\site-packages)\n",
      "WARNING: Ignoring invalid distribution -rotobuf (c:\\users\\xps\\anaconda3\\lib\\site-packages)\n"
     ]
    },
    {
     "name": "stdout",
     "output_type": "stream",
     "text": [
      "\n",
      "Collecting pip\n",
      "  Using cached pip-22.3.1-py3-none-any.whl (2.1 MB)\n",
      "Installing collected packages: pip\n",
      "  Attempting uninstall: pip\n",
      "    Found existing installation: pip 21.2.4\n",
      "    Uninstalling pip-21.2.4:\n",
      "      Successfully uninstalled pip-21.2.4\n",
      "Requirement already satisfied: scikit-learn in c:\\users\\xps\\anaconda3\\lib\\site-packages (1.2.0)\n",
      "Requirement already satisfied: joblib>=1.1.1 in c:\\users\\xps\\anaconda3\\lib\\site-packages (from scikit-learn) (1.2.0)\n",
      "Requirement already satisfied: threadpoolctl>=2.0.0 in c:\\users\\xps\\anaconda3\\lib\\site-packages (from scikit-learn) (2.2.0)\n",
      "Requirement already satisfied: numpy>=1.17.3 in c:\\users\\xps\\anaconda3\\lib\\site-packages (from scikit-learn) (1.20.3)\n",
      "Requirement already satisfied: scipy>=1.3.2 in c:\\users\\xps\\anaconda3\\lib\\site-packages (from scikit-learn) (1.7.1)\n"
     ]
    },
    {
     "name": "stderr",
     "output_type": "stream",
     "text": [
      "WARNING: Ignoring invalid distribution -rotobuf (c:\\users\\xps\\anaconda3\\lib\\site-packages)\n",
      "WARNING: Ignoring invalid distribution -rotobuf (c:\\users\\xps\\anaconda3\\lib\\site-packages)\n",
      "WARNING: Ignoring invalid distribution -rotobuf (c:\\users\\xps\\anaconda3\\lib\\site-packages)\n",
      "WARNING: Ignoring invalid distribution -rotobuf (c:\\users\\xps\\anaconda3\\lib\\site-packages)\n",
      "WARNING: Ignoring invalid distribution -rotobuf (c:\\users\\xps\\anaconda3\\lib\\site-packages)\n",
      "WARNING: Ignoring invalid distribution -rotobuf (c:\\users\\xps\\anaconda3\\lib\\site-packages)\n"
     ]
    },
    {
     "name": "stdout",
     "output_type": "stream",
     "text": [
      "Collecting sagemaker"
     ]
    },
    {
     "name": "stderr",
     "output_type": "stream",
     "text": [
      "WARNING: Ignoring invalid distribution -rotobuf (c:\\users\\xps\\anaconda3\\lib\\site-packages)\n",
      "WARNING: Ignoring invalid distribution -rotobuf (c:\\users\\xps\\anaconda3\\lib\\site-packages)\n",
      "WARNING: Ignoring invalid distribution -rotobuf (c:\\users\\xps\\anaconda3\\lib\\site-packages)\n",
      "WARNING: Ignoring invalid distribution -rotobuf (c:\\users\\xps\\anaconda3\\lib\\site-packages)\n",
      "WARNING: Ignoring invalid distribution -rotobuf (c:\\users\\xps\\anaconda3\\lib\\site-packages)\n",
      "WARNING: Ignoring invalid distribution -rotobuf (c:\\users\\xps\\anaconda3\\lib\\site-packages)\n",
      "WARNING: Ignoring invalid distribution -rotobuf (c:\\users\\xps\\anaconda3\\lib\\site-packages)\n",
      "WARNING: Ignoring invalid distribution -rotobuf (c:\\users\\xps\\anaconda3\\lib\\site-packages)\n",
      "WARNING: Ignoring invalid distribution -rotobuf (c:\\users\\xps\\anaconda3\\lib\\site-packages)\n",
      "WARNING: Ignoring invalid distribution -rotobuf (c:\\users\\xps\\anaconda3\\lib\\site-packages)\n",
      "WARNING: Ignoring invalid distribution -rotobuf (c:\\users\\xps\\anaconda3\\lib\\site-packages)\n",
      "WARNING: Ignoring invalid distribution -rotobuf (c:\\users\\xps\\anaconda3\\lib\\site-packages)\n",
      "WARNING: Ignoring invalid distribution -rotobuf (c:\\users\\xps\\anaconda3\\lib\\site-packages)\n",
      "WARNING: Ignoring invalid distribution -rotobuf (c:\\users\\xps\\anaconda3\\lib\\site-packages)\n",
      "WARNING: Ignoring invalid distribution -rotobuf (c:\\users\\xps\\anaconda3\\lib\\site-packages)\n",
      "WARNING: Ignoring invalid distribution -rotobuf (c:\\users\\xps\\anaconda3\\lib\\site-packages)\n",
      "WARNING: Ignoring invalid distribution -rotobuf (c:\\users\\xps\\anaconda3\\lib\\site-packages)\n",
      "WARNING: Ignoring invalid distribution -rotobuf (c:\\users\\xps\\anaconda3\\lib\\site-packages)\n",
      "WARNING: Ignoring invalid distribution -rotobuf (c:\\users\\xps\\anaconda3\\lib\\site-packages)\n"
     ]
    },
    {
     "name": "stdout",
     "output_type": "stream",
     "text": [
      "\n",
      "  Downloading sagemaker-2.127.0.tar.gz (655 kB)\n",
      "     -------------------------------------- 655.0/655.0 kB 1.5 MB/s eta 0:00:00\n",
      "  Preparing metadata (setup.py): started\n",
      "  Preparing metadata (setup.py): finished with status 'done'\n",
      "Requirement already satisfied: attrs<23,>=20.3.0 in c:\\users\\xps\\anaconda3\\lib\\site-packages (from sagemaker) (21.2.0)\n",
      "Collecting boto3<2.0,>=1.26.28\n",
      "  Downloading boto3-1.26.45-py3-none-any.whl (132 kB)\n",
      "     ------------------------------------ 132.7/132.7 kB 489.7 kB/s eta 0:00:00\n",
      "Requirement already satisfied: google-pasta in c:\\users\\xps\\anaconda3\\lib\\site-packages (from sagemaker) (0.2.0)\n",
      "Requirement already satisfied: numpy<2.0,>=1.9.0 in c:\\users\\xps\\anaconda3\\lib\\site-packages (from sagemaker) (1.20.3)\n",
      "Requirement already satisfied: protobuf<4.0,>=3.1 in c:\\users\\xps\\anaconda3\\lib\\site-packages (from sagemaker) (3.19.4)\n",
      "Collecting protobuf3-to-dict<1.0,>=0.1.5\n",
      "  Downloading protobuf3-to-dict-0.1.5.tar.gz (3.5 kB)\n",
      "  Preparing metadata (setup.py): started\n",
      "  Preparing metadata (setup.py): finished with status 'done'\n",
      "Collecting smdebug_rulesconfig==1.0.1\n",
      "  Downloading smdebug_rulesconfig-1.0.1-py2.py3-none-any.whl (20 kB)\n",
      "Requirement already satisfied: importlib-metadata<5.0,>=1.4.0 in c:\\users\\xps\\anaconda3\\lib\\site-packages (from sagemaker) (4.8.1)\n",
      "Requirement already satisfied: packaging>=20.0 in c:\\users\\xps\\anaconda3\\lib\\site-packages (from sagemaker) (21.0)\n",
      "Requirement already satisfied: pandas in c:\\users\\xps\\anaconda3\\lib\\site-packages (from sagemaker) (1.3.4)\n",
      "Collecting pathos\n",
      "  Downloading pathos-0.3.0-py3-none-any.whl (79 kB)\n",
      "     -------------------------------------- 79.8/79.8 kB 317.7 kB/s eta 0:00:00\n",
      "Collecting schema\n",
      "  Downloading schema-0.7.5-py2.py3-none-any.whl (17 kB)\n",
      "Collecting jmespath<2.0.0,>=0.7.1\n",
      "  Downloading jmespath-1.0.1-py3-none-any.whl (20 kB)\n",
      "Collecting botocore<1.30.0,>=1.29.45\n",
      "  Downloading botocore-1.29.45-py3-none-any.whl (10.3 MB)\n",
      "     ---------------------------------------- 10.3/10.3 MB 1.4 MB/s eta 0:00:00\n",
      "Collecting s3transfer<0.7.0,>=0.6.0\n",
      "  Downloading s3transfer-0.6.0-py3-none-any.whl (79 kB)\n",
      "     -------------------------------------- 79.6/79.6 kB 295.0 kB/s eta 0:00:00\n",
      "Requirement already satisfied: zipp>=0.5 in c:\\users\\xps\\anaconda3\\lib\\site-packages (from importlib-metadata<5.0,>=1.4.0->sagemaker) (3.6.0)\n",
      "Requirement already satisfied: pyparsing>=2.0.2 in c:\\users\\xps\\anaconda3\\lib\\site-packages (from packaging>=20.0->sagemaker) (3.0.4)\n",
      "Requirement already satisfied: six in c:\\users\\xps\\anaconda3\\lib\\site-packages (from protobuf3-to-dict<1.0,>=0.1.5->sagemaker) (1.16.0)\n",
      "Requirement already satisfied: pytz>=2017.3 in c:\\users\\xps\\anaconda3\\lib\\site-packages (from pandas->sagemaker) (2021.3)\n",
      "Requirement already satisfied: python-dateutil>=2.7.3 in c:\\users\\xps\\anaconda3\\lib\\site-packages (from pandas->sagemaker) (2.8.2)\n",
      "Collecting dill>=0.3.6\n",
      "  Downloading dill-0.3.6-py3-none-any.whl (110 kB)\n",
      "     -------------------------------------- 110.5/110.5 kB 1.1 MB/s eta 0:00:00\n",
      "Collecting pox>=0.3.2\n",
      "  Downloading pox-0.3.2-py3-none-any.whl (29 kB)\n",
      "Collecting multiprocess>=0.70.14\n",
      "  Downloading multiprocess-0.70.14-py39-none-any.whl (132 kB)\n",
      "     -------------------------------------- 132.9/132.9 kB 1.3 MB/s eta 0:00:00\n",
      "Collecting ppft>=1.7.6.6\n",
      "  Downloading ppft-1.7.6.6-py3-none-any.whl (52 kB)\n",
      "     --------------------------------------- 52.8/52.8 kB 82.6 kB/s eta 0:00:00\n",
      "Requirement already satisfied: contextlib2>=0.5.5 in c:\\users\\xps\\anaconda3\\lib\\site-packages (from schema->sagemaker) (0.6.0.post1)\n",
      "Requirement already satisfied: urllib3<1.27,>=1.25.4 in c:\\users\\xps\\anaconda3\\lib\\site-packages (from botocore<1.30.0,>=1.29.45->boto3<2.0,>=1.26.28->sagemaker) (1.26.7)\n",
      "Building wheels for collected packages: sagemaker, protobuf3-to-dict\n",
      "  Building wheel for sagemaker (setup.py): started\n",
      "  Building wheel for sagemaker (setup.py): finished with status 'done'\n",
      "  Created wheel for sagemaker: filename=sagemaker-2.127.0-py2.py3-none-any.whl size=890097 sha256=4e254dbdd8755b55977d8d3b2df98d39010b42d9d47cf32d3a9478f7eb96a963\n",
      "  Stored in directory: c:\\users\\xps\\appdata\\local\\pip\\cache\\wheels\\af\\c0\\ee\\84c68481ca554ec7da91b9103faf97f06d48b35d6dc69ee7ab\n",
      "  Building wheel for protobuf3-to-dict (setup.py): started\n",
      "  Building wheel for protobuf3-to-dict (setup.py): finished with status 'done'\n",
      "  Created wheel for protobuf3-to-dict: filename=protobuf3_to_dict-0.1.5-py3-none-any.whl size=4029 sha256=d80873c27a7161facf3cc413a013a14cefdc4572fc83085438a3a6ab3a4ea007\n",
      "  Stored in directory: c:\\users\\xps\\appdata\\local\\pip\\cache\\wheels\\72\\2a\\3a\\6acb7be484a3e5c4407e4c6edf0da483aae5ca7229762ef270\n",
      "Successfully built sagemaker protobuf3-to-dict\n",
      "Installing collected packages: smdebug_rulesconfig, schema, protobuf3-to-dict, ppft, pox, jmespath, dill, multiprocess, botocore, s3transfer, pathos, boto3, sagemaker\n",
      "Successfully installed boto3-1.26.45 botocore-1.29.45 dill-0.3.6 jmespath-1.0.1 multiprocess-0.70.14 pathos-0.3.0 pox-0.3.2 ppft-1.7.6.6 protobuf3-to-dict-0.1.5 s3transfer-0.6.0 sagemaker-2.127.0 schema-0.7.5 smdebug_rulesconfig-1.0.1\n",
      "Requirement already satisfied: nltk in c:\\users\\xps\\anaconda3\\lib\\site-packages (3.6.5)\n",
      "Collecting nltk\n",
      "  Downloading nltk-3.8.1-py3-none-any.whl (1.5 MB)\n",
      "     ---------------------------------------- 1.5/1.5 MB 1.2 MB/s eta 0:00:00\n",
      "Requirement already satisfied: joblib in c:\\users\\xps\\anaconda3\\lib\\site-packages (from nltk) (1.2.0)\n",
      "Requirement already satisfied: tqdm in c:\\users\\xps\\anaconda3\\lib\\site-packages (from nltk) (4.62.3)\n",
      "Requirement already satisfied: click in c:\\users\\xps\\anaconda3\\lib\\site-packages (from nltk) (8.0.3)\n",
      "Requirement already satisfied: regex>=2021.8.3 in c:\\users\\xps\\anaconda3\\lib\\site-packages (from nltk) (2021.8.3)\n",
      "Requirement already satisfied: colorama in c:\\users\\xps\\anaconda3\\lib\\site-packages (from click->nltk) (0.4.4)\n",
      "Installing collected packages: nltk\n",
      "  Attempting uninstall: nltk\n",
      "    Found existing installation: nltk 3.6.5\n",
      "    Uninstalling nltk-3.6.5:\n",
      "      Successfully uninstalled nltk-3.6.5\n",
      "Successfully installed nltk-3.8.1\n"
     ]
    },
    {
     "name": "stderr",
     "output_type": "stream",
     "text": [
      "WARNING: Ignoring invalid distribution -rotobuf (c:\\users\\xps\\anaconda3\\lib\\site-packages)\n",
      "WARNING: Ignoring invalid distribution -rotobuf (c:\\users\\xps\\anaconda3\\lib\\site-packages)\n",
      "WARNING: Ignoring invalid distribution -rotobuf (c:\\users\\xps\\anaconda3\\lib\\site-packages)\n",
      "    WARNING: Ignoring invalid distribution -rotobuf (c:\\users\\xps\\anaconda3\\lib\\site-packages)\n",
      "WARNING: Ignoring invalid distribution -rotobuf (c:\\users\\xps\\anaconda3\\lib\\site-packages)\n",
      "WARNING: Ignoring invalid distribution -rotobuf (c:\\users\\xps\\anaconda3\\lib\\site-packages)\n",
      "WARNING: Ignoring invalid distribution -rotobuf (c:\\users\\xps\\anaconda3\\lib\\site-packages)\n",
      "WARNING: Ignoring invalid distribution -rotobuf (c:\\users\\xps\\anaconda3\\lib\\site-packages)\n"
     ]
    },
    {
     "name": "stdout",
     "output_type": "stream",
     "text": [
      "Requirement already satisfied: seaborn in c:\\users\\xps\\anaconda3\\lib\\site-packages (0.11.2)\n",
      "Collecting seaborn\n",
      "  Downloading seaborn-0.12.2-py3-none-any.whl (293 kB)\n",
      "     ------------------------------------ 293.3/293.3 kB 723.9 kB/s eta 0:00:00\n",
      "Requirement already satisfied: numpy!=1.24.0,>=1.17 in c:\\users\\xps\\anaconda3\\lib\\site-packages (from seaborn) (1.20.3)\n",
      "Requirement already satisfied: pandas>=0.25 in c:\\users\\xps\\anaconda3\\lib\\site-packages (from seaborn) (1.3.4)\n",
      "Requirement already satisfied: matplotlib!=3.6.1,>=3.1 in c:\\users\\xps\\anaconda3\\lib\\site-packages (from seaborn) (3.4.3)\n",
      "Requirement already satisfied: kiwisolver>=1.0.1 in c:\\users\\xps\\anaconda3\\lib\\site-packages (from matplotlib!=3.6.1,>=3.1->seaborn) (1.3.1)\n",
      "Requirement already satisfied: pyparsing>=2.2.1 in c:\\users\\xps\\anaconda3\\lib\\site-packages (from matplotlib!=3.6.1,>=3.1->seaborn) (3.0.4)\n",
      "Requirement already satisfied: pillow>=6.2.0 in c:\\users\\xps\\anaconda3\\lib\\site-packages (from matplotlib!=3.6.1,>=3.1->seaborn) (8.4.0)\n",
      "Requirement already satisfied: python-dateutil>=2.7 in c:\\users\\xps\\anaconda3\\lib\\site-packages (from matplotlib!=3.6.1,>=3.1->seaborn) (2.8.2)\n",
      "Requirement already satisfied: cycler>=0.10 in c:\\users\\xps\\anaconda3\\lib\\site-packages (from matplotlib!=3.6.1,>=3.1->seaborn) (0.10.0)\n",
      "Requirement already satisfied: pytz>=2017.3 in c:\\users\\xps\\anaconda3\\lib\\site-packages (from pandas>=0.25->seaborn) (2021.3)\n",
      "Requirement already satisfied: six in c:\\users\\xps\\anaconda3\\lib\\site-packages (from cycler>=0.10->matplotlib!=3.6.1,>=3.1->seaborn) (1.16.0)\n",
      "Installing collected packages: seaborn\n",
      "  Attempting uninstall: seaborn\n",
      "    Found existing installation: seaborn 0.11.2\n",
      "    Uninstalling seaborn-0.11.2:\n",
      "      Successfully uninstalled seaborn-0.11.2\n",
      "Successfully installed seaborn-0.12.2\n"
     ]
    },
    {
     "name": "stderr",
     "output_type": "stream",
     "text": [
      "WARNING: Ignoring invalid distribution -rotobuf (c:\\users\\xps\\anaconda3\\lib\\site-packages)\n",
      "WARNING: Ignoring invalid distribution -rotobuf (c:\\users\\xps\\anaconda3\\lib\\site-packages)\n",
      "WARNING: Ignoring invalid distribution -rotobuf (c:\\users\\xps\\anaconda3\\lib\\site-packages)\n",
      "    WARNING: Ignoring invalid distribution -rotobuf (c:\\users\\xps\\anaconda3\\lib\\site-packages)\n",
      "WARNING: Ignoring invalid distribution -rotobuf (c:\\users\\xps\\anaconda3\\lib\\site-packages)\n",
      "WARNING: Ignoring invalid distribution -rotobuf (c:\\users\\xps\\anaconda3\\lib\\site-packages)\n",
      "WARNING: Ignoring invalid distribution -rotobuf (c:\\users\\xps\\anaconda3\\lib\\site-packages)\n",
      "WARNING: Ignoring invalid distribution -rotobuf (c:\\users\\xps\\anaconda3\\lib\\site-packages)\n"
     ]
    }
   ],
   "source": [
    "#Install/Upgrade dependencies\n",
    "!pip install --upgrade pip\n",
    "!pip install --upgrade scikit-learn\n",
    "!pip install --upgrade sagemaker\n",
    "!pip install --upgrade nltk\n",
    "!pip install --upgrade seaborn"
   ]
  },
  {
   "cell_type": "code",
   "execution_count": 234,
   "id": "0593b614",
   "metadata": {},
   "outputs": [
    {
     "name": "stderr",
     "output_type": "stream",
     "text": [
      "[nltk_data] Downloading package punkt to\n",
      "[nltk_data]     C:\\Users\\xps\\AppData\\Roaming\\nltk_data...\n",
      "[nltk_data]   Package punkt is already up-to-date!\n",
      "[nltk_data] Downloading package stopwords to\n",
      "[nltk_data]     C:\\Users\\xps\\AppData\\Roaming\\nltk_data...\n",
      "[nltk_data]   Package stopwords is already up-to-date!\n",
      "[nltk_data] Downloading package averaged_perceptron_tagger to\n",
      "[nltk_data]     C:\\Users\\xps\\AppData\\Roaming\\nltk_data...\n",
      "[nltk_data]   Package averaged_perceptron_tagger is already up-to-\n",
      "[nltk_data]       date!\n",
      "[nltk_data] Downloading package wordnet to\n",
      "[nltk_data]     C:\\Users\\xps\\AppData\\Roaming\\nltk_data...\n",
      "[nltk_data]   Package wordnet is already up-to-date!\n"
     ]
    },
    {
     "data": {
      "text/plain": [
       "True"
      ]
     },
     "execution_count": 234,
     "metadata": {},
     "output_type": "execute_result"
    }
   ],
   "source": [
    "import os, io, struct\n",
    "import numpy as np\n",
    "import pandas as pd\n",
    "from sklearn.metrics import roc_auc_score, roc_curve, auc, confusion_matrix\n",
    "import seaborn as sns\n",
    "import matplotlib.pyplot as plt\n",
    "from datetime import datetime\n",
    "\n",
    "import nltk\n",
    "nltk.download('punkt')\n",
    "nltk.download('stopwords')\n",
    "nltk.download('averaged_perceptron_tagger')\n",
    "nltk.download('wordnet')"
   ]
  },
  {
   "cell_type": "markdown",
   "id": "5c663fa9",
   "metadata": {},
   "source": [
    "The following code cell includes a few helper functions that  plot a confusion matrix and calculate other key metrics."
   ]
  },
  {
   "cell_type": "code",
   "execution_count": 235,
   "id": "7cea63fb",
   "metadata": {},
   "outputs": [],
   "source": [
    "\n",
    "def plot_confusion_matrix(test_labels, target_predicted):\n",
    "    matrix = confusion_matrix(test_labels, target_predicted)\n",
    "    df_confusion = pd.DataFrame(matrix)\n",
    "    colormap = sns.color_palette(\"BrBG\", 10)\n",
    "    sns.heatmap(df_confusion, annot=True, fmt='.2f', cbar=None, cmap=colormap)\n",
    "    plt.title(\"Confusion Matrix\")\n",
    "    plt.tight_layout()\n",
    "    plt.ylabel(\"True Class\")\n",
    "    plt.xlabel(\"Predicted Class\")\n",
    "    plt.show()\n",
    "    \n",
    "def print_metrics(test_labels, target_predicted_binary):\n",
    "    TN, FP, FN, TP = confusion_matrix(test_labels, target_predicted_binary).ravel()\n",
    "    # Sensitivity, hit rate, recall, or true positive rate\n",
    "    Sensitivity  = float(TP)/(TP+FN)*100\n",
    "    # Specificity or true negative rate\n",
    "    Specificity  = float(TN)/(TN+FP)*100\n",
    "    # Precision or positive predictive value\n",
    "    Precision = float(TP)/(TP+FP)*100\n",
    "    # Negative predictive value\n",
    "    NPV = float(TN)/(TN+FN)*100\n",
    "    # Fall out or false positive rate\n",
    "    FPR = float(FP)/(FP+TN)*100\n",
    "    # False negative rate\n",
    "    FNR = float(FN)/(TP+FN)*100\n",
    "    # False discovery rate\n",
    "    FDR = float(FP)/(TP+FP)*100\n",
    "    # Overall accuracy\n",
    "    ACC = float(TP+TN)/(TP+FP+FN+TN)*100\n",
    "\n",
    "    print(f\"Sensitivity or TPR: {Sensitivity}%\")    \n",
    "    print(f\"Specificity or TNR: {Specificity}%\") \n",
    "    print(f\"Precision: {Precision}%\")   \n",
    "    print(f\"Negative Predictive Value: {NPV}%\")  \n",
    "    print( f\"False Positive Rate: {FPR}%\") \n",
    "    print(f\"False Negative Rate: {FNR}%\")  \n",
    "    print(f\"False Discovery Rate: {FDR}%\" )\n",
    "    print(f\"Accuracy: {ACC}%\") \n",
    "\n"
   ]
  },
  {
   "cell_type": "markdown",
   "id": "6996dbdb",
   "metadata": {},
   "source": [
    "# 2. Reading the dataset"
   ]
  },
  {
   "cell_type": "markdown",
   "id": "e287a4aa",
   "metadata": {},
   "source": [
    "in this section, you will load the dataset. The dataset has already been downloaded by Amazon Sagemaker Studio. Use the pandas library to read the dataset."
   ]
  },
  {
   "cell_type": "code",
   "execution_count": 236,
   "id": "99dd9741",
   "metadata": {},
   "outputs": [],
   "source": [
    "df = pd.read_csv('../data/product_reviews/1429_2.csv', header=0)"
   ]
  },
  {
   "cell_type": "markdown",
   "id": "0e3ae69e",
   "metadata": {},
   "source": [
    "# 3. Performing exploratory data analysis"
   ]
  },
  {
   "cell_type": "code",
   "execution_count": 237,
   "id": "0387f768",
   "metadata": {},
   "outputs": [
    {
     "data": {
      "text/html": [
       "<div>\n",
       "<style scoped>\n",
       "    .dataframe tbody tr th:only-of-type {\n",
       "        vertical-align: middle;\n",
       "    }\n",
       "\n",
       "    .dataframe tbody tr th {\n",
       "        vertical-align: top;\n",
       "    }\n",
       "\n",
       "    .dataframe thead th {\n",
       "        text-align: right;\n",
       "    }\n",
       "</style>\n",
       "<table border=\"1\" class=\"dataframe\">\n",
       "  <thead>\n",
       "    <tr style=\"text-align: right;\">\n",
       "      <th></th>\n",
       "      <th>reviews.rating</th>\n",
       "      <th>reviews.text</th>\n",
       "    </tr>\n",
       "  </thead>\n",
       "  <tbody>\n",
       "    <tr>\n",
       "      <th>0</th>\n",
       "      <td>5.0</td>\n",
       "      <td>This product so far has not disappointed. My c...</td>\n",
       "    </tr>\n",
       "    <tr>\n",
       "      <th>1</th>\n",
       "      <td>5.0</td>\n",
       "      <td>great for beginner or experienced person. Boug...</td>\n",
       "    </tr>\n",
       "    <tr>\n",
       "      <th>2</th>\n",
       "      <td>5.0</td>\n",
       "      <td>Inexpensive tablet for him to use and learn on...</td>\n",
       "    </tr>\n",
       "    <tr>\n",
       "      <th>3</th>\n",
       "      <td>4.0</td>\n",
       "      <td>I've had my Fire HD 8 two weeks now and I love...</td>\n",
       "    </tr>\n",
       "    <tr>\n",
       "      <th>4</th>\n",
       "      <td>5.0</td>\n",
       "      <td>I bought this for my grand daughter when she c...</td>\n",
       "    </tr>\n",
       "    <tr>\n",
       "      <th>5</th>\n",
       "      <td>5.0</td>\n",
       "      <td>This amazon fire 8 inch tablet is the perfect ...</td>\n",
       "    </tr>\n",
       "    <tr>\n",
       "      <th>6</th>\n",
       "      <td>4.0</td>\n",
       "      <td>Great for e-reading on the go, nice and light ...</td>\n",
       "    </tr>\n",
       "    <tr>\n",
       "      <th>7</th>\n",
       "      <td>5.0</td>\n",
       "      <td>I gave this as a Christmas gift to my inlaws, ...</td>\n",
       "    </tr>\n",
       "    <tr>\n",
       "      <th>8</th>\n",
       "      <td>5.0</td>\n",
       "      <td>Great as a device to read books. I like that i...</td>\n",
       "    </tr>\n",
       "    <tr>\n",
       "      <th>9</th>\n",
       "      <td>5.0</td>\n",
       "      <td>I love ordering books and reading them with th...</td>\n",
       "    </tr>\n",
       "  </tbody>\n",
       "</table>\n",
       "</div>"
      ],
      "text/plain": [
       "   reviews.rating                                       reviews.text\n",
       "0             5.0  This product so far has not disappointed. My c...\n",
       "1             5.0  great for beginner or experienced person. Boug...\n",
       "2             5.0  Inexpensive tablet for him to use and learn on...\n",
       "3             4.0  I've had my Fire HD 8 two weeks now and I love...\n",
       "4             5.0  I bought this for my grand daughter when she c...\n",
       "5             5.0  This amazon fire 8 inch tablet is the perfect ...\n",
       "6             4.0  Great for e-reading on the go, nice and light ...\n",
       "7             5.0  I gave this as a Christmas gift to my inlaws, ...\n",
       "8             5.0  Great as a device to read books. I like that i...\n",
       "9             5.0  I love ordering books and reading them with th..."
      ]
     },
     "execution_count": 237,
     "metadata": {},
     "output_type": "execute_result"
    }
   ],
   "source": [
    "df.head(10)"
   ]
  },
  {
   "cell_type": "code",
   "execution_count": 238,
   "id": "95b59d40",
   "metadata": {},
   "outputs": [
    {
     "data": {
      "text/plain": [
       "(34660, 2)"
      ]
     },
     "execution_count": 238,
     "metadata": {},
     "output_type": "execute_result"
    }
   ],
   "source": [
    "df.shape"
   ]
  },
  {
   "cell_type": "code",
   "execution_count": 239,
   "id": "4af81096",
   "metadata": {
    "scrolled": true
   },
   "outputs": [
    {
     "name": "stdout",
     "output_type": "stream",
     "text": [
      "<class 'pandas.core.frame.DataFrame'>\n",
      "RangeIndex: 34660 entries, 0 to 34659\n",
      "Data columns (total 2 columns):\n",
      " #   Column          Non-Null Count  Dtype  \n",
      "---  ------          --------------  -----  \n",
      " 0   reviews.rating  34627 non-null  float64\n",
      " 1   reviews.text    34659 non-null  object \n",
      "dtypes: float64(1), object(1)\n",
      "memory usage: 541.7+ KB\n"
     ]
    }
   ],
   "source": [
    "df.info()"
   ]
  },
  {
   "cell_type": "markdown",
   "id": "15d29de7",
   "metadata": {},
   "source": [
    "check null values"
   ]
  },
  {
   "cell_type": "code",
   "execution_count": 240,
   "id": "2884bd87",
   "metadata": {},
   "outputs": [
    {
     "data": {
      "text/plain": [
       "1"
      ]
     },
     "execution_count": 240,
     "metadata": {},
     "output_type": "execute_result"
    }
   ],
   "source": [
    "df['reviews.text'].isnull().sum()"
   ]
  },
  {
   "cell_type": "code",
   "execution_count": 241,
   "id": "eede4fa6",
   "metadata": {},
   "outputs": [
    {
     "data": {
      "text/plain": [
       "33"
      ]
     },
     "execution_count": 241,
     "metadata": {},
     "output_type": "execute_result"
    }
   ],
   "source": [
    "df['reviews.rating'].isnull().sum()"
   ]
  },
  {
   "cell_type": "markdown",
   "id": "ab666ff1",
   "metadata": {},
   "source": [
    "drop null values"
   ]
  },
  {
   "cell_type": "code",
   "execution_count": 242,
   "id": "8b0c31a5",
   "metadata": {},
   "outputs": [],
   "source": [
    "df.dropna(inplace=True)"
   ]
  },
  {
   "cell_type": "code",
   "execution_count": 243,
   "id": "48379a2e",
   "metadata": {},
   "outputs": [
    {
     "data": {
      "text/plain": [
       "reviews.rating    0\n",
       "reviews.text      0\n",
       "dtype: int64"
      ]
     },
     "execution_count": 243,
     "metadata": {},
     "output_type": "execute_result"
    }
   ],
   "source": [
    "df.isnull().sum()"
   ]
  },
  {
   "cell_type": "code",
   "execution_count": 244,
   "id": "1c7614d4",
   "metadata": {},
   "outputs": [
    {
     "data": {
      "text/plain": [
       "5.0    23774\n",
       "4.0     8541\n",
       "3.0     1499\n",
       "1.0      410\n",
       "2.0      402\n",
       "Name: reviews.rating, dtype: int64"
      ]
     },
     "execution_count": 244,
     "metadata": {},
     "output_type": "execute_result"
    }
   ],
   "source": [
    "df['reviews.rating'].value_counts()"
   ]
  },
  {
   "cell_type": "code",
   "execution_count": 245,
   "id": "d00fb68e",
   "metadata": {},
   "outputs": [
    {
     "data": {
      "text/plain": [
       "1.0    33814\n",
       "0.0      812\n",
       "Name: reviews.rating, dtype: int64"
      ]
     },
     "execution_count": 245,
     "metadata": {},
     "output_type": "execute_result"
    }
   ],
   "source": [
    "df = df.replace({1:0, 2:0,3:1,4:1,5:1})\n",
    "df['reviews.rating'].value_counts()"
   ]
  },
  {
   "cell_type": "raw",
   "id": "95d294df",
   "metadata": {},
   "source": [
    "dataset classes distribution"
   ]
  },
  {
   "cell_type": "code",
   "execution_count": 246,
   "id": "ef51bd92",
   "metadata": {},
   "outputs": [
    {
     "data": {
      "image/png": "[encoded data removed]",
      "text/plain": [
       "<Figure size 432x288 with 1 Axes>"
      ]
     },
     "metadata": {
      "needs_background": "light"
     },
     "output_type": "display_data"
    }
   ],
   "source": [
    "import matplotlib.pyplot as plt\n",
    "import seaborn as sns\n",
    "\n",
    "(df.groupby('reviews.rating').size()/len(df) ).plot(kind='bar',color = \"#4CAF50\")\n",
    "plt.ylabel('Frequency')\n",
    "plt.title('Distribution of classes')\n",
    "plt.show()"
   ]
  },
  {
   "cell_type": "code",
   "execution_count": null,
   "id": "ee1ad05c",
   "metadata": {},
   "outputs": [],
   "source": []
  },
  {
   "cell_type": "markdown",
   "id": "eae1b914",
   "metadata": {},
   "source": [
    "# 4. Running the first pass: Minimal processing\n"
   ]
  },
  {
   "cell_type": "code",
   "execution_count": 247,
   "id": "22a5b458",
   "metadata": {},
   "outputs": [],
   "source": [
    "import nltk, re\n",
    "from nltk.corpus import stopwords\n",
    "from nltk.stem import SnowballStemmer\n",
    "from nltk.tokenize import word_tokenize"
   ]
  },
  {
   "cell_type": "markdown",
   "id": "6d336825",
   "metadata": {},
   "source": [
    "# Challenge: Splitting the data into datasets for training, validation, and testing\n"
   ]
  },
  {
   "cell_type": "code",
   "execution_count": 248,
   "id": "665b7b62",
   "metadata": {},
   "outputs": [],
   "source": [
    "from sklearn.model_selection import train_test_split\n",
    "# uncomment the following lines and implement your solution\n",
    "def split_data(df):\n",
    "    # train, test_and_validate = train_test_split(....)\n",
    "    # test, validate = train_test_split(....)\n",
    "    ### BEGIN_SOLUTION\n",
    "    train, test_and_validate = train_test_split(df,\n",
    "                                            test_size=0.2,\n",
    "                                            shuffle=True,\n",
    "                                            random_state=324\n",
    "                                            )\n",
    "    test, validate = train_test_split(test_and_validate,\n",
    "                                                test_size=0.5,\n",
    "                                                shuffle=True,\n",
    "                                                random_state=324)\n",
    "    ### END_SOLUTION\n",
    "    return train, validate, test"
   ]
  },
  {
   "cell_type": "markdown",
   "id": "6543f8be",
   "metadata": {},
   "source": [
    "Check whether your datasets are split correctly by running the following code cell."
   ]
  },
  {
   "cell_type": "code",
   "execution_count": 90,
   "id": "6940e50a",
   "metadata": {},
   "outputs": [
    {
     "name": "stdout",
     "output_type": "stream",
     "text": [
      "(27700, 2)\n",
      "(3463, 2)\n",
      "(3463, 2)\n"
     ]
    }
   ],
   "source": [
    "train, validate, test = split_data(df)\n",
    "print(train.shape)\n",
    "print(test.shape)\n",
    "print(validate.shape)"
   ]
  },
  {
   "cell_type": "markdown",
   "id": "07ba8714",
   "metadata": {},
   "source": [
    "# 5. Second pass: Normalizing the text\n",
    "([Go to top](#Lab-4.1:-Implementing-Sentiment-Analysis))\n",
    "\n",
    "In this section, you will perform some standard preprocessing tasks on the text before you retrain the model."
   ]
  },
  {
   "cell_type": "code",
   "execution_count": 249,
   "id": "ab3f2abc",
   "metadata": {},
   "outputs": [],
   "source": [
    "# Get a list of stopwords from the NLTK library\n",
    "stop = stopwords.words('english')\n",
    "\n",
    "def remove_stopwords(stopwords):\n",
    "    # Implement this function\n",
    "    excluding = ['against', 'not', 'don', 'don\\'t','ain', 'are', 'aren\\'t']\n",
    "    ### BEGIN_SOLUTION\n",
    "    excluding = ['against', 'not', 'don', 'don\\'t','ain', 'are', 'aren\\'t', 'could', 'couldn\\'t',\n",
    "             'did', 'didn\\'t', 'does', 'doesn\\'t', 'had', 'hadn\\'t', 'has', 'hasn\\'t', \n",
    "             'have', 'haven\\'t', 'is', 'isn\\'t', 'might', 'mightn\\'t', 'must', 'mustn\\'t',\n",
    "             'need', 'needn\\'t','should', 'shouldn\\'t', 'was', 'wasn\\'t', 'were', \n",
    "             'weren\\'t', 'won\\'t', 'would', 'wouldn\\'t']\n",
    "    ### END_SOLUTION\n",
    "    return [word for word in stop if word not in excluding]\n",
    "\n",
    "# New stopword list\n",
    "stopwords = remove_stopwords(stop)\n"
   ]
  },
  {
   "cell_type": "code",
   "execution_count": 250,
   "id": "eab88ee1",
   "metadata": {},
   "outputs": [],
   "source": [
    "snow = SnowballStemmer('english')\n",
    "def clean(texts):\n",
    "    final_text_list=[]\n",
    "    for sent in texts:\n",
    "        \n",
    "        # Check if the sentence is a missing value\n",
    "        if isinstance(sent, str) == False:\n",
    "            sent = ''\n",
    "            \n",
    "        filtered_sentence=[]\n",
    "        \n",
    "        sent = sent.lower() # Lowercase \n",
    "        sent = sent.strip() # Remove leading/trailing whitespace\n",
    "        sent = re.sub('\\s+', ' ', sent) # Remove extra space and tabs\n",
    "        sent = re.compile('<.*?>').sub('', sent) # Remove HTML tags/markups:\n",
    "        \n",
    "        for w in word_tokenize(sent):\n",
    "            # Applying some custom filtering here, feel free to try different things\n",
    "            # Check if it is not numeric and its length>2 and not in stopwords\n",
    "            if(not w.isnumeric()) and (len(w)>2) and (w not in stopwords):  \n",
    "                # Stem and add to filtered list\n",
    "                filtered_sentence.append(snow.stem(w))\n",
    "        final_string = \" \".join(filtered_sentence) # Final string of cleaned words\n",
    " \n",
    "        final_text_list.append(final_string)\n",
    "        \n",
    "    return final_text_list"
   ]
  },
  {
   "cell_type": "code",
   "execution_count": 251,
   "id": "af006634",
   "metadata": {},
   "outputs": [],
   "source": [
    "from sklearn.model_selection import train_test_split\n",
    "\n",
    "X_train, X_val, y_train, y_val = train_test_split(df[['reviews.text', ]],\n",
    "                                                  df['reviews.rating'],\n",
    "                                                  test_size=0.20,\n",
    "                                                  shuffle=True,\n",
    "                                                  random_state=324\n",
    "                                                 )\n",
    "\n",
    "X_val, X_test, y_val, y_test = train_test_split(X_val,\n",
    "                                                y_val,\n",
    "                                                test_size=0.5,\n",
    "                                                shuffle=True,\n",
    "                                                random_state=324)"
   ]
  },
  {
   "cell_type": "markdown",
   "id": "22c4847f",
   "metadata": {},
   "source": [
    "# We will use the RandomOverSampler function to balance the classes.\n",
    "\n"
   ]
  },
  {
   "cell_type": "code",
   "execution_count": 37,
   "id": "ee5263ab",
   "metadata": {},
   "outputs": [
    {
     "name": "stdout",
     "output_type": "stream",
     "text": [
      "Requirement already satisfied: imbalanced-learn in c:\\users\\xps\\anaconda3\\lib\\site-packages (0.10.0)\n",
      "Requirement already satisfied: numpy>=1.17.3 in c:\\users\\xps\\anaconda3\\lib\\site-packages (from imbalanced-learn) (1.20.3)\n",
      "Requirement already satisfied: scipy>=1.3.2 in c:\\users\\xps\\anaconda3\\lib\\site-packages (from imbalanced-learn) (1.7.1)\n",
      "Requirement already satisfied: scikit-learn>=1.0.2 in c:\\users\\xps\\anaconda3\\lib\\site-packages (from imbalanced-learn) (1.2.0)\n",
      "Requirement already satisfied: joblib>=1.1.1 in c:\\users\\xps\\anaconda3\\lib\\site-packages (from imbalanced-learn) (1.2.0)\n",
      "Requirement already satisfied: threadpoolctl>=2.0.0 in c:\\users\\xps\\anaconda3\\lib\\site-packages (from imbalanced-learn) (2.2.0)\n"
     ]
    },
    {
     "name": "stderr",
     "output_type": "stream",
     "text": [
      "WARNING: Ignoring invalid distribution -rotobuf (c:\\users\\xps\\anaconda3\\lib\\site-packages)\n",
      "WARNING: Ignoring invalid distribution -rotobuf (c:\\users\\xps\\anaconda3\\lib\\site-packages)\n",
      "WARNING: Ignoring invalid distribution -rotobuf (c:\\users\\xps\\anaconda3\\lib\\site-packages)\n",
      "WARNING: Ignoring invalid distribution -rotobuf (c:\\users\\xps\\anaconda3\\lib\\site-packages)\n",
      "WARNING: Ignoring invalid distribution -rotobuf (c:\\users\\xps\\anaconda3\\lib\\site-packages)\n",
      "WARNING: Ignoring invalid distribution -rotobuf (c:\\users\\xps\\anaconda3\\lib\\site-packages)\n"
     ]
    }
   ],
   "source": [
    "!pip install imbalanced-learn\n"
   ]
  },
  {
   "cell_type": "code",
   "execution_count": 110,
   "id": "ce6b0cdb",
   "metadata": {},
   "outputs": [],
   "source": [
    "from imblearn.over_sampling import RandomOverSampler\n"
   ]
  },
  {
   "cell_type": "code",
   "execution_count": 111,
   "id": "6db741d2",
   "metadata": {},
   "outputs": [],
   "source": [
    "ROS = RandomOverSampler(sampling_strategy=1)\n"
   ]
  },
  {
   "cell_type": "code",
   "execution_count": 112,
   "id": "381201a4",
   "metadata": {},
   "outputs": [],
   "source": [
    "X_train_ros, y_train_ros = ROS.fit_resample(X_train, y_train)\n"
   ]
  },
  {
   "cell_type": "code",
   "execution_count": 113,
   "id": "e8adf6f7",
   "metadata": {},
   "outputs": [],
   "source": [
    "from collections import Counter\n"
   ]
  },
  {
   "cell_type": "code",
   "execution_count": 114,
   "id": "87c856f3",
   "metadata": {},
   "outputs": [
    {
     "data": {
      "text/plain": [
       "Counter({1.0: 27044, 0.0: 27044})"
      ]
     },
     "execution_count": 114,
     "metadata": {},
     "output_type": "execute_result"
    }
   ],
   "source": [
    "Counter(y_train_ros)\n"
   ]
  },
  {
   "cell_type": "code",
   "execution_count": null,
   "id": "bfea7bf2",
   "metadata": {},
   "outputs": [],
   "source": []
  },
  {
   "cell_type": "code",
   "execution_count": 115,
   "id": "738627d0",
   "metadata": {},
   "outputs": [
    {
     "data": {
      "text/plain": [
       "0        1.0\n",
       "1        1.0\n",
       "2        1.0\n",
       "3        1.0\n",
       "4        1.0\n",
       "        ... \n",
       "54083    0.0\n",
       "54084    0.0\n",
       "54085    0.0\n",
       "54086    0.0\n",
       "54087    0.0\n",
       "Name: reviews.rating, Length: 54088, dtype: float64"
      ]
     },
     "execution_count": 115,
     "metadata": {},
     "output_type": "execute_result"
    }
   ],
   "source": [
    "y_train_ros"
   ]
  },
  {
   "cell_type": "code",
   "execution_count": 116,
   "id": "578dc938",
   "metadata": {},
   "outputs": [
    {
     "data": {
      "text/html": [
       "<div>\n",
       "<style scoped>\n",
       "    .dataframe tbody tr th:only-of-type {\n",
       "        vertical-align: middle;\n",
       "    }\n",
       "\n",
       "    .dataframe tbody tr th {\n",
       "        vertical-align: top;\n",
       "    }\n",
       "\n",
       "    .dataframe thead th {\n",
       "        text-align: right;\n",
       "    }\n",
       "</style>\n",
       "<table border=\"1\" class=\"dataframe\">\n",
       "  <thead>\n",
       "    <tr style=\"text-align: right;\">\n",
       "      <th></th>\n",
       "      <th>reviews.text</th>\n",
       "    </tr>\n",
       "  </thead>\n",
       "  <tbody>\n",
       "    <tr>\n",
       "      <th>0</th>\n",
       "      <td>love alexa it is so unique I am enjoying it tr...</td>\n",
       "    </tr>\n",
       "    <tr>\n",
       "      <th>1</th>\n",
       "      <td>This is my 2nd purchase of this tablet! But fo...</td>\n",
       "    </tr>\n",
       "    <tr>\n",
       "      <th>2</th>\n",
       "      <td>Alexa is always learning and Amazon is adding ...</td>\n",
       "    </tr>\n",
       "    <tr>\n",
       "      <th>3</th>\n",
       "      <td>Love it. Was debating on getting it first, but...</td>\n",
       "    </tr>\n",
       "    <tr>\n",
       "      <th>4</th>\n",
       "      <td>I got it for my nephew and he very loves it.Great</td>\n",
       "    </tr>\n",
       "    <tr>\n",
       "      <th>...</th>\n",
       "      <td>...</td>\n",
       "    </tr>\n",
       "    <tr>\n",
       "      <th>54083</th>\n",
       "      <td>I was unaware that it did not Have the Google ...</td>\n",
       "    </tr>\n",
       "    <tr>\n",
       "      <th>54084</th>\n",
       "      <td>I have Alexa now 5 months running.You would ex...</td>\n",
       "    </tr>\n",
       "    <tr>\n",
       "      <th>54085</th>\n",
       "      <td>This Kindle is so overloaded with apps that I ...</td>\n",
       "    </tr>\n",
       "    <tr>\n",
       "      <th>54086</th>\n",
       "      <td>The sound quality of the speaker in my opinion...</td>\n",
       "    </tr>\n",
       "    <tr>\n",
       "      <th>54087</th>\n",
       "      <td>I bought this tablet on Black Friday and it wa...</td>\n",
       "    </tr>\n",
       "  </tbody>\n",
       "</table>\n",
       "<p>54088 rows × 1 columns</p>\n",
       "</div>"
      ],
      "text/plain": [
       "                                            reviews.text\n",
       "0      love alexa it is so unique I am enjoying it tr...\n",
       "1      This is my 2nd purchase of this tablet! But fo...\n",
       "2      Alexa is always learning and Amazon is adding ...\n",
       "3      Love it. Was debating on getting it first, but...\n",
       "4      I got it for my nephew and he very loves it.Great\n",
       "...                                                  ...\n",
       "54083  I was unaware that it did not Have the Google ...\n",
       "54084  I have Alexa now 5 months running.You would ex...\n",
       "54085  This Kindle is so overloaded with apps that I ...\n",
       "54086  The sound quality of the speaker in my opinion...\n",
       "54087  I bought this tablet on Black Friday and it wa...\n",
       "\n",
       "[54088 rows x 1 columns]"
      ]
     },
     "execution_count": 116,
     "metadata": {},
     "output_type": "execute_result"
    }
   ],
   "source": [
    "X_train_ros"
   ]
  },
  {
   "cell_type": "markdown",
   "id": "456b6958",
   "metadata": {},
   "source": [
    "dataset  distribution after handel imbalance data"
   ]
  },
  {
   "cell_type": "code",
   "execution_count": 117,
   "id": "760b9a12",
   "metadata": {},
   "outputs": [
    {
     "data": {
      "image/png": "[encoded data removed]",
      "text/plain": [
       "<Figure size 360x360 with 1 Axes>"
      ]
     },
     "metadata": {},
     "output_type": "display_data"
    }
   ],
   "source": [
    "# Declare a figure with a custom size\n",
    "fig = plt.figure(figsize=(5, 5))\n",
    "\n",
    "# labels for the two classes\n",
    "labels = 'Positives', 'Negative'\n",
    "\n",
    "# Sizes for each slide\n",
    "sizes = [y_train_ros[y_train_ros==1].shape[0], y_train_ros[y_train_ros==0].shape[0]] \n",
    "\n",
    "# Declare pie chart, where the slices will be ordered and plotted counter-clockwise:\n",
    "plt.pie(sizes, labels=labels, autopct='%1.1f%%',\n",
    "        shadow=True, startangle=90)\n",
    "# Equal aspect ratio ensures that pie is drawn as a circle.\n",
    "plt.axis('equal')  \n",
    "# Display the chart\n",
    "plt.show()\n"
   ]
  },
  {
   "cell_type": "code",
   "execution_count": 118,
   "id": "e59c1991",
   "metadata": {},
   "outputs": [
    {
     "name": "stdout",
     "output_type": "stream",
     "text": [
      "Processing the reviewText fields\n"
     ]
    }
   ],
   "source": [
    "print('Processing the reviewText fields')\n",
    "X_train_ros['reviews.text'] = clean(X_train_ros['reviews.text'])\n",
    "X_val['reviews.text'] = clean(X_val['reviews.text'])\n",
    "X_test['reviews.text'] = clean(X_test['reviews.text'])\n",
    "\n"
   ]
  },
  {
   "cell_type": "code",
   "execution_count": 119,
   "id": "06b09fb6",
   "metadata": {},
   "outputs": [
    {
     "data": {
      "text/html": [
       "<div>\n",
       "<style scoped>\n",
       "    .dataframe tbody tr th:only-of-type {\n",
       "        vertical-align: middle;\n",
       "    }\n",
       "\n",
       "    .dataframe tbody tr th {\n",
       "        vertical-align: top;\n",
       "    }\n",
       "\n",
       "    .dataframe thead th {\n",
       "        text-align: right;\n",
       "    }\n",
       "</style>\n",
       "<table border=\"1\" class=\"dataframe\">\n",
       "  <thead>\n",
       "    <tr style=\"text-align: right;\">\n",
       "      <th></th>\n",
       "      <th>reviews.text</th>\n",
       "    </tr>\n",
       "  </thead>\n",
       "  <tbody>\n",
       "    <tr>\n",
       "      <th>0</th>\n",
       "      <td>love alexa uniqu enjoy tremend</td>\n",
       "    </tr>\n",
       "    <tr>\n",
       "      <th>1</th>\n",
       "      <td>2nd purchas tablet posit reason bought one had...</td>\n",
       "    </tr>\n",
       "    <tr>\n",
       "      <th>2</th>\n",
       "      <td>alexa alway learn amazon ad new function somet...</td>\n",
       "    </tr>\n",
       "    <tr>\n",
       "      <th>3</th>\n",
       "      <td>love was debat get first have regret use</td>\n",
       "    </tr>\n",
       "    <tr>\n",
       "      <th>4</th>\n",
       "      <td>got nephew love it.great</td>\n",
       "    </tr>\n",
       "    <tr>\n",
       "      <th>...</th>\n",
       "      <td>...</td>\n",
       "    </tr>\n",
       "    <tr>\n",
       "      <th>54083</th>\n",
       "      <td>was unawar did not have googl play store formi...</td>\n",
       "    </tr>\n",
       "    <tr>\n",
       "      <th>54084</th>\n",
       "      <td>have alexa month running.you would expect alex...</td>\n",
       "    </tr>\n",
       "    <tr>\n",
       "      <th>54085</th>\n",
       "      <td>kindl overload app never use despit one best b...</td>\n",
       "    </tr>\n",
       "    <tr>\n",
       "      <th>54086</th>\n",
       "      <td>sound qualiti speaker opinion not worth extra ...</td>\n",
       "    </tr>\n",
       "    <tr>\n",
       "      <th>54087</th>\n",
       "      <td>bought tablet black friday was sale incred slo...</td>\n",
       "    </tr>\n",
       "  </tbody>\n",
       "</table>\n",
       "<p>54088 rows × 1 columns</p>\n",
       "</div>"
      ],
      "text/plain": [
       "                                            reviews.text\n",
       "0                         love alexa uniqu enjoy tremend\n",
       "1      2nd purchas tablet posit reason bought one had...\n",
       "2      alexa alway learn amazon ad new function somet...\n",
       "3               love was debat get first have regret use\n",
       "4                               got nephew love it.great\n",
       "...                                                  ...\n",
       "54083  was unawar did not have googl play store formi...\n",
       "54084  have alexa month running.you would expect alex...\n",
       "54085  kindl overload app never use despit one best b...\n",
       "54086  sound qualiti speaker opinion not worth extra ...\n",
       "54087  bought tablet black friday was sale incred slo...\n",
       "\n",
       "[54088 rows x 1 columns]"
      ]
     },
     "execution_count": 119,
     "metadata": {},
     "output_type": "execute_result"
    }
   ],
   "source": [
    "X_train_ros"
   ]
  },
  {
   "cell_type": "code",
   "execution_count": 120,
   "id": "fab544fb",
   "metadata": {},
   "outputs": [],
   "source": [
    "# Grab model features/inputs and target/output\n",
    "\n",
    "text_features = [\n",
    "                 'reviews.text']\n",
    "\n",
    "model_features =  text_features\n",
    "model_target = 'reviews.rating'"
   ]
  },
  {
   "cell_type": "code",
   "execution_count": 121,
   "id": "6f40488d",
   "metadata": {},
   "outputs": [
    {
     "data": {
      "text/plain": [
       "(54088, 1)"
      ]
     },
     "execution_count": 121,
     "metadata": {},
     "output_type": "execute_result"
    }
   ],
   "source": [
    "X_train_ros.shape"
   ]
  },
  {
   "cell_type": "code",
   "execution_count": 122,
   "id": "0a6cead0",
   "metadata": {
    "scrolled": true
   },
   "outputs": [
    {
     "name": "stdout",
     "output_type": "stream",
     "text": [
      "Datasets shapes before processing:  (54088, 1) (3463, 1) (3463, 1)\n",
      "Datasets shapes after processing:  (54088, 100) (3463, 100) (3463, 100)\n"
     ]
    }
   ],
   "source": [
    "from sklearn.impute import SimpleImputer\n",
    "from sklearn.preprocessing import MinMaxScaler\n",
    "from sklearn.feature_extraction.text import CountVectorizer\n",
    "from sklearn.pipeline import Pipeline\n",
    "from sklearn.compose import ColumnTransformer\n",
    "\n",
    "### COLUMN_TRANSFORMER ###\n",
    "##########################\n",
    "\n",
    "\n",
    "                                \n",
    "# Preprocess 1st text feature\n",
    "text_processor_0 = Pipeline([\n",
    "    ('text_vect_0', CountVectorizer(binary=True, max_features=100))\n",
    "                                ])\n",
    "\n",
    "\n",
    "\n",
    "# Combine all data preprocessors from above (add more, if you choose to define more!)\n",
    "# For each processor/step specify: a name, the actual process, and finally the features to be processed\n",
    "data_preprocessor = ColumnTransformer([\n",
    "    \n",
    "    ('text_pre_0', text_processor_0, text_features[0])\n",
    "    \n",
    "                                    ]) \n",
    "\n",
    "### DATA PREPROCESSING ###\n",
    "##########################\n",
    "\n",
    "print('Datasets shapes before processing: ', X_train_ros.shape, X_val.shape, X_test.shape)\n",
    "\n",
    "X_train_ros = data_preprocessor.fit_transform(X_train_ros)\n",
    "X_val = data_preprocessor.transform(X_val)\n",
    "X_test = data_preprocessor.transform(X_test)\n",
    "\n",
    "print('Datasets shapes after processing: ', X_train_ros.shape, X_val.shape, X_test.shape)"
   ]
  },
  {
   "cell_type": "markdown",
   "id": "2e787df7",
   "metadata": {},
   "source": [
    "# train model with xgboost"
   ]
  },
  {
   "cell_type": "code",
   "execution_count": 123,
   "id": "0d88e9f4",
   "metadata": {},
   "outputs": [],
   "source": [
    "import xgboost as xgb"
   ]
  },
  {
   "cell_type": "code",
   "execution_count": 124,
   "id": "3eacd98b",
   "metadata": {},
   "outputs": [],
   "source": [
    "clf = xgb.XGBClassifier(random_state=42, seed=2, colsample_bytree=0.6, subsample=0.7)"
   ]
  },
  {
   "cell_type": "code",
   "execution_count": 125,
   "id": "027b9988",
   "metadata": {},
   "outputs": [
    {
     "data": {
      "text/plain": [
       "(54088,)"
      ]
     },
     "execution_count": 125,
     "metadata": {},
     "output_type": "execute_result"
    }
   ],
   "source": [
    "y_train_ros.shape"
   ]
  },
  {
   "cell_type": "code",
   "execution_count": 126,
   "id": "3e283599",
   "metadata": {
    "scrolled": true
   },
   "outputs": [
    {
     "data": {
      "text/html": [
       "<style>#sk-container-id-1 {color: black;background-color: white;}#sk-container-id-1 pre{padding: 0;}#sk-container-id-1 div.sk-toggleable {background-color: white;}#sk-container-id-1 label.sk-toggleable__label {cursor: pointer;display: block;width: 100%;margin-bottom: 0;padding: 0.3em;box-sizing: border-box;text-align: center;}#sk-container-id-1 label.sk-toggleable__label-arrow:before {content: \"▸\";float: left;margin-right: 0.25em;color: #696969;}#sk-container-id-1 label.sk-toggleable__label-arrow:hover:before {color: black;}#sk-container-id-1 div.sk-estimator:hover label.sk-toggleable__label-arrow:before {color: black;}#sk-container-id-1 div.sk-toggleable__content {max-height: 0;max-width: 0;overflow: hidden;text-align: left;background-color: #f0f8ff;}#sk-container-id-1 div.sk-toggleable__content pre {margin: 0.2em;color: black;border-radius: 0.25em;background-color: #f0f8ff;}#sk-container-id-1 input.sk-toggleable__control:checked~div.sk-toggleable__content {max-height: 200px;max-width: 100%;overflow: auto;}#sk-container-id-1 input.sk-toggleable__control:checked~label.sk-toggleable__label-arrow:before {content: \"▾\";}#sk-container-id-1 div.sk-estimator input.sk-toggleable__control:checked~label.sk-toggleable__label {background-color: #d4ebff;}#sk-container-id-1 div.sk-label input.sk-toggleable__control:checked~label.sk-toggleable__label {background-color: #d4ebff;}#sk-container-id-1 input.sk-hidden--visually {border: 0;clip: rect(1px 1px 1px 1px);clip: rect(1px, 1px, 1px, 1px);height: 1px;margin: -1px;overflow: hidden;padding: 0;position: absolute;width: 1px;}#sk-container-id-1 div.sk-estimator {font-family: monospace;background-color: #f0f8ff;border: 1px dotted black;border-radius: 0.25em;box-sizing: border-box;margin-bottom: 0.5em;}#sk-container-id-1 div.sk-estimator:hover {background-color: #d4ebff;}#sk-container-id-1 div.sk-parallel-item::after {content: \"\";width: 100%;border-bottom: 1px solid gray;flex-grow: 1;}#sk-container-id-1 div.sk-label:hover label.sk-toggleable__label {background-color: #d4ebff;}#sk-container-id-1 div.sk-serial::before {content: \"\";position: absolute;border-left: 1px solid gray;box-sizing: border-box;top: 0;bottom: 0;left: 50%;z-index: 0;}#sk-container-id-1 div.sk-serial {display: flex;flex-direction: column;align-items: center;background-color: white;padding-right: 0.2em;padding-left: 0.2em;position: relative;}#sk-container-id-1 div.sk-item {position: relative;z-index: 1;}#sk-container-id-1 div.sk-parallel {display: flex;align-items: stretch;justify-content: center;background-color: white;position: relative;}#sk-container-id-1 div.sk-item::before, #sk-container-id-1 div.sk-parallel-item::before {content: \"\";position: absolute;border-left: 1px solid gray;box-sizing: border-box;top: 0;bottom: 0;left: 50%;z-index: -1;}#sk-container-id-1 div.sk-parallel-item {display: flex;flex-direction: column;z-index: 1;position: relative;background-color: white;}#sk-container-id-1 div.sk-parallel-item:first-child::after {align-self: flex-end;width: 50%;}#sk-container-id-1 div.sk-parallel-item:last-child::after {align-self: flex-start;width: 50%;}#sk-container-id-1 div.sk-parallel-item:only-child::after {width: 0;}#sk-container-id-1 div.sk-dashed-wrapped {border: 1px dashed gray;margin: 0 0.4em 0.5em 0.4em;box-sizing: border-box;padding-bottom: 0.4em;background-color: white;}#sk-container-id-1 div.sk-label label {font-family: monospace;font-weight: bold;display: inline-block;line-height: 1.2em;}#sk-container-id-1 div.sk-label-container {text-align: center;}#sk-container-id-1 div.sk-container {/* jupyter's `normalize.less` sets `[hidden] { display: none; }` but bootstrap.min.css set `[hidden] { display: none !important; }` so we also need the `!important` here to be able to override the default hidden behavior on the sphinx rendered scikit-learn.org. See: https://github.com/scikit-learn/scikit-learn/issues/21755 */display: inline-block !important;position: relative;}#sk-container-id-1 div.sk-text-repr-fallback {display: none;}</style><div id=\"sk-container-id-1\" class=\"sk-top-container\"><div class=\"sk-text-repr-fallback\"><pre>XGBClassifier(base_score=0.5, booster=&#x27;gbtree&#x27;, callbacks=None,\n",
       "              colsample_bylevel=1, colsample_bynode=1, colsample_bytree=0.6,\n",
       "              early_stopping_rounds=None, enable_categorical=False,\n",
       "              eval_metric=None, feature_types=None, gamma=0, gpu_id=-1,\n",
       "              grow_policy=&#x27;depthwise&#x27;, importance_type=None,\n",
       "              interaction_constraints=&#x27;&#x27;, learning_rate=0.300000012,\n",
       "              max_bin=256, max_cat_threshold=64, max_cat_to_onehot=4,\n",
       "              max_delta_step=0, max_depth=6, max_leaves=0, min_child_weight=1,\n",
       "              missing=nan, monotone_constraints=&#x27;()&#x27;, n_estimators=100,\n",
       "              n_jobs=0, num_parallel_tree=1, predictor=&#x27;auto&#x27;, random_state=42, ...)</pre><b>In a Jupyter environment, please rerun this cell to show the HTML representation or trust the notebook. <br />On GitHub, the HTML representation is unable to render, please try loading this page with nbviewer.org.</b></div><div class=\"sk-container\" hidden><div class=\"sk-item\"><div class=\"sk-estimator sk-toggleable\"><input class=\"sk-toggleable__control sk-hidden--visually\" id=\"sk-estimator-id-1\" type=\"checkbox\" checked><label for=\"sk-estimator-id-1\" class=\"sk-toggleable__label sk-toggleable__label-arrow\">XGBClassifier</label><div class=\"sk-toggleable__content\"><pre>XGBClassifier(base_score=0.5, booster=&#x27;gbtree&#x27;, callbacks=None,\n",
       "              colsample_bylevel=1, colsample_bynode=1, colsample_bytree=0.6,\n",
       "              early_stopping_rounds=None, enable_categorical=False,\n",
       "              eval_metric=None, feature_types=None, gamma=0, gpu_id=-1,\n",
       "              grow_policy=&#x27;depthwise&#x27;, importance_type=None,\n",
       "              interaction_constraints=&#x27;&#x27;, learning_rate=0.300000012,\n",
       "              max_bin=256, max_cat_threshold=64, max_cat_to_onehot=4,\n",
       "              max_delta_step=0, max_depth=6, max_leaves=0, min_child_weight=1,\n",
       "              missing=nan, monotone_constraints=&#x27;()&#x27;, n_estimators=100,\n",
       "              n_jobs=0, num_parallel_tree=1, predictor=&#x27;auto&#x27;, random_state=42, ...)</pre></div></div></div></div></div>"
      ],
      "text/plain": [
       "XGBClassifier(base_score=0.5, booster='gbtree', callbacks=None,\n",
       "              colsample_bylevel=1, colsample_bynode=1, colsample_bytree=0.6,\n",
       "              early_stopping_rounds=None, enable_categorical=False,\n",
       "              eval_metric=None, feature_types=None, gamma=0, gpu_id=-1,\n",
       "              grow_policy='depthwise', importance_type=None,\n",
       "              interaction_constraints='', learning_rate=0.300000012,\n",
       "              max_bin=256, max_cat_threshold=64, max_cat_to_onehot=4,\n",
       "              max_delta_step=0, max_depth=6, max_leaves=0, min_child_weight=1,\n",
       "              missing=nan, monotone_constraints='()', n_estimators=100,\n",
       "              n_jobs=0, num_parallel_tree=1, predictor='auto', random_state=42, ...)"
      ]
     },
     "execution_count": 126,
     "metadata": {},
     "output_type": "execute_result"
    }
   ],
   "source": [
    "clf.fit(X_train_ros,y_train_ros)"
   ]
  },
  {
   "cell_type": "markdown",
   "id": "0fde2e84",
   "metadata": {},
   "source": [
    "# model evaluation"
   ]
  },
  {
   "cell_type": "code",
   "execution_count": 129,
   "id": "87209576",
   "metadata": {},
   "outputs": [
    {
     "name": "stdout",
     "output_type": "stream",
     "text": [
      "Mean ROC AUC: 0.98869\n"
     ]
    }
   ],
   "source": [
    "# fit balanced xgboost on an imbalanced classification dataset\n",
    "from numpy import mean\n",
    "from sklearn.datasets import make_classification\n",
    "from sklearn.model_selection import cross_val_score\n",
    "from sklearn.model_selection import RepeatedStratifiedKFold\n",
    "from xgboost import XGBClassifier\n",
    "model = XGBClassifier(scale_pos_weight=100)\n",
    "# define evaluation procedure\n",
    "cv = RepeatedStratifiedKFold(n_splits=10, n_repeats=3, random_state=1)\n",
    "# evaluate model\n",
    "scores = cross_val_score(model, X_train_ros,y_train_ros, scoring='roc_auc', cv=cv, n_jobs=-1)\n",
    "# summarize performance\n",
    "print('Mean ROC AUC: %.5f' % mean(scores))"
   ]
  },
  {
   "cell_type": "markdown",
   "id": "3f81b1b6",
   "metadata": {},
   "source": [
    "# xgboost hyperparameter tuning"
   ]
  },
  {
   "cell_type": "code",
   "execution_count": 130,
   "id": "98132475",
   "metadata": {},
   "outputs": [],
   "source": [
    "from sklearn.model_selection import GridSearchCV\n",
    "from sklearn.model_selection import RepeatedStratifiedKFold\n",
    "# define grid\n",
    "weights = [1, 10, 25, 50, 75, 99, 100, 1000]\n",
    "param_grid = dict(scale_pos_weight=weights)\n",
    "# define evaluation procedure\n",
    "cv = RepeatedStratifiedKFold(n_splits=10, n_repeats=3, random_state=1)\n",
    "# define grid search\n",
    "grid = GridSearchCV(estimator=model, param_grid=param_grid, n_jobs=-1, cv=cv, scoring='roc_auc')"
   ]
  },
  {
   "cell_type": "code",
   "execution_count": 131,
   "id": "d9517649",
   "metadata": {},
   "outputs": [
    {
     "name": "stdout",
     "output_type": "stream",
     "text": [
      "Best: 0.992659 using {'scale_pos_weight': 10}\n",
      "0.992610 (0.000902) with: {'scale_pos_weight': 1}\n",
      "0.992659 (0.000812) with: {'scale_pos_weight': 10}\n",
      "0.991724 (0.000915) with: {'scale_pos_weight': 25}\n",
      "0.990292 (0.001093) with: {'scale_pos_weight': 50}\n",
      "0.989442 (0.001246) with: {'scale_pos_weight': 75}\n",
      "0.988588 (0.001303) with: {'scale_pos_weight': 99}\n",
      "0.988690 (0.001111) with: {'scale_pos_weight': 100}\n",
      "0.980111 (0.002175) with: {'scale_pos_weight': 1000}\n"
     ]
    }
   ],
   "source": [
    "# execute the grid search\n",
    "# execute the grid search\n",
    "grid_result = grid.fit(X_train_ros,y_train_ros)\n",
    "# report the best configuration\n",
    "print(\"Best: %f using %s\" % (grid_result.best_score_, grid_result.best_params_))\n",
    "# report all configurations\n",
    "means = grid_result.cv_results_['mean_test_score']\n",
    "stds = grid_result.cv_results_['std_test_score']\n",
    "params = grid_result.cv_results_['params']\n",
    "for mean, stdev, param in zip(means, stds, params):\n",
    "    print(\"%f (%f) with: %r\" % (mean, stdev, param))"
   ]
  },
  {
   "cell_type": "markdown",
   "id": "d42bff72",
   "metadata": {},
   "source": [
    "# best model evaluation"
   ]
  },
  {
   "cell_type": "code",
   "execution_count": 132,
   "id": "180d1af8",
   "metadata": {},
   "outputs": [
    {
     "name": "stdout",
     "output_type": "stream",
     "text": [
      "Accuracy - 0.9760323419000866\n"
     ]
    }
   ],
   "source": [
    "from sklearn.metrics import accuracy_score\n",
    "prediction = grid_result.predict(X_val)\n",
    "print(\"Accuracy - {}\".format(accuracy_score(y_pred=prediction, y_true=y_val)))"
   ]
  },
  {
   "cell_type": "code",
   "execution_count": 154,
   "id": "17cec8f4",
   "metadata": {
    "scrolled": true
   },
   "outputs": [
    {
     "name": "stdout",
     "output_type": "stream",
     "text": [
      "Sensitivity or TPR: 99.14429035113604%\n",
      "Specificity or TNR: 27.027027027027028%\n",
      "Precision: 98.41827768014059%\n",
      "Negative Predictive Value: 40.816326530612244%\n",
      "False Positive Rate: 72.97297297297297%\n",
      "False Negative Rate: 0.8557096488639717%\n",
      "False Discovery Rate: 1.5817223198594026%\n",
      "Accuracy: 97.60323419000866%\n"
     ]
    }
   ],
   "source": [
    "print_metrics(y_val, prediction) "
   ]
  },
  {
   "cell_type": "code",
   "execution_count": 133,
   "id": "6560cce0",
   "metadata": {},
   "outputs": [],
   "source": [
    "from sklearn import metrics\n",
    "\n",
    "def plot_roc(test_labels, target_predicted):\n",
    "    TN, FP, FN, TP = confusion_matrix(test_labels, target_predicted).ravel()\n",
    "    # Sensitivity, hit rate, recall, or true positive rate\n",
    "    Sensitivity  = float(TP)/(TP+FN)*100\n",
    "    # Specificity or true negative rate\n",
    "    Specificity  = float(TN)/(TN+FP)*100\n",
    "    # Precision or positive predictive value\n",
    "    Precision = float(TP)/(TP+FP)*100\n",
    "    # Negative predictive value\n",
    "    NPV = float(TN)/(TN+FN)*100\n",
    "    # Fall out or false positive rate\n",
    "    FPR = float(FP)/(FP+TN)*100\n",
    "    # False negative rate\n",
    "    FNR = float(FN)/(TP+FN)*100\n",
    "    # False discovery rate\n",
    "    FDR = float(FP)/(TP+FP)*100\n",
    "    # Overall accuracy\n",
    "    ACC = float(TP+TN)/(TP+FP+FN+TN)*100\n",
    "\n",
    "    print(\"Sensitivity or TPR: \", Sensitivity, \"%\") \n",
    "    print( \"Specificity or TNR: \",Specificity, \"%\") \n",
    "    print(\"Precision: \",Precision, \"%\") \n",
    "    print(\"Negative Predictive Value: \",NPV, \"%\") \n",
    "    print( \"False Positive Rate: \",FPR,\"%\")\n",
    "    print(\"False Negative Rate: \",FNR, \"%\") \n",
    "    print(\"False Discovery Rate: \",FDR, \"%\" )\n",
    "    print(\"Accuracy: \",ACC, \"%\") \n",
    "\n",
    "    print(\"Validation AUC\", metrics.roc_auc_score(y_test, prediction))\n",
    "\n",
    "    fpr, tpr, thresholds = metrics.roc_curve(y_test, prediction)\n",
    "    roc_auc = metrics.auc(fpr, tpr)\n",
    "\n",
    "    plt.figure()\n",
    "    plt.plot(fpr, tpr, label='ROC curve (area = %0.2f)' % (roc_auc))\n",
    "    plt.plot([0, 1], [0, 1], 'k--')\n",
    "    plt.xlim([0.0, 1.0])\n",
    "    plt.ylim([0.0, 1.05])\n",
    "    plt.xlabel('False Positive Rate')\n",
    "    plt.ylabel('True Positive Rate')\n",
    "    plt.title('Receiver operating characteristic')\n",
    "    plt.legend(loc=\"lower right\")\n",
    "\n",
    "    # create the axis of thresholds (scores)\n",
    "    ax2 = plt.gca().twinx()\n",
    "    ax2.plot(fpr, thresholds, markeredgecolor='r',linestyle='dashed', color='r')\n",
    "    ax2.set_ylabel('Threshold',color='r')\n",
    "    ax2.set_ylim([thresholds[-1],thresholds[0]])\n",
    "    ax2.set_xlim([fpr[0],fpr[-1]])\n",
    "\n",
    "    print(plt.figure())"
   ]
  },
  {
   "cell_type": "code",
   "execution_count": 146,
   "id": "6aa218c7",
   "metadata": {},
   "outputs": [
    {
     "name": "stdout",
     "output_type": "stream",
     "text": [
      "Sensitivity or TPR:  99.14429035113604 %\n",
      "Specificity or TNR:  27.027027027027028 %\n",
      "Precision:  98.41827768014059 %\n",
      "Negative Predictive Value:  40.816326530612244 %\n",
      "False Positive Rate:  72.97297297297297 %\n",
      "False Negative Rate:  0.8557096488639717 %\n",
      "False Discovery Rate:  1.5817223198594026 %\n",
      "Accuracy:  97.60323419000866 %\n",
      "Validation AUC 0.4989990694050685\n",
      "Figure(432x288)\n"
     ]
    },
    {
     "data": {
      "image/png": "[encoded data removed]",
      "text/plain": [
       "<Figure size 432x288 with 2 Axes>"
      ]
     },
     "metadata": {
      "needs_background": "light"
     },
     "output_type": "display_data"
    },
    {
     "data": {
      "text/plain": [
       "<Figure size 432x288 with 0 Axes>"
      ]
     },
     "metadata": {},
     "output_type": "display_data"
    }
   ],
   "source": [
    "\n",
    "plot_roc( y_val,prediction)"
   ]
  },
  {
   "cell_type": "code",
   "execution_count": 152,
   "id": "5c034943",
   "metadata": {},
   "outputs": [
    {
     "data": {
      "image/png": "[encoded data removed]",
      "text/plain": [
       "<Figure size 432x288 with 1 Axes>"
      ]
     },
     "metadata": {
      "needs_background": "light"
     },
     "output_type": "display_data"
    }
   ],
   "source": [
    "plot_confusion_matrix(test_labels=y_val, target_predicted=prediction) \n"
   ]
  },
  {
   "cell_type": "markdown",
   "id": "c9195bb5",
   "metadata": {},
   "source": [
    "# save model"
   ]
  },
  {
   "cell_type": "code",
   "execution_count": 170,
   "id": "ec45f9bf",
   "metadata": {},
   "outputs": [],
   "source": [
    "import pickle\n",
    "file_name = \"xgb_reg.pkl\"\n",
    "\n",
    "# save\n",
    "pickle.dump(grid_result, open(file_name, \"wb\"))\n"
   ]
  },
  {
   "cell_type": "markdown",
   "id": "81a2dfe2",
   "metadata": {},
   "source": [
    "# model in inference"
   ]
  },
  {
   "cell_type": "code",
   "execution_count": 171,
   "id": "178c111a",
   "metadata": {},
   "outputs": [],
   "source": [
    "#load model\n",
    "xgb_model_loaded = pickle.load(open(file_name, \"rb\"))\n",
    "\n"
   ]
  },
  {
   "cell_type": "code",
   "execution_count": 172,
   "id": "120ba776",
   "metadata": {
    "scrolled": true
   },
   "outputs": [
    {
     "name": "stdout",
     "output_type": "stream",
     "text": [
      "0\n",
      "negative\n"
     ]
    }
   ],
   "source": [
    "twt = {'reviews.text':[\"I was surprised to find it did not come with any type of charging cords so I had to purchase one and then found my Sprint HTC 3D charger is faster. I would not purchase again- 1st item I've ever not liked I've purchased from Amazon\"]}\n",
    "twt=pd.DataFrame(twt)\n",
    "#vectorizing the tweet by the pre-fitted tokenizer instance\n",
    "twt = data_preprocessor.transform(twt)\n",
    "#padding the tweet to have exactly the same shape as `embedding_2` input\n",
    "sentiment = xgb_model_loaded.predict(twt)[0]\n",
    "print(sentiment)\n",
    "if(sentiment == 0):\n",
    "    print(\"negative\")\n",
    "elif (sentiment == 1):\n",
    "    print(\"positive\")\n"
   ]
  },
  {
   "cell_type": "code",
   "execution_count": 176,
   "id": "96907118",
   "metadata": {
    "scrolled": false
   },
   "outputs": [
    {
     "name": "stdout",
     "output_type": "stream",
     "text": [
      "Collecting wordcloud\n",
      "  Downloading wordcloud-1.8.2.2-cp39-cp39-win_amd64.whl (153 kB)\n",
      "     ------------------------------------ 153.1/153.1 kB 915.5 kB/s eta 0:00:00\n",
      "Requirement already satisfied: pillow in c:\\users\\xps\\anaconda3\\lib\\site-packages (from wordcloud) (8.4.0)\n",
      "Requirement already satisfied: matplotlib in c:\\users\\xps\\anaconda3\\lib\\site-packages (from wordcloud) (3.4.3)\n",
      "Requirement already satisfied: numpy>=1.6.1 in c:\\users\\xps\\anaconda3\\lib\\site-packages (from wordcloud) (1.20.3)\n",
      "Requirement already satisfied: pyparsing>=2.2.1 in c:\\users\\xps\\anaconda3\\lib\\site-packages (from matplotlib->wordcloud) (3.0.4)\n",
      "Requirement already satisfied: cycler>=0.10 in c:\\users\\xps\\anaconda3\\lib\\site-packages (from matplotlib->wordcloud) (0.10.0)\n",
      "Requirement already satisfied: python-dateutil>=2.7 in c:\\users\\xps\\anaconda3\\lib\\site-packages (from matplotlib->wordcloud) (2.8.2)\n",
      "Requirement already satisfied: kiwisolver>=1.0.1 in c:\\users\\xps\\anaconda3\\lib\\site-packages (from matplotlib->wordcloud) (1.3.1)\n",
      "Requirement already satisfied: six in c:\\users\\xps\\anaconda3\\lib\\site-packages (from cycler>=0.10->matplotlib->wordcloud) (1.16.0)\n",
      "Installing collected packages: wordcloud\n",
      "Successfully installed wordcloud-1.8.2.2\n"
     ]
    },
    {
     "name": "stderr",
     "output_type": "stream",
     "text": [
      "WARNING: Ignoring invalid distribution -rotobuf (c:\\users\\xps\\anaconda3\\lib\\site-packages)\n",
      "WARNING: Ignoring invalid distribution -rotobuf (c:\\users\\xps\\anaconda3\\lib\\site-packages)\n",
      "WARNING: Ignoring invalid distribution -rotobuf (c:\\users\\xps\\anaconda3\\lib\\site-packages)\n",
      "WARNING: Ignoring invalid distribution -rotobuf (c:\\users\\xps\\anaconda3\\lib\\site-packages)\n",
      "WARNING: Ignoring invalid distribution -rotobuf (c:\\users\\xps\\anaconda3\\lib\\site-packages)\n",
      "WARNING: Ignoring invalid distribution -rotobuf (c:\\users\\xps\\anaconda3\\lib\\site-packages)\n",
      "WARNING: Ignoring invalid distribution -rotobuf (c:\\users\\xps\\anaconda3\\lib\\site-packages)\n"
     ]
    }
   ],
   "source": [
    "! pip install  wordcloud"
   ]
  },
  {
   "cell_type": "markdown",
   "id": "1e5f6783",
   "metadata": {},
   "source": [
    "# visualize the data to see more frequent words"
   ]
  },
  {
   "cell_type": "code",
   "execution_count": 177,
   "id": "2c9a5b5a",
   "metadata": {},
   "outputs": [
    {
     "data": {
      "text/plain": [
       "<matplotlib.image.AxesImage at 0x221f9f33cd0>"
      ]
     },
     "execution_count": 177,
     "metadata": {},
     "output_type": "execute_result"
    },
    {
     "data": {
      "image/png": "[encoded data removed]",
      "text/plain": [
       "<Figure size 720x432 with 1 Axes>"
      ]
     },
     "metadata": {
      "needs_background": "light"
     },
     "output_type": "display_data"
    }
   ],
   "source": [
    "plt.figure(figsize=(10,6))\n",
    "from wordcloud import WordCloud, STOPWORDS\n",
    "word_cloud = \"\"\n",
    "for row in df['reviews.text']:\n",
    "    for word in row:\n",
    "        word_cloud += \" \".join(word)\n",
    "wordcloud = WordCloud(width = 1000, height = 500,background_color ='white',min_font_size = 10).generate(word_cloud)\n",
    "plt.imshow(wordcloud)"
   ]
  },
  {
   "cell_type": "markdown",
   "id": "8e066cfe",
   "metadata": {},
   "source": [
    "# use beautifulsoup4 to make wep scraping and increase negatve class value"
   ]
  },
  {
   "cell_type": "code",
   "execution_count": 1,
   "id": "735ecc42",
   "metadata": {},
   "outputs": [
    {
     "name": "stdout",
     "output_type": "stream",
     "text": [
      "Requirement already satisfied: beautifulsoup4 in c:\\users\\xps\\anaconda3\\lib\\site-packages (4.10.0)\n",
      "Requirement already satisfied: soupsieve>1.2 in c:\\users\\xps\\anaconda3\\lib\\site-packages (from beautifulsoup4) (2.2.1)\n"
     ]
    },
    {
     "name": "stderr",
     "output_type": "stream",
     "text": [
      "WARNING: Ignoring invalid distribution -rotobuf (c:\\users\\xps\\anaconda3\\lib\\site-packages)\n",
      "WARNING: Ignoring invalid distribution -rotobuf (c:\\users\\xps\\anaconda3\\lib\\site-packages)\n",
      "WARNING: Ignoring invalid distribution -rotobuf (c:\\users\\xps\\anaconda3\\lib\\site-packages)\n",
      "WARNING: Ignoring invalid distribution -rotobuf (c:\\users\\xps\\anaconda3\\lib\\site-packages)\n",
      "WARNING: Ignoring invalid distribution -rotobuf (c:\\users\\xps\\anaconda3\\lib\\site-packages)\n",
      "WARNING: Ignoring invalid distribution -rotobuf (c:\\users\\xps\\anaconda3\\lib\\site-packages)\n"
     ]
    }
   ],
   "source": [
    "!pip install beautifulsoup4\n"
   ]
  },
  {
   "cell_type": "code",
   "execution_count": 2,
   "id": "27929d71",
   "metadata": {},
   "outputs": [
    {
     "name": "stdout",
     "output_type": "stream",
     "text": [
      "Requirement already satisfied: lxml in c:\\users\\xps\\anaconda3\\lib\\site-packages (4.6.3)\n"
     ]
    },
    {
     "name": "stderr",
     "output_type": "stream",
     "text": [
      "WARNING: Ignoring invalid distribution -rotobuf (c:\\users\\xps\\anaconda3\\lib\\site-packages)\n",
      "WARNING: Ignoring invalid distribution -rotobuf (c:\\users\\xps\\anaconda3\\lib\\site-packages)\n",
      "WARNING: Ignoring invalid distribution -rotobuf (c:\\users\\xps\\anaconda3\\lib\\site-packages)\n",
      "WARNING: Ignoring invalid distribution -rotobuf (c:\\users\\xps\\anaconda3\\lib\\site-packages)\n",
      "WARNING: Ignoring invalid distribution -rotobuf (c:\\users\\xps\\anaconda3\\lib\\site-packages)\n",
      "WARNING: Ignoring invalid distribution -rotobuf (c:\\users\\xps\\anaconda3\\lib\\site-packages)\n"
     ]
    }
   ],
   "source": [
    "!pip install lxml\n"
   ]
  },
  {
   "cell_type": "code",
   "execution_count": 2,
   "id": "56cf041b",
   "metadata": {},
   "outputs": [
    {
     "name": "stderr",
     "output_type": "stream",
     "text": [
      "INFO:root:https://www.amazon.com/Fire-HD-8-Plus-tablet/product-reviews/B0839NDRB2/ref=cm_cr_arp_d_paging_btm_next_2?ie=UTF8&reviewerType=all_reviews&pageNumber=0\n",
      "INFO:root:https://www.amazon.com/Fire-HD-8-Plus-tablet/product-reviews/B0839NDRB2/ref=cm_cr_arp_d_paging_btm_next_2?ie=UTF8&reviewerType=all_reviews&pageNumber=1\n",
      "INFO:root:https://www.amazon.com/Fire-HD-8-Plus-tablet/product-reviews/B0839NDRB2/ref=cm_cr_arp_d_paging_btm_next_2?ie=UTF8&reviewerType=all_reviews&pageNumber=2\n",
      "INFO:root:https://www.amazon.com/Fire-HD-8-Plus-tablet/product-reviews/B0839NDRB2/ref=cm_cr_arp_d_paging_btm_next_2?ie=UTF8&reviewerType=all_reviews&pageNumber=3\n",
      "INFO:root:https://www.amazon.com/Fire-HD-8-Plus-tablet/product-reviews/B0839NDRB2/ref=cm_cr_arp_d_paging_btm_next_2?ie=UTF8&reviewerType=all_reviews&pageNumber=4\n",
      "INFO:root:https://www.amazon.com/Fire-HD-8-Plus-tablet/product-reviews/B0839NDRB2/ref=cm_cr_arp_d_paging_btm_next_2?ie=UTF8&reviewerType=all_reviews&pageNumber=5\n",
      "INFO:root:https://www.amazon.com/Fire-HD-8-Plus-tablet/product-reviews/B0839NDRB2/ref=cm_cr_arp_d_paging_btm_next_2?ie=UTF8&reviewerType=all_reviews&pageNumber=6\n",
      "INFO:root:https://www.amazon.com/Fire-HD-8-Plus-tablet/product-reviews/B0839NDRB2/ref=cm_cr_arp_d_paging_btm_next_2?ie=UTF8&reviewerType=all_reviews&pageNumber=7\n",
      "INFO:root:https://www.amazon.com/Fire-HD-8-Plus-tablet/product-reviews/B0839NDRB2/ref=cm_cr_arp_d_paging_btm_next_2?ie=UTF8&reviewerType=all_reviews&pageNumber=8\n",
      "INFO:root:https://www.amazon.com/Fire-HD-8-Plus-tablet/product-reviews/B0839NDRB2/ref=cm_cr_arp_d_paging_btm_next_2?ie=UTF8&reviewerType=all_reviews&pageNumber=9\n",
      "INFO:root:https://www.amazon.com/Fire-HD-8-Plus-tablet/product-reviews/B0839NDRB2/ref=cm_cr_arp_d_paging_btm_next_2?ie=UTF8&reviewerType=all_reviews&pageNumber=10\n",
      "INFO:root:https://www.amazon.com/Fire-HD-8-Plus-tablet/product-reviews/B0839NDRB2/ref=cm_cr_arp_d_paging_btm_next_2?ie=UTF8&reviewerType=all_reviews&pageNumber=11\n",
      "INFO:root:https://www.amazon.com/Fire-HD-8-Plus-tablet/product-reviews/B0839NDRB2/ref=cm_cr_arp_d_paging_btm_next_2?ie=UTF8&reviewerType=all_reviews&pageNumber=12\n",
      "INFO:root:https://www.amazon.com/Fire-HD-8-Plus-tablet/product-reviews/B0839NDRB2/ref=cm_cr_arp_d_paging_btm_next_2?ie=UTF8&reviewerType=all_reviews&pageNumber=13\n",
      "INFO:root:https://www.amazon.com/Fire-HD-8-Plus-tablet/product-reviews/B0839NDRB2/ref=cm_cr_arp_d_paging_btm_next_2?ie=UTF8&reviewerType=all_reviews&pageNumber=14\n",
      "INFO:root:https://www.amazon.com/Fire-HD-8-Plus-tablet/product-reviews/B0839NDRB2/ref=cm_cr_arp_d_paging_btm_next_2?ie=UTF8&reviewerType=all_reviews&pageNumber=15\n",
      "INFO:root:https://www.amazon.com/Fire-HD-8-Plus-tablet/product-reviews/B0839NDRB2/ref=cm_cr_arp_d_paging_btm_next_2?ie=UTF8&reviewerType=all_reviews&pageNumber=16\n",
      "INFO:root:https://www.amazon.com/Fire-HD-8-Plus-tablet/product-reviews/B0839NDRB2/ref=cm_cr_arp_d_paging_btm_next_2?ie=UTF8&reviewerType=all_reviews&pageNumber=17\n",
      "INFO:root:https://www.amazon.com/Fire-HD-8-Plus-tablet/product-reviews/B0839NDRB2/ref=cm_cr_arp_d_paging_btm_next_2?ie=UTF8&reviewerType=all_reviews&pageNumber=18\n",
      "INFO:root:https://www.amazon.com/Fire-HD-8-Plus-tablet/product-reviews/B0839NDRB2/ref=cm_cr_arp_d_paging_btm_next_2?ie=UTF8&reviewerType=all_reviews&pageNumber=19\n",
      "INFO:root:https://www.amazon.com/Fire-HD-8-Plus-tablet/product-reviews/B0839NDRB2/ref=cm_cr_arp_d_paging_btm_next_2?ie=UTF8&reviewerType=all_reviews&pageNumber=20\n",
      "INFO:root:https://www.amazon.com/Fire-HD-8-Plus-tablet/product-reviews/B0839NDRB2/ref=cm_cr_arp_d_paging_btm_next_2?ie=UTF8&reviewerType=all_reviews&pageNumber=21\n",
      "INFO:root:https://www.amazon.com/Fire-HD-8-Plus-tablet/product-reviews/B0839NDRB2/ref=cm_cr_arp_d_paging_btm_next_2?ie=UTF8&reviewerType=all_reviews&pageNumber=22\n",
      "INFO:root:https://www.amazon.com/Fire-HD-8-Plus-tablet/product-reviews/B0839NDRB2/ref=cm_cr_arp_d_paging_btm_next_2?ie=UTF8&reviewerType=all_reviews&pageNumber=23\n",
      "INFO:root:https://www.amazon.com/Fire-HD-8-Plus-tablet/product-reviews/B0839NDRB2/ref=cm_cr_arp_d_paging_btm_next_2?ie=UTF8&reviewerType=all_reviews&pageNumber=24\n",
      "INFO:root:https://www.amazon.com/Fire-HD-8-Plus-tablet/product-reviews/B0839NDRB2/ref=cm_cr_arp_d_paging_btm_next_2?ie=UTF8&reviewerType=all_reviews&pageNumber=25\n",
      "INFO:root:https://www.amazon.com/Fire-HD-8-Plus-tablet/product-reviews/B0839NDRB2/ref=cm_cr_arp_d_paging_btm_next_2?ie=UTF8&reviewerType=all_reviews&pageNumber=26\n",
      "INFO:root:https://www.amazon.com/Fire-HD-8-Plus-tablet/product-reviews/B0839NDRB2/ref=cm_cr_arp_d_paging_btm_next_2?ie=UTF8&reviewerType=all_reviews&pageNumber=27\n",
      "INFO:root:https://www.amazon.com/Fire-HD-8-Plus-tablet/product-reviews/B0839NDRB2/ref=cm_cr_arp_d_paging_btm_next_2?ie=UTF8&reviewerType=all_reviews&pageNumber=28\n",
      "INFO:root:https://www.amazon.com/Fire-HD-8-Plus-tablet/product-reviews/B0839NDRB2/ref=cm_cr_arp_d_paging_btm_next_2?ie=UTF8&reviewerType=all_reviews&pageNumber=29\n",
      "INFO:root:https://www.amazon.com/Fire-HD-8-Plus-tablet/product-reviews/B0839NDRB2/ref=cm_cr_arp_d_paging_btm_next_2?ie=UTF8&reviewerType=all_reviews&pageNumber=30\n",
      "INFO:root:https://www.amazon.com/Fire-HD-8-Plus-tablet/product-reviews/B0839NDRB2/ref=cm_cr_arp_d_paging_btm_next_2?ie=UTF8&reviewerType=all_reviews&pageNumber=31\n",
      "INFO:root:https://www.amazon.com/Fire-HD-8-Plus-tablet/product-reviews/B0839NDRB2/ref=cm_cr_arp_d_paging_btm_next_2?ie=UTF8&reviewerType=all_reviews&pageNumber=32\n",
      "INFO:root:https://www.amazon.com/Fire-HD-8-Plus-tablet/product-reviews/B0839NDRB2/ref=cm_cr_arp_d_paging_btm_next_2?ie=UTF8&reviewerType=all_reviews&pageNumber=33\n",
      "INFO:root:https://www.amazon.com/Fire-HD-8-Plus-tablet/product-reviews/B0839NDRB2/ref=cm_cr_arp_d_paging_btm_next_2?ie=UTF8&reviewerType=all_reviews&pageNumber=34\n",
      "INFO:root:https://www.amazon.com/Fire-HD-8-Plus-tablet/product-reviews/B0839NDRB2/ref=cm_cr_arp_d_paging_btm_next_2?ie=UTF8&reviewerType=all_reviews&pageNumber=35\n",
      "INFO:root:https://www.amazon.com/Fire-HD-8-Plus-tablet/product-reviews/B0839NDRB2/ref=cm_cr_arp_d_paging_btm_next_2?ie=UTF8&reviewerType=all_reviews&pageNumber=36\n",
      "INFO:root:https://www.amazon.com/Fire-HD-8-Plus-tablet/product-reviews/B0839NDRB2/ref=cm_cr_arp_d_paging_btm_next_2?ie=UTF8&reviewerType=all_reviews&pageNumber=37\n",
      "INFO:root:https://www.amazon.com/Fire-HD-8-Plus-tablet/product-reviews/B0839NDRB2/ref=cm_cr_arp_d_paging_btm_next_2?ie=UTF8&reviewerType=all_reviews&pageNumber=38\n",
      "INFO:root:https://www.amazon.com/Fire-HD-8-Plus-tablet/product-reviews/B0839NDRB2/ref=cm_cr_arp_d_paging_btm_next_2?ie=UTF8&reviewerType=all_reviews&pageNumber=39\n",
      "INFO:root:https://www.amazon.com/Fire-HD-8-Plus-tablet/product-reviews/B0839NDRB2/ref=cm_cr_arp_d_paging_btm_next_2?ie=UTF8&reviewerType=all_reviews&pageNumber=40\n",
      "INFO:root:https://www.amazon.com/Fire-HD-8-Plus-tablet/product-reviews/B0839NDRB2/ref=cm_cr_arp_d_paging_btm_next_2?ie=UTF8&reviewerType=all_reviews&pageNumber=41\n",
      "INFO:root:https://www.amazon.com/Fire-HD-8-Plus-tablet/product-reviews/B0839NDRB2/ref=cm_cr_arp_d_paging_btm_next_2?ie=UTF8&reviewerType=all_reviews&pageNumber=42\n",
      "INFO:root:https://www.amazon.com/Fire-HD-8-Plus-tablet/product-reviews/B0839NDRB2/ref=cm_cr_arp_d_paging_btm_next_2?ie=UTF8&reviewerType=all_reviews&pageNumber=43\n",
      "INFO:root:https://www.amazon.com/Fire-HD-8-Plus-tablet/product-reviews/B0839NDRB2/ref=cm_cr_arp_d_paging_btm_next_2?ie=UTF8&reviewerType=all_reviews&pageNumber=44\n",
      "INFO:root:https://www.amazon.com/Fire-HD-8-Plus-tablet/product-reviews/B0839NDRB2/ref=cm_cr_arp_d_paging_btm_next_2?ie=UTF8&reviewerType=all_reviews&pageNumber=45\n",
      "INFO:root:https://www.amazon.com/Fire-HD-8-Plus-tablet/product-reviews/B0839NDRB2/ref=cm_cr_arp_d_paging_btm_next_2?ie=UTF8&reviewerType=all_reviews&pageNumber=46\n",
      "INFO:root:https://www.amazon.com/Fire-HD-8-Plus-tablet/product-reviews/B0839NDRB2/ref=cm_cr_arp_d_paging_btm_next_2?ie=UTF8&reviewerType=all_reviews&pageNumber=47\n",
      "INFO:root:https://www.amazon.com/Fire-HD-8-Plus-tablet/product-reviews/B0839NDRB2/ref=cm_cr_arp_d_paging_btm_next_2?ie=UTF8&reviewerType=all_reviews&pageNumber=48\n",
      "INFO:root:https://www.amazon.com/Fire-HD-8-Plus-tablet/product-reviews/B0839NDRB2/ref=cm_cr_arp_d_paging_btm_next_2?ie=UTF8&reviewerType=all_reviews&pageNumber=49\n",
      "INFO:root:https://www.amazon.com/Fire-HD-8-Plus-tablet/product-reviews/B0839NDRB2/ref=cm_cr_arp_d_paging_btm_next_2?ie=UTF8&reviewerType=all_reviews&pageNumber=50\n"
     ]
    },
    {
     "name": "stderr",
     "output_type": "stream",
     "text": [
      "INFO:root:https://www.amazon.com/Fire-HD-8-Plus-tablet/product-reviews/B0839NDRB2/ref=cm_cr_arp_d_paging_btm_next_2?ie=UTF8&reviewerType=all_reviews&pageNumber=51\n",
      "INFO:root:https://www.amazon.com/Fire-HD-8-Plus-tablet/product-reviews/B0839NDRB2/ref=cm_cr_arp_d_paging_btm_next_2?ie=UTF8&reviewerType=all_reviews&pageNumber=52\n",
      "INFO:root:https://www.amazon.com/Fire-HD-8-Plus-tablet/product-reviews/B0839NDRB2/ref=cm_cr_arp_d_paging_btm_next_2?ie=UTF8&reviewerType=all_reviews&pageNumber=53\n",
      "INFO:root:https://www.amazon.com/Fire-HD-8-Plus-tablet/product-reviews/B0839NDRB2/ref=cm_cr_arp_d_paging_btm_next_2?ie=UTF8&reviewerType=all_reviews&pageNumber=54\n",
      "INFO:root:https://www.amazon.com/Fire-HD-8-Plus-tablet/product-reviews/B0839NDRB2/ref=cm_cr_arp_d_paging_btm_next_2?ie=UTF8&reviewerType=all_reviews&pageNumber=55\n",
      "INFO:root:https://www.amazon.com/Fire-HD-8-Plus-tablet/product-reviews/B0839NDRB2/ref=cm_cr_arp_d_paging_btm_next_2?ie=UTF8&reviewerType=all_reviews&pageNumber=56\n",
      "INFO:root:https://www.amazon.com/Fire-HD-8-Plus-tablet/product-reviews/B0839NDRB2/ref=cm_cr_arp_d_paging_btm_next_2?ie=UTF8&reviewerType=all_reviews&pageNumber=57\n",
      "INFO:root:https://www.amazon.com/Fire-HD-8-Plus-tablet/product-reviews/B0839NDRB2/ref=cm_cr_arp_d_paging_btm_next_2?ie=UTF8&reviewerType=all_reviews&pageNumber=58\n",
      "INFO:root:https://www.amazon.com/Fire-HD-8-Plus-tablet/product-reviews/B0839NDRB2/ref=cm_cr_arp_d_paging_btm_next_2?ie=UTF8&reviewerType=all_reviews&pageNumber=59\n",
      "INFO:root:https://www.amazon.com/Fire-HD-8-Plus-tablet/product-reviews/B0839NDRB2/ref=cm_cr_arp_d_paging_btm_next_2?ie=UTF8&reviewerType=all_reviews&pageNumber=60\n",
      "INFO:root:https://www.amazon.com/Fire-HD-8-Plus-tablet/product-reviews/B0839NDRB2/ref=cm_cr_arp_d_paging_btm_next_2?ie=UTF8&reviewerType=all_reviews&pageNumber=61\n",
      "INFO:root:https://www.amazon.com/Fire-HD-8-Plus-tablet/product-reviews/B0839NDRB2/ref=cm_cr_arp_d_paging_btm_next_2?ie=UTF8&reviewerType=all_reviews&pageNumber=62\n",
      "INFO:root:https://www.amazon.com/Fire-HD-8-Plus-tablet/product-reviews/B0839NDRB2/ref=cm_cr_arp_d_paging_btm_next_2?ie=UTF8&reviewerType=all_reviews&pageNumber=63\n",
      "INFO:root:https://www.amazon.com/Fire-HD-8-Plus-tablet/product-reviews/B0839NDRB2/ref=cm_cr_arp_d_paging_btm_next_2?ie=UTF8&reviewerType=all_reviews&pageNumber=64\n",
      "INFO:root:https://www.amazon.com/Fire-HD-8-Plus-tablet/product-reviews/B0839NDRB2/ref=cm_cr_arp_d_paging_btm_next_2?ie=UTF8&reviewerType=all_reviews&pageNumber=65\n",
      "INFO:root:https://www.amazon.com/Fire-HD-8-Plus-tablet/product-reviews/B0839NDRB2/ref=cm_cr_arp_d_paging_btm_next_2?ie=UTF8&reviewerType=all_reviews&pageNumber=66\n",
      "INFO:root:https://www.amazon.com/Fire-HD-8-Plus-tablet/product-reviews/B0839NDRB2/ref=cm_cr_arp_d_paging_btm_next_2?ie=UTF8&reviewerType=all_reviews&pageNumber=67\n",
      "INFO:root:https://www.amazon.com/Fire-HD-8-Plus-tablet/product-reviews/B0839NDRB2/ref=cm_cr_arp_d_paging_btm_next_2?ie=UTF8&reviewerType=all_reviews&pageNumber=68\n",
      "INFO:root:https://www.amazon.com/Fire-HD-8-Plus-tablet/product-reviews/B0839NDRB2/ref=cm_cr_arp_d_paging_btm_next_2?ie=UTF8&reviewerType=all_reviews&pageNumber=69\n",
      "INFO:root:https://www.amazon.com/Fire-HD-8-Plus-tablet/product-reviews/B0839NDRB2/ref=cm_cr_arp_d_paging_btm_next_2?ie=UTF8&reviewerType=all_reviews&pageNumber=70\n",
      "INFO:root:https://www.amazon.com/Fire-HD-8-Plus-tablet/product-reviews/B0839NDRB2/ref=cm_cr_arp_d_paging_btm_next_2?ie=UTF8&reviewerType=all_reviews&pageNumber=71\n",
      "INFO:root:https://www.amazon.com/Fire-HD-8-Plus-tablet/product-reviews/B0839NDRB2/ref=cm_cr_arp_d_paging_btm_next_2?ie=UTF8&reviewerType=all_reviews&pageNumber=72\n",
      "INFO:root:https://www.amazon.com/Fire-HD-8-Plus-tablet/product-reviews/B0839NDRB2/ref=cm_cr_arp_d_paging_btm_next_2?ie=UTF8&reviewerType=all_reviews&pageNumber=73\n",
      "INFO:root:https://www.amazon.com/Fire-HD-8-Plus-tablet/product-reviews/B0839NDRB2/ref=cm_cr_arp_d_paging_btm_next_2?ie=UTF8&reviewerType=all_reviews&pageNumber=74\n",
      "INFO:root:https://www.amazon.com/Fire-HD-8-Plus-tablet/product-reviews/B0839NDRB2/ref=cm_cr_arp_d_paging_btm_next_2?ie=UTF8&reviewerType=all_reviews&pageNumber=75\n",
      "INFO:root:https://www.amazon.com/Fire-HD-8-Plus-tablet/product-reviews/B0839NDRB2/ref=cm_cr_arp_d_paging_btm_next_2?ie=UTF8&reviewerType=all_reviews&pageNumber=76\n",
      "INFO:root:https://www.amazon.com/Fire-HD-8-Plus-tablet/product-reviews/B0839NDRB2/ref=cm_cr_arp_d_paging_btm_next_2?ie=UTF8&reviewerType=all_reviews&pageNumber=77\n",
      "INFO:root:https://www.amazon.com/Fire-HD-8-Plus-tablet/product-reviews/B0839NDRB2/ref=cm_cr_arp_d_paging_btm_next_2?ie=UTF8&reviewerType=all_reviews&pageNumber=78\n",
      "INFO:root:https://www.amazon.com/Fire-HD-8-Plus-tablet/product-reviews/B0839NDRB2/ref=cm_cr_arp_d_paging_btm_next_2?ie=UTF8&reviewerType=all_reviews&pageNumber=79\n",
      "INFO:root:https://www.amazon.com/Fire-HD-8-Plus-tablet/product-reviews/B0839NDRB2/ref=cm_cr_arp_d_paging_btm_next_2?ie=UTF8&reviewerType=all_reviews&pageNumber=80\n",
      "INFO:root:https://www.amazon.com/Fire-HD-8-Plus-tablet/product-reviews/B0839NDRB2/ref=cm_cr_arp_d_paging_btm_next_2?ie=UTF8&reviewerType=all_reviews&pageNumber=81\n",
      "INFO:root:https://www.amazon.com/Fire-HD-8-Plus-tablet/product-reviews/B0839NDRB2/ref=cm_cr_arp_d_paging_btm_next_2?ie=UTF8&reviewerType=all_reviews&pageNumber=82\n",
      "INFO:root:https://www.amazon.com/Fire-HD-8-Plus-tablet/product-reviews/B0839NDRB2/ref=cm_cr_arp_d_paging_btm_next_2?ie=UTF8&reviewerType=all_reviews&pageNumber=83\n",
      "INFO:root:https://www.amazon.com/Fire-HD-8-Plus-tablet/product-reviews/B0839NDRB2/ref=cm_cr_arp_d_paging_btm_next_2?ie=UTF8&reviewerType=all_reviews&pageNumber=84\n",
      "INFO:root:https://www.amazon.com/Fire-HD-8-Plus-tablet/product-reviews/B0839NDRB2/ref=cm_cr_arp_d_paging_btm_next_2?ie=UTF8&reviewerType=all_reviews&pageNumber=85\n",
      "INFO:root:https://www.amazon.com/Fire-HD-8-Plus-tablet/product-reviews/B0839NDRB2/ref=cm_cr_arp_d_paging_btm_next_2?ie=UTF8&reviewerType=all_reviews&pageNumber=86\n",
      "INFO:root:https://www.amazon.com/Fire-HD-8-Plus-tablet/product-reviews/B0839NDRB2/ref=cm_cr_arp_d_paging_btm_next_2?ie=UTF8&reviewerType=all_reviews&pageNumber=87\n",
      "INFO:root:https://www.amazon.com/Fire-HD-8-Plus-tablet/product-reviews/B0839NDRB2/ref=cm_cr_arp_d_paging_btm_next_2?ie=UTF8&reviewerType=all_reviews&pageNumber=88\n",
      "INFO:root:https://www.amazon.com/Fire-HD-8-Plus-tablet/product-reviews/B0839NDRB2/ref=cm_cr_arp_d_paging_btm_next_2?ie=UTF8&reviewerType=all_reviews&pageNumber=89\n",
      "INFO:root:https://www.amazon.com/Fire-HD-8-Plus-tablet/product-reviews/B0839NDRB2/ref=cm_cr_arp_d_paging_btm_next_2?ie=UTF8&reviewerType=all_reviews&pageNumber=90\n",
      "INFO:root:https://www.amazon.com/Fire-HD-8-Plus-tablet/product-reviews/B0839NDRB2/ref=cm_cr_arp_d_paging_btm_next_2?ie=UTF8&reviewerType=all_reviews&pageNumber=91\n",
      "INFO:root:https://www.amazon.com/Fire-HD-8-Plus-tablet/product-reviews/B0839NDRB2/ref=cm_cr_arp_d_paging_btm_next_2?ie=UTF8&reviewerType=all_reviews&pageNumber=92\n",
      "INFO:root:https://www.amazon.com/Fire-HD-8-Plus-tablet/product-reviews/B0839NDRB2/ref=cm_cr_arp_d_paging_btm_next_2?ie=UTF8&reviewerType=all_reviews&pageNumber=93\n",
      "INFO:root:https://www.amazon.com/Fire-HD-8-Plus-tablet/product-reviews/B0839NDRB2/ref=cm_cr_arp_d_paging_btm_next_2?ie=UTF8&reviewerType=all_reviews&pageNumber=94\n",
      "INFO:root:https://www.amazon.com/Fire-HD-8-Plus-tablet/product-reviews/B0839NDRB2/ref=cm_cr_arp_d_paging_btm_next_2?ie=UTF8&reviewerType=all_reviews&pageNumber=95\n",
      "INFO:root:https://www.amazon.com/Fire-HD-8-Plus-tablet/product-reviews/B0839NDRB2/ref=cm_cr_arp_d_paging_btm_next_2?ie=UTF8&reviewerType=all_reviews&pageNumber=96\n",
      "INFO:root:https://www.amazon.com/Fire-HD-8-Plus-tablet/product-reviews/B0839NDRB2/ref=cm_cr_arp_d_paging_btm_next_2?ie=UTF8&reviewerType=all_reviews&pageNumber=97\n",
      "INFO:root:https://www.amazon.com/Fire-HD-8-Plus-tablet/product-reviews/B0839NDRB2/ref=cm_cr_arp_d_paging_btm_next_2?ie=UTF8&reviewerType=all_reviews&pageNumber=98\n",
      "INFO:root:https://www.amazon.com/Fire-HD-8-Plus-tablet/product-reviews/B0839NDRB2/ref=cm_cr_arp_d_paging_btm_next_2?ie=UTF8&reviewerType=all_reviews&pageNumber=99\n",
      "INFO:root:https://www.amazon.com/Fire-HD-8-Plus-tablet/product-reviews/B0839NDRB2/ref=cm_cr_arp_d_paging_btm_next_2?ie=UTF8&reviewerType=all_reviews&pageNumber=100\n",
      "INFO:root:https://www.amazon.com/Fire-HD-8-Plus-tablet/product-reviews/B0839NDRB2/ref=cm_cr_arp_d_paging_btm_next_2?ie=UTF8&reviewerType=all_reviews&pageNumber=101\n"
     ]
    },
    {
     "name": "stderr",
     "output_type": "stream",
     "text": [
      "INFO:root:https://www.amazon.com/Fire-HD-8-Plus-tablet/product-reviews/B0839NDRB2/ref=cm_cr_arp_d_paging_btm_next_2?ie=UTF8&reviewerType=all_reviews&pageNumber=102\n",
      "INFO:root:https://www.amazon.com/Fire-HD-8-Plus-tablet/product-reviews/B0839NDRB2/ref=cm_cr_arp_d_paging_btm_next_2?ie=UTF8&reviewerType=all_reviews&pageNumber=103\n",
      "INFO:root:https://www.amazon.com/Fire-HD-8-Plus-tablet/product-reviews/B0839NDRB2/ref=cm_cr_arp_d_paging_btm_next_2?ie=UTF8&reviewerType=all_reviews&pageNumber=104\n",
      "INFO:root:https://www.amazon.com/Fire-HD-8-Plus-tablet/product-reviews/B0839NDRB2/ref=cm_cr_arp_d_paging_btm_next_2?ie=UTF8&reviewerType=all_reviews&pageNumber=105\n",
      "INFO:root:https://www.amazon.com/Fire-HD-8-Plus-tablet/product-reviews/B0839NDRB2/ref=cm_cr_arp_d_paging_btm_next_2?ie=UTF8&reviewerType=all_reviews&pageNumber=106\n",
      "INFO:root:https://www.amazon.com/Fire-HD-8-Plus-tablet/product-reviews/B0839NDRB2/ref=cm_cr_arp_d_paging_btm_next_2?ie=UTF8&reviewerType=all_reviews&pageNumber=107\n",
      "INFO:root:https://www.amazon.com/Fire-HD-8-Plus-tablet/product-reviews/B0839NDRB2/ref=cm_cr_arp_d_paging_btm_next_2?ie=UTF8&reviewerType=all_reviews&pageNumber=108\n",
      "INFO:root:https://www.amazon.com/Fire-HD-8-Plus-tablet/product-reviews/B0839NDRB2/ref=cm_cr_arp_d_paging_btm_next_2?ie=UTF8&reviewerType=all_reviews&pageNumber=109\n",
      "INFO:root:https://www.amazon.com/Fire-HD-8-Plus-tablet/product-reviews/B0839NDRB2/ref=cm_cr_arp_d_paging_btm_next_2?ie=UTF8&reviewerType=all_reviews&pageNumber=110\n",
      "INFO:root:https://www.amazon.com/Fire-HD-8-Plus-tablet/product-reviews/B0839NDRB2/ref=cm_cr_arp_d_paging_btm_next_2?ie=UTF8&reviewerType=all_reviews&pageNumber=111\n",
      "INFO:root:https://www.amazon.com/Fire-HD-8-Plus-tablet/product-reviews/B0839NDRB2/ref=cm_cr_arp_d_paging_btm_next_2?ie=UTF8&reviewerType=all_reviews&pageNumber=112\n",
      "INFO:root:https://www.amazon.com/Fire-HD-8-Plus-tablet/product-reviews/B0839NDRB2/ref=cm_cr_arp_d_paging_btm_next_2?ie=UTF8&reviewerType=all_reviews&pageNumber=113\n",
      "INFO:root:https://www.amazon.com/Fire-HD-8-Plus-tablet/product-reviews/B0839NDRB2/ref=cm_cr_arp_d_paging_btm_next_2?ie=UTF8&reviewerType=all_reviews&pageNumber=114\n",
      "INFO:root:https://www.amazon.com/Fire-HD-8-Plus-tablet/product-reviews/B0839NDRB2/ref=cm_cr_arp_d_paging_btm_next_2?ie=UTF8&reviewerType=all_reviews&pageNumber=115\n",
      "INFO:root:https://www.amazon.com/Fire-HD-8-Plus-tablet/product-reviews/B0839NDRB2/ref=cm_cr_arp_d_paging_btm_next_2?ie=UTF8&reviewerType=all_reviews&pageNumber=116\n",
      "INFO:root:https://www.amazon.com/Fire-HD-8-Plus-tablet/product-reviews/B0839NDRB2/ref=cm_cr_arp_d_paging_btm_next_2?ie=UTF8&reviewerType=all_reviews&pageNumber=117\n",
      "INFO:root:https://www.amazon.com/Fire-HD-8-Plus-tablet/product-reviews/B0839NDRB2/ref=cm_cr_arp_d_paging_btm_next_2?ie=UTF8&reviewerType=all_reviews&pageNumber=118\n",
      "INFO:root:https://www.amazon.com/Fire-HD-8-Plus-tablet/product-reviews/B0839NDRB2/ref=cm_cr_arp_d_paging_btm_next_2?ie=UTF8&reviewerType=all_reviews&pageNumber=119\n",
      "INFO:root:https://www.amazon.com/Fire-HD-8-Plus-tablet/product-reviews/B0839NDRB2/ref=cm_cr_arp_d_paging_btm_next_2?ie=UTF8&reviewerType=all_reviews&pageNumber=120\n",
      "INFO:root:https://www.amazon.com/Fire-HD-8-Plus-tablet/product-reviews/B0839NDRB2/ref=cm_cr_arp_d_paging_btm_next_2?ie=UTF8&reviewerType=all_reviews&pageNumber=121\n",
      "INFO:root:https://www.amazon.com/Fire-HD-8-Plus-tablet/product-reviews/B0839NDRB2/ref=cm_cr_arp_d_paging_btm_next_2?ie=UTF8&reviewerType=all_reviews&pageNumber=122\n",
      "INFO:root:https://www.amazon.com/Fire-HD-8-Plus-tablet/product-reviews/B0839NDRB2/ref=cm_cr_arp_d_paging_btm_next_2?ie=UTF8&reviewerType=all_reviews&pageNumber=123\n",
      "INFO:root:https://www.amazon.com/Fire-HD-8-Plus-tablet/product-reviews/B0839NDRB2/ref=cm_cr_arp_d_paging_btm_next_2?ie=UTF8&reviewerType=all_reviews&pageNumber=124\n",
      "INFO:root:https://www.amazon.com/Fire-HD-8-Plus-tablet/product-reviews/B0839NDRB2/ref=cm_cr_arp_d_paging_btm_next_2?ie=UTF8&reviewerType=all_reviews&pageNumber=125\n",
      "INFO:root:https://www.amazon.com/Fire-HD-8-Plus-tablet/product-reviews/B0839NDRB2/ref=cm_cr_arp_d_paging_btm_next_2?ie=UTF8&reviewerType=all_reviews&pageNumber=126\n",
      "INFO:root:https://www.amazon.com/Fire-HD-8-Plus-tablet/product-reviews/B0839NDRB2/ref=cm_cr_arp_d_paging_btm_next_2?ie=UTF8&reviewerType=all_reviews&pageNumber=127\n",
      "INFO:root:https://www.amazon.com/Fire-HD-8-Plus-tablet/product-reviews/B0839NDRB2/ref=cm_cr_arp_d_paging_btm_next_2?ie=UTF8&reviewerType=all_reviews&pageNumber=128\n",
      "INFO:root:https://www.amazon.com/Fire-HD-8-Plus-tablet/product-reviews/B0839NDRB2/ref=cm_cr_arp_d_paging_btm_next_2?ie=UTF8&reviewerType=all_reviews&pageNumber=129\n",
      "INFO:root:https://www.amazon.com/Fire-HD-8-Plus-tablet/product-reviews/B0839NDRB2/ref=cm_cr_arp_d_paging_btm_next_2?ie=UTF8&reviewerType=all_reviews&pageNumber=130\n",
      "INFO:root:https://www.amazon.com/Fire-HD-8-Plus-tablet/product-reviews/B0839NDRB2/ref=cm_cr_arp_d_paging_btm_next_2?ie=UTF8&reviewerType=all_reviews&pageNumber=131\n",
      "INFO:root:https://www.amazon.com/Fire-HD-8-Plus-tablet/product-reviews/B0839NDRB2/ref=cm_cr_arp_d_paging_btm_next_2?ie=UTF8&reviewerType=all_reviews&pageNumber=132\n",
      "INFO:root:https://www.amazon.com/Fire-HD-8-Plus-tablet/product-reviews/B0839NDRB2/ref=cm_cr_arp_d_paging_btm_next_2?ie=UTF8&reviewerType=all_reviews&pageNumber=133\n",
      "INFO:root:https://www.amazon.com/Fire-HD-8-Plus-tablet/product-reviews/B0839NDRB2/ref=cm_cr_arp_d_paging_btm_next_2?ie=UTF8&reviewerType=all_reviews&pageNumber=134\n",
      "INFO:root:https://www.amazon.com/Fire-HD-8-Plus-tablet/product-reviews/B0839NDRB2/ref=cm_cr_arp_d_paging_btm_next_2?ie=UTF8&reviewerType=all_reviews&pageNumber=135\n",
      "INFO:root:https://www.amazon.com/Fire-HD-8-Plus-tablet/product-reviews/B0839NDRB2/ref=cm_cr_arp_d_paging_btm_next_2?ie=UTF8&reviewerType=all_reviews&pageNumber=136\n",
      "INFO:root:https://www.amazon.com/Fire-HD-8-Plus-tablet/product-reviews/B0839NDRB2/ref=cm_cr_arp_d_paging_btm_next_2?ie=UTF8&reviewerType=all_reviews&pageNumber=137\n",
      "INFO:root:https://www.amazon.com/Fire-HD-8-Plus-tablet/product-reviews/B0839NDRB2/ref=cm_cr_arp_d_paging_btm_next_2?ie=UTF8&reviewerType=all_reviews&pageNumber=138\n",
      "INFO:root:https://www.amazon.com/Fire-HD-8-Plus-tablet/product-reviews/B0839NDRB2/ref=cm_cr_arp_d_paging_btm_next_2?ie=UTF8&reviewerType=all_reviews&pageNumber=139\n",
      "INFO:root:https://www.amazon.com/Fire-HD-8-Plus-tablet/product-reviews/B0839NDRB2/ref=cm_cr_arp_d_paging_btm_next_2?ie=UTF8&reviewerType=all_reviews&pageNumber=140\n",
      "INFO:root:https://www.amazon.com/Fire-HD-8-Plus-tablet/product-reviews/B0839NDRB2/ref=cm_cr_arp_d_paging_btm_next_2?ie=UTF8&reviewerType=all_reviews&pageNumber=141\n",
      "INFO:root:https://www.amazon.com/Fire-HD-8-Plus-tablet/product-reviews/B0839NDRB2/ref=cm_cr_arp_d_paging_btm_next_2?ie=UTF8&reviewerType=all_reviews&pageNumber=142\n",
      "INFO:root:https://www.amazon.com/Fire-HD-8-Plus-tablet/product-reviews/B0839NDRB2/ref=cm_cr_arp_d_paging_btm_next_2?ie=UTF8&reviewerType=all_reviews&pageNumber=143\n",
      "INFO:root:https://www.amazon.com/Fire-HD-8-Plus-tablet/product-reviews/B0839NDRB2/ref=cm_cr_arp_d_paging_btm_next_2?ie=UTF8&reviewerType=all_reviews&pageNumber=144\n",
      "INFO:root:https://www.amazon.com/Fire-HD-8-Plus-tablet/product-reviews/B0839NDRB2/ref=cm_cr_arp_d_paging_btm_next_2?ie=UTF8&reviewerType=all_reviews&pageNumber=145\n",
      "INFO:root:https://www.amazon.com/Fire-HD-8-Plus-tablet/product-reviews/B0839NDRB2/ref=cm_cr_arp_d_paging_btm_next_2?ie=UTF8&reviewerType=all_reviews&pageNumber=146\n",
      "INFO:root:https://www.amazon.com/Fire-HD-8-Plus-tablet/product-reviews/B0839NDRB2/ref=cm_cr_arp_d_paging_btm_next_2?ie=UTF8&reviewerType=all_reviews&pageNumber=147\n",
      "INFO:root:https://www.amazon.com/Fire-HD-8-Plus-tablet/product-reviews/B0839NDRB2/ref=cm_cr_arp_d_paging_btm_next_2?ie=UTF8&reviewerType=all_reviews&pageNumber=148\n",
      "INFO:root:https://www.amazon.com/Fire-HD-8-Plus-tablet/product-reviews/B0839NDRB2/ref=cm_cr_arp_d_paging_btm_next_2?ie=UTF8&reviewerType=all_reviews&pageNumber=149\n",
      "INFO:root:https://www.amazon.com/Fire-HD-8-Plus-tablet/product-reviews/B0839NDRB2/ref=cm_cr_arp_d_paging_btm_next_2?ie=UTF8&reviewerType=all_reviews&pageNumber=150\n",
      "INFO:root:https://www.amazon.com/Fire-HD-8-Plus-tablet/product-reviews/B0839NDRB2/ref=cm_cr_arp_d_paging_btm_next_2?ie=UTF8&reviewerType=all_reviews&pageNumber=151\n"
     ]
    },
    {
     "name": "stderr",
     "output_type": "stream",
     "text": [
      "INFO:root:https://www.amazon.com/Fire-HD-8-Plus-tablet/product-reviews/B0839NDRB2/ref=cm_cr_arp_d_paging_btm_next_2?ie=UTF8&reviewerType=all_reviews&pageNumber=152\n",
      "INFO:root:https://www.amazon.com/Fire-HD-8-Plus-tablet/product-reviews/B0839NDRB2/ref=cm_cr_arp_d_paging_btm_next_2?ie=UTF8&reviewerType=all_reviews&pageNumber=153\n",
      "INFO:root:https://www.amazon.com/Fire-HD-8-Plus-tablet/product-reviews/B0839NDRB2/ref=cm_cr_arp_d_paging_btm_next_2?ie=UTF8&reviewerType=all_reviews&pageNumber=154\n",
      "INFO:root:https://www.amazon.com/Fire-HD-8-Plus-tablet/product-reviews/B0839NDRB2/ref=cm_cr_arp_d_paging_btm_next_2?ie=UTF8&reviewerType=all_reviews&pageNumber=155\n",
      "INFO:root:https://www.amazon.com/Fire-HD-8-Plus-tablet/product-reviews/B0839NDRB2/ref=cm_cr_arp_d_paging_btm_next_2?ie=UTF8&reviewerType=all_reviews&pageNumber=156\n",
      "INFO:root:https://www.amazon.com/Fire-HD-8-Plus-tablet/product-reviews/B0839NDRB2/ref=cm_cr_arp_d_paging_btm_next_2?ie=UTF8&reviewerType=all_reviews&pageNumber=157\n",
      "INFO:root:https://www.amazon.com/Fire-HD-8-Plus-tablet/product-reviews/B0839NDRB2/ref=cm_cr_arp_d_paging_btm_next_2?ie=UTF8&reviewerType=all_reviews&pageNumber=158\n",
      "INFO:root:https://www.amazon.com/Fire-HD-8-Plus-tablet/product-reviews/B0839NDRB2/ref=cm_cr_arp_d_paging_btm_next_2?ie=UTF8&reviewerType=all_reviews&pageNumber=159\n",
      "INFO:root:https://www.amazon.com/Fire-HD-8-Plus-tablet/product-reviews/B0839NDRB2/ref=cm_cr_arp_d_paging_btm_next_2?ie=UTF8&reviewerType=all_reviews&pageNumber=160\n",
      "INFO:root:https://www.amazon.com/Fire-HD-8-Plus-tablet/product-reviews/B0839NDRB2/ref=cm_cr_arp_d_paging_btm_next_2?ie=UTF8&reviewerType=all_reviews&pageNumber=161\n",
      "INFO:root:https://www.amazon.com/Fire-HD-8-Plus-tablet/product-reviews/B0839NDRB2/ref=cm_cr_arp_d_paging_btm_next_2?ie=UTF8&reviewerType=all_reviews&pageNumber=162\n",
      "INFO:root:https://www.amazon.com/Fire-HD-8-Plus-tablet/product-reviews/B0839NDRB2/ref=cm_cr_arp_d_paging_btm_next_2?ie=UTF8&reviewerType=all_reviews&pageNumber=163\n",
      "INFO:root:https://www.amazon.com/Fire-HD-8-Plus-tablet/product-reviews/B0839NDRB2/ref=cm_cr_arp_d_paging_btm_next_2?ie=UTF8&reviewerType=all_reviews&pageNumber=164\n",
      "INFO:root:https://www.amazon.com/Fire-HD-8-Plus-tablet/product-reviews/B0839NDRB2/ref=cm_cr_arp_d_paging_btm_next_2?ie=UTF8&reviewerType=all_reviews&pageNumber=165\n",
      "INFO:root:https://www.amazon.com/Fire-HD-8-Plus-tablet/product-reviews/B0839NDRB2/ref=cm_cr_arp_d_paging_btm_next_2?ie=UTF8&reviewerType=all_reviews&pageNumber=166\n",
      "INFO:root:https://www.amazon.com/Fire-HD-8-Plus-tablet/product-reviews/B0839NDRB2/ref=cm_cr_arp_d_paging_btm_next_2?ie=UTF8&reviewerType=all_reviews&pageNumber=167\n",
      "INFO:root:https://www.amazon.com/Fire-HD-8-Plus-tablet/product-reviews/B0839NDRB2/ref=cm_cr_arp_d_paging_btm_next_2?ie=UTF8&reviewerType=all_reviews&pageNumber=168\n",
      "INFO:root:https://www.amazon.com/Fire-HD-8-Plus-tablet/product-reviews/B0839NDRB2/ref=cm_cr_arp_d_paging_btm_next_2?ie=UTF8&reviewerType=all_reviews&pageNumber=169\n",
      "INFO:root:https://www.amazon.com/Fire-HD-8-Plus-tablet/product-reviews/B0839NDRB2/ref=cm_cr_arp_d_paging_btm_next_2?ie=UTF8&reviewerType=all_reviews&pageNumber=170\n",
      "INFO:root:https://www.amazon.com/Fire-HD-8-Plus-tablet/product-reviews/B0839NDRB2/ref=cm_cr_arp_d_paging_btm_next_2?ie=UTF8&reviewerType=all_reviews&pageNumber=171\n",
      "INFO:root:https://www.amazon.com/Fire-HD-8-Plus-tablet/product-reviews/B0839NDRB2/ref=cm_cr_arp_d_paging_btm_next_2?ie=UTF8&reviewerType=all_reviews&pageNumber=172\n",
      "INFO:root:https://www.amazon.com/Fire-HD-8-Plus-tablet/product-reviews/B0839NDRB2/ref=cm_cr_arp_d_paging_btm_next_2?ie=UTF8&reviewerType=all_reviews&pageNumber=173\n",
      "INFO:root:https://www.amazon.com/Fire-HD-8-Plus-tablet/product-reviews/B0839NDRB2/ref=cm_cr_arp_d_paging_btm_next_2?ie=UTF8&reviewerType=all_reviews&pageNumber=174\n",
      "INFO:root:https://www.amazon.com/Fire-HD-8-Plus-tablet/product-reviews/B0839NDRB2/ref=cm_cr_arp_d_paging_btm_next_2?ie=UTF8&reviewerType=all_reviews&pageNumber=175\n",
      "INFO:root:https://www.amazon.com/Fire-HD-8-Plus-tablet/product-reviews/B0839NDRB2/ref=cm_cr_arp_d_paging_btm_next_2?ie=UTF8&reviewerType=all_reviews&pageNumber=176\n",
      "INFO:root:https://www.amazon.com/Fire-HD-8-Plus-tablet/product-reviews/B0839NDRB2/ref=cm_cr_arp_d_paging_btm_next_2?ie=UTF8&reviewerType=all_reviews&pageNumber=177\n",
      "INFO:root:https://www.amazon.com/Fire-HD-8-Plus-tablet/product-reviews/B0839NDRB2/ref=cm_cr_arp_d_paging_btm_next_2?ie=UTF8&reviewerType=all_reviews&pageNumber=178\n",
      "INFO:root:https://www.amazon.com/Fire-HD-8-Plus-tablet/product-reviews/B0839NDRB2/ref=cm_cr_arp_d_paging_btm_next_2?ie=UTF8&reviewerType=all_reviews&pageNumber=179\n",
      "INFO:root:https://www.amazon.com/Fire-HD-8-Plus-tablet/product-reviews/B0839NDRB2/ref=cm_cr_arp_d_paging_btm_next_2?ie=UTF8&reviewerType=all_reviews&pageNumber=180\n",
      "INFO:root:https://www.amazon.com/Fire-HD-8-Plus-tablet/product-reviews/B0839NDRB2/ref=cm_cr_arp_d_paging_btm_next_2?ie=UTF8&reviewerType=all_reviews&pageNumber=181\n",
      "INFO:root:https://www.amazon.com/Fire-HD-8-Plus-tablet/product-reviews/B0839NDRB2/ref=cm_cr_arp_d_paging_btm_next_2?ie=UTF8&reviewerType=all_reviews&pageNumber=182\n",
      "INFO:root:https://www.amazon.com/Fire-HD-8-Plus-tablet/product-reviews/B0839NDRB2/ref=cm_cr_arp_d_paging_btm_next_2?ie=UTF8&reviewerType=all_reviews&pageNumber=183\n",
      "INFO:root:https://www.amazon.com/Fire-HD-8-Plus-tablet/product-reviews/B0839NDRB2/ref=cm_cr_arp_d_paging_btm_next_2?ie=UTF8&reviewerType=all_reviews&pageNumber=184\n",
      "INFO:root:https://www.amazon.com/Fire-HD-8-Plus-tablet/product-reviews/B0839NDRB2/ref=cm_cr_arp_d_paging_btm_next_2?ie=UTF8&reviewerType=all_reviews&pageNumber=185\n",
      "INFO:root:https://www.amazon.com/Fire-HD-8-Plus-tablet/product-reviews/B0839NDRB2/ref=cm_cr_arp_d_paging_btm_next_2?ie=UTF8&reviewerType=all_reviews&pageNumber=186\n",
      "INFO:root:https://www.amazon.com/Fire-HD-8-Plus-tablet/product-reviews/B0839NDRB2/ref=cm_cr_arp_d_paging_btm_next_2?ie=UTF8&reviewerType=all_reviews&pageNumber=187\n",
      "INFO:root:https://www.amazon.com/Fire-HD-8-Plus-tablet/product-reviews/B0839NDRB2/ref=cm_cr_arp_d_paging_btm_next_2?ie=UTF8&reviewerType=all_reviews&pageNumber=188\n",
      "INFO:root:https://www.amazon.com/Fire-HD-8-Plus-tablet/product-reviews/B0839NDRB2/ref=cm_cr_arp_d_paging_btm_next_2?ie=UTF8&reviewerType=all_reviews&pageNumber=189\n",
      "INFO:root:https://www.amazon.com/Fire-HD-8-Plus-tablet/product-reviews/B0839NDRB2/ref=cm_cr_arp_d_paging_btm_next_2?ie=UTF8&reviewerType=all_reviews&pageNumber=190\n",
      "INFO:root:https://www.amazon.com/Fire-HD-8-Plus-tablet/product-reviews/B0839NDRB2/ref=cm_cr_arp_d_paging_btm_next_2?ie=UTF8&reviewerType=all_reviews&pageNumber=191\n",
      "INFO:root:https://www.amazon.com/Fire-HD-8-Plus-tablet/product-reviews/B0839NDRB2/ref=cm_cr_arp_d_paging_btm_next_2?ie=UTF8&reviewerType=all_reviews&pageNumber=192\n",
      "INFO:root:https://www.amazon.com/Fire-HD-8-Plus-tablet/product-reviews/B0839NDRB2/ref=cm_cr_arp_d_paging_btm_next_2?ie=UTF8&reviewerType=all_reviews&pageNumber=193\n",
      "INFO:root:https://www.amazon.com/Fire-HD-8-Plus-tablet/product-reviews/B0839NDRB2/ref=cm_cr_arp_d_paging_btm_next_2?ie=UTF8&reviewerType=all_reviews&pageNumber=194\n",
      "INFO:root:https://www.amazon.com/Fire-HD-8-Plus-tablet/product-reviews/B0839NDRB2/ref=cm_cr_arp_d_paging_btm_next_2?ie=UTF8&reviewerType=all_reviews&pageNumber=195\n",
      "INFO:root:https://www.amazon.com/Fire-HD-8-Plus-tablet/product-reviews/B0839NDRB2/ref=cm_cr_arp_d_paging_btm_next_2?ie=UTF8&reviewerType=all_reviews&pageNumber=196\n",
      "INFO:root:https://www.amazon.com/Fire-HD-8-Plus-tablet/product-reviews/B0839NDRB2/ref=cm_cr_arp_d_paging_btm_next_2?ie=UTF8&reviewerType=all_reviews&pageNumber=197\n",
      "INFO:root:https://www.amazon.com/Fire-HD-8-Plus-tablet/product-reviews/B0839NDRB2/ref=cm_cr_arp_d_paging_btm_next_2?ie=UTF8&reviewerType=all_reviews&pageNumber=198\n",
      "INFO:root:https://www.amazon.com/Fire-HD-8-Plus-tablet/product-reviews/B0839NDRB2/ref=cm_cr_arp_d_paging_btm_next_2?ie=UTF8&reviewerType=all_reviews&pageNumber=199\n",
      "INFO:root:https://www.amazon.com/Fire-HD-8-Plus-tablet/product-reviews/B0839NDRB2/ref=cm_cr_arp_d_paging_btm_next_2?ie=UTF8&reviewerType=all_reviews&pageNumber=200\n",
      "INFO:root:https://www.amazon.com/Fire-HD-8-Plus-tablet/product-reviews/B0839NDRB2/ref=cm_cr_arp_d_paging_btm_next_2?ie=UTF8&reviewerType=all_reviews&pageNumber=201\n"
     ]
    },
    {
     "name": "stderr",
     "output_type": "stream",
     "text": [
      "INFO:root:https://www.amazon.com/Fire-HD-8-Plus-tablet/product-reviews/B0839NDRB2/ref=cm_cr_arp_d_paging_btm_next_2?ie=UTF8&reviewerType=all_reviews&pageNumber=202\n",
      "INFO:root:https://www.amazon.com/Fire-HD-8-Plus-tablet/product-reviews/B0839NDRB2/ref=cm_cr_arp_d_paging_btm_next_2?ie=UTF8&reviewerType=all_reviews&pageNumber=203\n",
      "INFO:root:https://www.amazon.com/Fire-HD-8-Plus-tablet/product-reviews/B0839NDRB2/ref=cm_cr_arp_d_paging_btm_next_2?ie=UTF8&reviewerType=all_reviews&pageNumber=204\n",
      "INFO:root:https://www.amazon.com/Fire-HD-8-Plus-tablet/product-reviews/B0839NDRB2/ref=cm_cr_arp_d_paging_btm_next_2?ie=UTF8&reviewerType=all_reviews&pageNumber=205\n",
      "INFO:root:https://www.amazon.com/Fire-HD-8-Plus-tablet/product-reviews/B0839NDRB2/ref=cm_cr_arp_d_paging_btm_next_2?ie=UTF8&reviewerType=all_reviews&pageNumber=206\n",
      "INFO:root:https://www.amazon.com/Fire-HD-8-Plus-tablet/product-reviews/B0839NDRB2/ref=cm_cr_arp_d_paging_btm_next_2?ie=UTF8&reviewerType=all_reviews&pageNumber=207\n",
      "INFO:root:https://www.amazon.com/Fire-HD-8-Plus-tablet/product-reviews/B0839NDRB2/ref=cm_cr_arp_d_paging_btm_next_2?ie=UTF8&reviewerType=all_reviews&pageNumber=208\n",
      "INFO:root:https://www.amazon.com/Fire-HD-8-Plus-tablet/product-reviews/B0839NDRB2/ref=cm_cr_arp_d_paging_btm_next_2?ie=UTF8&reviewerType=all_reviews&pageNumber=209\n",
      "INFO:root:https://www.amazon.com/Fire-HD-8-Plus-tablet/product-reviews/B0839NDRB2/ref=cm_cr_arp_d_paging_btm_next_2?ie=UTF8&reviewerType=all_reviews&pageNumber=210\n",
      "INFO:root:https://www.amazon.com/Fire-HD-8-Plus-tablet/product-reviews/B0839NDRB2/ref=cm_cr_arp_d_paging_btm_next_2?ie=UTF8&reviewerType=all_reviews&pageNumber=211\n",
      "INFO:root:https://www.amazon.com/Fire-HD-8-Plus-tablet/product-reviews/B0839NDRB2/ref=cm_cr_arp_d_paging_btm_next_2?ie=UTF8&reviewerType=all_reviews&pageNumber=212\n",
      "INFO:root:https://www.amazon.com/Fire-HD-8-Plus-tablet/product-reviews/B0839NDRB2/ref=cm_cr_arp_d_paging_btm_next_2?ie=UTF8&reviewerType=all_reviews&pageNumber=213\n",
      "INFO:root:https://www.amazon.com/Fire-HD-8-Plus-tablet/product-reviews/B0839NDRB2/ref=cm_cr_arp_d_paging_btm_next_2?ie=UTF8&reviewerType=all_reviews&pageNumber=214\n",
      "INFO:root:https://www.amazon.com/Fire-HD-8-Plus-tablet/product-reviews/B0839NDRB2/ref=cm_cr_arp_d_paging_btm_next_2?ie=UTF8&reviewerType=all_reviews&pageNumber=215\n",
      "INFO:root:https://www.amazon.com/Fire-HD-8-Plus-tablet/product-reviews/B0839NDRB2/ref=cm_cr_arp_d_paging_btm_next_2?ie=UTF8&reviewerType=all_reviews&pageNumber=216\n",
      "INFO:root:https://www.amazon.com/Fire-HD-8-Plus-tablet/product-reviews/B0839NDRB2/ref=cm_cr_arp_d_paging_btm_next_2?ie=UTF8&reviewerType=all_reviews&pageNumber=217\n",
      "INFO:root:https://www.amazon.com/Fire-HD-8-Plus-tablet/product-reviews/B0839NDRB2/ref=cm_cr_arp_d_paging_btm_next_2?ie=UTF8&reviewerType=all_reviews&pageNumber=218\n",
      "INFO:root:https://www.amazon.com/Fire-HD-8-Plus-tablet/product-reviews/B0839NDRB2/ref=cm_cr_arp_d_paging_btm_next_2?ie=UTF8&reviewerType=all_reviews&pageNumber=219\n",
      "INFO:root:https://www.amazon.com/Fire-HD-8-Plus-tablet/product-reviews/B0839NDRB2/ref=cm_cr_arp_d_paging_btm_next_2?ie=UTF8&reviewerType=all_reviews&pageNumber=220\n",
      "INFO:root:https://www.amazon.com/Fire-HD-8-Plus-tablet/product-reviews/B0839NDRB2/ref=cm_cr_arp_d_paging_btm_next_2?ie=UTF8&reviewerType=all_reviews&pageNumber=221\n",
      "INFO:root:https://www.amazon.com/Fire-HD-8-Plus-tablet/product-reviews/B0839NDRB2/ref=cm_cr_arp_d_paging_btm_next_2?ie=UTF8&reviewerType=all_reviews&pageNumber=222\n",
      "INFO:root:https://www.amazon.com/Fire-HD-8-Plus-tablet/product-reviews/B0839NDRB2/ref=cm_cr_arp_d_paging_btm_next_2?ie=UTF8&reviewerType=all_reviews&pageNumber=223\n",
      "INFO:root:https://www.amazon.com/Fire-HD-8-Plus-tablet/product-reviews/B0839NDRB2/ref=cm_cr_arp_d_paging_btm_next_2?ie=UTF8&reviewerType=all_reviews&pageNumber=224\n",
      "INFO:root:https://www.amazon.com/Fire-HD-8-Plus-tablet/product-reviews/B0839NDRB2/ref=cm_cr_arp_d_paging_btm_next_2?ie=UTF8&reviewerType=all_reviews&pageNumber=225\n",
      "INFO:root:https://www.amazon.com/Fire-HD-8-Plus-tablet/product-reviews/B0839NDRB2/ref=cm_cr_arp_d_paging_btm_next_2?ie=UTF8&reviewerType=all_reviews&pageNumber=226\n",
      "INFO:root:https://www.amazon.com/Fire-HD-8-Plus-tablet/product-reviews/B0839NDRB2/ref=cm_cr_arp_d_paging_btm_next_2?ie=UTF8&reviewerType=all_reviews&pageNumber=227\n",
      "INFO:root:https://www.amazon.com/Fire-HD-8-Plus-tablet/product-reviews/B0839NDRB2/ref=cm_cr_arp_d_paging_btm_next_2?ie=UTF8&reviewerType=all_reviews&pageNumber=228\n",
      "INFO:root:https://www.amazon.com/Fire-HD-8-Plus-tablet/product-reviews/B0839NDRB2/ref=cm_cr_arp_d_paging_btm_next_2?ie=UTF8&reviewerType=all_reviews&pageNumber=229\n",
      "INFO:root:https://www.amazon.com/Fire-HD-8-Plus-tablet/product-reviews/B0839NDRB2/ref=cm_cr_arp_d_paging_btm_next_2?ie=UTF8&reviewerType=all_reviews&pageNumber=230\n",
      "INFO:root:https://www.amazon.com/Fire-HD-8-Plus-tablet/product-reviews/B0839NDRB2/ref=cm_cr_arp_d_paging_btm_next_2?ie=UTF8&reviewerType=all_reviews&pageNumber=231\n",
      "INFO:root:https://www.amazon.com/Fire-HD-8-Plus-tablet/product-reviews/B0839NDRB2/ref=cm_cr_arp_d_paging_btm_next_2?ie=UTF8&reviewerType=all_reviews&pageNumber=232\n",
      "INFO:root:https://www.amazon.com/Fire-HD-8-Plus-tablet/product-reviews/B0839NDRB2/ref=cm_cr_arp_d_paging_btm_next_2?ie=UTF8&reviewerType=all_reviews&pageNumber=233\n",
      "INFO:root:https://www.amazon.com/Fire-HD-8-Plus-tablet/product-reviews/B0839NDRB2/ref=cm_cr_arp_d_paging_btm_next_2?ie=UTF8&reviewerType=all_reviews&pageNumber=234\n",
      "INFO:root:https://www.amazon.com/Fire-HD-8-Plus-tablet/product-reviews/B0839NDRB2/ref=cm_cr_arp_d_paging_btm_next_2?ie=UTF8&reviewerType=all_reviews&pageNumber=235\n",
      "INFO:root:https://www.amazon.com/Fire-HD-8-Plus-tablet/product-reviews/B0839NDRB2/ref=cm_cr_arp_d_paging_btm_next_2?ie=UTF8&reviewerType=all_reviews&pageNumber=236\n",
      "INFO:root:https://www.amazon.com/Fire-HD-8-Plus-tablet/product-reviews/B0839NDRB2/ref=cm_cr_arp_d_paging_btm_next_2?ie=UTF8&reviewerType=all_reviews&pageNumber=237\n",
      "INFO:root:https://www.amazon.com/Fire-HD-8-Plus-tablet/product-reviews/B0839NDRB2/ref=cm_cr_arp_d_paging_btm_next_2?ie=UTF8&reviewerType=all_reviews&pageNumber=238\n",
      "INFO:root:https://www.amazon.com/Fire-HD-8-Plus-tablet/product-reviews/B0839NDRB2/ref=cm_cr_arp_d_paging_btm_next_2?ie=UTF8&reviewerType=all_reviews&pageNumber=239\n",
      "INFO:root:https://www.amazon.com/Fire-HD-8-Plus-tablet/product-reviews/B0839NDRB2/ref=cm_cr_arp_d_paging_btm_next_2?ie=UTF8&reviewerType=all_reviews&pageNumber=240\n",
      "INFO:root:https://www.amazon.com/Fire-HD-8-Plus-tablet/product-reviews/B0839NDRB2/ref=cm_cr_arp_d_paging_btm_next_2?ie=UTF8&reviewerType=all_reviews&pageNumber=241\n",
      "INFO:root:https://www.amazon.com/Fire-HD-8-Plus-tablet/product-reviews/B0839NDRB2/ref=cm_cr_arp_d_paging_btm_next_2?ie=UTF8&reviewerType=all_reviews&pageNumber=242\n",
      "INFO:root:https://www.amazon.com/Fire-HD-8-Plus-tablet/product-reviews/B0839NDRB2/ref=cm_cr_arp_d_paging_btm_next_2?ie=UTF8&reviewerType=all_reviews&pageNumber=243\n",
      "INFO:root:https://www.amazon.com/Fire-HD-8-Plus-tablet/product-reviews/B0839NDRB2/ref=cm_cr_arp_d_paging_btm_next_2?ie=UTF8&reviewerType=all_reviews&pageNumber=244\n",
      "INFO:root:https://www.amazon.com/Fire-HD-8-Plus-tablet/product-reviews/B0839NDRB2/ref=cm_cr_arp_d_paging_btm_next_2?ie=UTF8&reviewerType=all_reviews&pageNumber=245\n",
      "INFO:root:https://www.amazon.com/Fire-HD-8-Plus-tablet/product-reviews/B0839NDRB2/ref=cm_cr_arp_d_paging_btm_next_2?ie=UTF8&reviewerType=all_reviews&pageNumber=246\n",
      "INFO:root:https://www.amazon.com/Fire-HD-8-Plus-tablet/product-reviews/B0839NDRB2/ref=cm_cr_arp_d_paging_btm_next_2?ie=UTF8&reviewerType=all_reviews&pageNumber=247\n",
      "INFO:root:https://www.amazon.com/Fire-HD-8-Plus-tablet/product-reviews/B0839NDRB2/ref=cm_cr_arp_d_paging_btm_next_2?ie=UTF8&reviewerType=all_reviews&pageNumber=248\n",
      "INFO:root:https://www.amazon.com/Fire-HD-8-Plus-tablet/product-reviews/B0839NDRB2/ref=cm_cr_arp_d_paging_btm_next_2?ie=UTF8&reviewerType=all_reviews&pageNumber=249\n",
      "INFO:root:https://www.amazon.com/Fire-HD-8-Plus-tablet/product-reviews/B0839NDRB2/ref=cm_cr_arp_d_paging_btm_next_2?ie=UTF8&reviewerType=all_reviews&pageNumber=250\n",
      "INFO:root:https://www.amazon.com/Fire-HD-8-Plus-tablet/product-reviews/B0839NDRB2/ref=cm_cr_arp_d_paging_btm_next_2?ie=UTF8&reviewerType=all_reviews&pageNumber=251\n"
     ]
    },
    {
     "name": "stderr",
     "output_type": "stream",
     "text": [
      "INFO:root:https://www.amazon.com/Fire-HD-8-Plus-tablet/product-reviews/B0839NDRB2/ref=cm_cr_arp_d_paging_btm_next_2?ie=UTF8&reviewerType=all_reviews&pageNumber=252\n",
      "INFO:root:https://www.amazon.com/Fire-HD-8-Plus-tablet/product-reviews/B0839NDRB2/ref=cm_cr_arp_d_paging_btm_next_2?ie=UTF8&reviewerType=all_reviews&pageNumber=253\n",
      "INFO:root:https://www.amazon.com/Fire-HD-8-Plus-tablet/product-reviews/B0839NDRB2/ref=cm_cr_arp_d_paging_btm_next_2?ie=UTF8&reviewerType=all_reviews&pageNumber=254\n",
      "INFO:root:https://www.amazon.com/Fire-HD-8-Plus-tablet/product-reviews/B0839NDRB2/ref=cm_cr_arp_d_paging_btm_next_2?ie=UTF8&reviewerType=all_reviews&pageNumber=255\n",
      "INFO:root:https://www.amazon.com/Fire-HD-8-Plus-tablet/product-reviews/B0839NDRB2/ref=cm_cr_arp_d_paging_btm_next_2?ie=UTF8&reviewerType=all_reviews&pageNumber=256\n",
      "INFO:root:https://www.amazon.com/Fire-HD-8-Plus-tablet/product-reviews/B0839NDRB2/ref=cm_cr_arp_d_paging_btm_next_2?ie=UTF8&reviewerType=all_reviews&pageNumber=257\n",
      "INFO:root:https://www.amazon.com/Fire-HD-8-Plus-tablet/product-reviews/B0839NDRB2/ref=cm_cr_arp_d_paging_btm_next_2?ie=UTF8&reviewerType=all_reviews&pageNumber=258\n",
      "INFO:root:https://www.amazon.com/Fire-HD-8-Plus-tablet/product-reviews/B0839NDRB2/ref=cm_cr_arp_d_paging_btm_next_2?ie=UTF8&reviewerType=all_reviews&pageNumber=259\n",
      "INFO:root:https://www.amazon.com/Fire-HD-8-Plus-tablet/product-reviews/B0839NDRB2/ref=cm_cr_arp_d_paging_btm_next_2?ie=UTF8&reviewerType=all_reviews&pageNumber=260\n",
      "INFO:root:https://www.amazon.com/Fire-HD-8-Plus-tablet/product-reviews/B0839NDRB2/ref=cm_cr_arp_d_paging_btm_next_2?ie=UTF8&reviewerType=all_reviews&pageNumber=261\n",
      "INFO:root:https://www.amazon.com/Fire-HD-8-Plus-tablet/product-reviews/B0839NDRB2/ref=cm_cr_arp_d_paging_btm_next_2?ie=UTF8&reviewerType=all_reviews&pageNumber=262\n",
      "INFO:root:https://www.amazon.com/Fire-HD-8-Plus-tablet/product-reviews/B0839NDRB2/ref=cm_cr_arp_d_paging_btm_next_2?ie=UTF8&reviewerType=all_reviews&pageNumber=263\n",
      "INFO:root:https://www.amazon.com/Fire-HD-8-Plus-tablet/product-reviews/B0839NDRB2/ref=cm_cr_arp_d_paging_btm_next_2?ie=UTF8&reviewerType=all_reviews&pageNumber=264\n",
      "INFO:root:https://www.amazon.com/Fire-HD-8-Plus-tablet/product-reviews/B0839NDRB2/ref=cm_cr_arp_d_paging_btm_next_2?ie=UTF8&reviewerType=all_reviews&pageNumber=265\n",
      "INFO:root:https://www.amazon.com/Fire-HD-8-Plus-tablet/product-reviews/B0839NDRB2/ref=cm_cr_arp_d_paging_btm_next_2?ie=UTF8&reviewerType=all_reviews&pageNumber=266\n",
      "INFO:root:https://www.amazon.com/Fire-HD-8-Plus-tablet/product-reviews/B0839NDRB2/ref=cm_cr_arp_d_paging_btm_next_2?ie=UTF8&reviewerType=all_reviews&pageNumber=267\n",
      "INFO:root:https://www.amazon.com/Fire-HD-8-Plus-tablet/product-reviews/B0839NDRB2/ref=cm_cr_arp_d_paging_btm_next_2?ie=UTF8&reviewerType=all_reviews&pageNumber=268\n",
      "INFO:root:https://www.amazon.com/Fire-HD-8-Plus-tablet/product-reviews/B0839NDRB2/ref=cm_cr_arp_d_paging_btm_next_2?ie=UTF8&reviewerType=all_reviews&pageNumber=269\n",
      "INFO:root:https://www.amazon.com/Fire-HD-8-Plus-tablet/product-reviews/B0839NDRB2/ref=cm_cr_arp_d_paging_btm_next_2?ie=UTF8&reviewerType=all_reviews&pageNumber=270\n",
      "INFO:root:https://www.amazon.com/Fire-HD-8-Plus-tablet/product-reviews/B0839NDRB2/ref=cm_cr_arp_d_paging_btm_next_2?ie=UTF8&reviewerType=all_reviews&pageNumber=271\n",
      "INFO:root:https://www.amazon.com/Fire-HD-8-Plus-tablet/product-reviews/B0839NDRB2/ref=cm_cr_arp_d_paging_btm_next_2?ie=UTF8&reviewerType=all_reviews&pageNumber=272\n",
      "INFO:root:https://www.amazon.com/Fire-HD-8-Plus-tablet/product-reviews/B0839NDRB2/ref=cm_cr_arp_d_paging_btm_next_2?ie=UTF8&reviewerType=all_reviews&pageNumber=273\n",
      "INFO:root:https://www.amazon.com/Fire-HD-8-Plus-tablet/product-reviews/B0839NDRB2/ref=cm_cr_arp_d_paging_btm_next_2?ie=UTF8&reviewerType=all_reviews&pageNumber=274\n",
      "INFO:root:https://www.amazon.com/Fire-HD-8-Plus-tablet/product-reviews/B0839NDRB2/ref=cm_cr_arp_d_paging_btm_next_2?ie=UTF8&reviewerType=all_reviews&pageNumber=275\n",
      "INFO:root:https://www.amazon.com/Fire-HD-8-Plus-tablet/product-reviews/B0839NDRB2/ref=cm_cr_arp_d_paging_btm_next_2?ie=UTF8&reviewerType=all_reviews&pageNumber=276\n",
      "INFO:root:https://www.amazon.com/Fire-HD-8-Plus-tablet/product-reviews/B0839NDRB2/ref=cm_cr_arp_d_paging_btm_next_2?ie=UTF8&reviewerType=all_reviews&pageNumber=277\n",
      "INFO:root:https://www.amazon.com/Fire-HD-8-Plus-tablet/product-reviews/B0839NDRB2/ref=cm_cr_arp_d_paging_btm_next_2?ie=UTF8&reviewerType=all_reviews&pageNumber=278\n",
      "INFO:root:https://www.amazon.com/Fire-HD-8-Plus-tablet/product-reviews/B0839NDRB2/ref=cm_cr_arp_d_paging_btm_next_2?ie=UTF8&reviewerType=all_reviews&pageNumber=279\n",
      "INFO:root:https://www.amazon.com/Fire-HD-8-Plus-tablet/product-reviews/B0839NDRB2/ref=cm_cr_arp_d_paging_btm_next_2?ie=UTF8&reviewerType=all_reviews&pageNumber=280\n",
      "INFO:root:https://www.amazon.com/Fire-HD-8-Plus-tablet/product-reviews/B0839NDRB2/ref=cm_cr_arp_d_paging_btm_next_2?ie=UTF8&reviewerType=all_reviews&pageNumber=281\n",
      "INFO:root:https://www.amazon.com/Fire-HD-8-Plus-tablet/product-reviews/B0839NDRB2/ref=cm_cr_arp_d_paging_btm_next_2?ie=UTF8&reviewerType=all_reviews&pageNumber=282\n",
      "INFO:root:https://www.amazon.com/Fire-HD-8-Plus-tablet/product-reviews/B0839NDRB2/ref=cm_cr_arp_d_paging_btm_next_2?ie=UTF8&reviewerType=all_reviews&pageNumber=283\n",
      "INFO:root:https://www.amazon.com/Fire-HD-8-Plus-tablet/product-reviews/B0839NDRB2/ref=cm_cr_arp_d_paging_btm_next_2?ie=UTF8&reviewerType=all_reviews&pageNumber=284\n",
      "INFO:root:https://www.amazon.com/Fire-HD-8-Plus-tablet/product-reviews/B0839NDRB2/ref=cm_cr_arp_d_paging_btm_next_2?ie=UTF8&reviewerType=all_reviews&pageNumber=285\n",
      "INFO:root:https://www.amazon.com/Fire-HD-8-Plus-tablet/product-reviews/B0839NDRB2/ref=cm_cr_arp_d_paging_btm_next_2?ie=UTF8&reviewerType=all_reviews&pageNumber=286\n",
      "INFO:root:https://www.amazon.com/Fire-HD-8-Plus-tablet/product-reviews/B0839NDRB2/ref=cm_cr_arp_d_paging_btm_next_2?ie=UTF8&reviewerType=all_reviews&pageNumber=287\n",
      "INFO:root:https://www.amazon.com/Fire-HD-8-Plus-tablet/product-reviews/B0839NDRB2/ref=cm_cr_arp_d_paging_btm_next_2?ie=UTF8&reviewerType=all_reviews&pageNumber=288\n",
      "INFO:root:https://www.amazon.com/Fire-HD-8-Plus-tablet/product-reviews/B0839NDRB2/ref=cm_cr_arp_d_paging_btm_next_2?ie=UTF8&reviewerType=all_reviews&pageNumber=289\n",
      "INFO:root:https://www.amazon.com/Fire-HD-8-Plus-tablet/product-reviews/B0839NDRB2/ref=cm_cr_arp_d_paging_btm_next_2?ie=UTF8&reviewerType=all_reviews&pageNumber=290\n",
      "INFO:root:https://www.amazon.com/Fire-HD-8-Plus-tablet/product-reviews/B0839NDRB2/ref=cm_cr_arp_d_paging_btm_next_2?ie=UTF8&reviewerType=all_reviews&pageNumber=291\n",
      "INFO:root:https://www.amazon.com/Fire-HD-8-Plus-tablet/product-reviews/B0839NDRB2/ref=cm_cr_arp_d_paging_btm_next_2?ie=UTF8&reviewerType=all_reviews&pageNumber=292\n",
      "INFO:root:https://www.amazon.com/Fire-HD-8-Plus-tablet/product-reviews/B0839NDRB2/ref=cm_cr_arp_d_paging_btm_next_2?ie=UTF8&reviewerType=all_reviews&pageNumber=293\n",
      "INFO:root:https://www.amazon.com/Fire-HD-8-Plus-tablet/product-reviews/B0839NDRB2/ref=cm_cr_arp_d_paging_btm_next_2?ie=UTF8&reviewerType=all_reviews&pageNumber=294\n",
      "INFO:root:https://www.amazon.com/Fire-HD-8-Plus-tablet/product-reviews/B0839NDRB2/ref=cm_cr_arp_d_paging_btm_next_2?ie=UTF8&reviewerType=all_reviews&pageNumber=295\n",
      "INFO:root:https://www.amazon.com/Fire-HD-8-Plus-tablet/product-reviews/B0839NDRB2/ref=cm_cr_arp_d_paging_btm_next_2?ie=UTF8&reviewerType=all_reviews&pageNumber=296\n",
      "INFO:root:https://www.amazon.com/Fire-HD-8-Plus-tablet/product-reviews/B0839NDRB2/ref=cm_cr_arp_d_paging_btm_next_2?ie=UTF8&reviewerType=all_reviews&pageNumber=297\n",
      "INFO:root:https://www.amazon.com/Fire-HD-8-Plus-tablet/product-reviews/B0839NDRB2/ref=cm_cr_arp_d_paging_btm_next_2?ie=UTF8&reviewerType=all_reviews&pageNumber=298\n",
      "INFO:root:https://www.amazon.com/Fire-HD-8-Plus-tablet/product-reviews/B0839NDRB2/ref=cm_cr_arp_d_paging_btm_next_2?ie=UTF8&reviewerType=all_reviews&pageNumber=299\n",
      "INFO:root:https://www.amazon.com/Fire-HD-8-Plus-tablet/product-reviews/B0839NDRB2/ref=cm_cr_arp_d_paging_btm_next_2?ie=UTF8&reviewerType=all_reviews&pageNumber=300\n",
      "INFO:root:https://www.amazon.com/Fire-HD-8-Plus-tablet/product-reviews/B0839NDRB2/ref=cm_cr_arp_d_paging_btm_next_2?ie=UTF8&reviewerType=all_reviews&pageNumber=301\n"
     ]
    },
    {
     "name": "stderr",
     "output_type": "stream",
     "text": [
      "INFO:root:https://www.amazon.com/Fire-HD-8-Plus-tablet/product-reviews/B0839NDRB2/ref=cm_cr_arp_d_paging_btm_next_2?ie=UTF8&reviewerType=all_reviews&pageNumber=302\n",
      "INFO:root:https://www.amazon.com/Fire-HD-8-Plus-tablet/product-reviews/B0839NDRB2/ref=cm_cr_arp_d_paging_btm_next_2?ie=UTF8&reviewerType=all_reviews&pageNumber=303\n",
      "INFO:root:https://www.amazon.com/Fire-HD-8-Plus-tablet/product-reviews/B0839NDRB2/ref=cm_cr_arp_d_paging_btm_next_2?ie=UTF8&reviewerType=all_reviews&pageNumber=304\n",
      "INFO:root:https://www.amazon.com/Fire-HD-8-Plus-tablet/product-reviews/B0839NDRB2/ref=cm_cr_arp_d_paging_btm_next_2?ie=UTF8&reviewerType=all_reviews&pageNumber=305\n",
      "INFO:root:https://www.amazon.com/Fire-HD-8-Plus-tablet/product-reviews/B0839NDRB2/ref=cm_cr_arp_d_paging_btm_next_2?ie=UTF8&reviewerType=all_reviews&pageNumber=306\n",
      "INFO:root:https://www.amazon.com/Fire-HD-8-Plus-tablet/product-reviews/B0839NDRB2/ref=cm_cr_arp_d_paging_btm_next_2?ie=UTF8&reviewerType=all_reviews&pageNumber=307\n",
      "INFO:root:https://www.amazon.com/Fire-HD-8-Plus-tablet/product-reviews/B0839NDRB2/ref=cm_cr_arp_d_paging_btm_next_2?ie=UTF8&reviewerType=all_reviews&pageNumber=308\n",
      "INFO:root:https://www.amazon.com/Fire-HD-8-Plus-tablet/product-reviews/B0839NDRB2/ref=cm_cr_arp_d_paging_btm_next_2?ie=UTF8&reviewerType=all_reviews&pageNumber=309\n",
      "INFO:root:https://www.amazon.com/Fire-HD-8-Plus-tablet/product-reviews/B0839NDRB2/ref=cm_cr_arp_d_paging_btm_next_2?ie=UTF8&reviewerType=all_reviews&pageNumber=310\n",
      "INFO:root:https://www.amazon.com/Fire-HD-8-Plus-tablet/product-reviews/B0839NDRB2/ref=cm_cr_arp_d_paging_btm_next_2?ie=UTF8&reviewerType=all_reviews&pageNumber=311\n",
      "INFO:root:https://www.amazon.com/Fire-HD-8-Plus-tablet/product-reviews/B0839NDRB2/ref=cm_cr_arp_d_paging_btm_next_2?ie=UTF8&reviewerType=all_reviews&pageNumber=312\n",
      "INFO:root:https://www.amazon.com/Fire-HD-8-Plus-tablet/product-reviews/B0839NDRB2/ref=cm_cr_arp_d_paging_btm_next_2?ie=UTF8&reviewerType=all_reviews&pageNumber=313\n",
      "INFO:root:https://www.amazon.com/Fire-HD-8-Plus-tablet/product-reviews/B0839NDRB2/ref=cm_cr_arp_d_paging_btm_next_2?ie=UTF8&reviewerType=all_reviews&pageNumber=314\n",
      "INFO:root:https://www.amazon.com/Fire-HD-8-Plus-tablet/product-reviews/B0839NDRB2/ref=cm_cr_arp_d_paging_btm_next_2?ie=UTF8&reviewerType=all_reviews&pageNumber=315\n",
      "INFO:root:https://www.amazon.com/Fire-HD-8-Plus-tablet/product-reviews/B0839NDRB2/ref=cm_cr_arp_d_paging_btm_next_2?ie=UTF8&reviewerType=all_reviews&pageNumber=316\n",
      "INFO:root:https://www.amazon.com/Fire-HD-8-Plus-tablet/product-reviews/B0839NDRB2/ref=cm_cr_arp_d_paging_btm_next_2?ie=UTF8&reviewerType=all_reviews&pageNumber=317\n",
      "INFO:root:https://www.amazon.com/Fire-HD-8-Plus-tablet/product-reviews/B0839NDRB2/ref=cm_cr_arp_d_paging_btm_next_2?ie=UTF8&reviewerType=all_reviews&pageNumber=318\n",
      "INFO:root:https://www.amazon.com/Fire-HD-8-Plus-tablet/product-reviews/B0839NDRB2/ref=cm_cr_arp_d_paging_btm_next_2?ie=UTF8&reviewerType=all_reviews&pageNumber=319\n",
      "INFO:root:https://www.amazon.com/Fire-HD-8-Plus-tablet/product-reviews/B0839NDRB2/ref=cm_cr_arp_d_paging_btm_next_2?ie=UTF8&reviewerType=all_reviews&pageNumber=320\n",
      "INFO:root:https://www.amazon.com/Fire-HD-8-Plus-tablet/product-reviews/B0839NDRB2/ref=cm_cr_arp_d_paging_btm_next_2?ie=UTF8&reviewerType=all_reviews&pageNumber=321\n",
      "INFO:root:https://www.amazon.com/Fire-HD-8-Plus-tablet/product-reviews/B0839NDRB2/ref=cm_cr_arp_d_paging_btm_next_2?ie=UTF8&reviewerType=all_reviews&pageNumber=322\n",
      "INFO:root:https://www.amazon.com/Fire-HD-8-Plus-tablet/product-reviews/B0839NDRB2/ref=cm_cr_arp_d_paging_btm_next_2?ie=UTF8&reviewerType=all_reviews&pageNumber=323\n",
      "INFO:root:https://www.amazon.com/Fire-HD-8-Plus-tablet/product-reviews/B0839NDRB2/ref=cm_cr_arp_d_paging_btm_next_2?ie=UTF8&reviewerType=all_reviews&pageNumber=324\n",
      "INFO:root:https://www.amazon.com/Fire-HD-8-Plus-tablet/product-reviews/B0839NDRB2/ref=cm_cr_arp_d_paging_btm_next_2?ie=UTF8&reviewerType=all_reviews&pageNumber=325\n",
      "INFO:root:https://www.amazon.com/Fire-HD-8-Plus-tablet/product-reviews/B0839NDRB2/ref=cm_cr_arp_d_paging_btm_next_2?ie=UTF8&reviewerType=all_reviews&pageNumber=326\n",
      "INFO:root:https://www.amazon.com/Fire-HD-8-Plus-tablet/product-reviews/B0839NDRB2/ref=cm_cr_arp_d_paging_btm_next_2?ie=UTF8&reviewerType=all_reviews&pageNumber=327\n",
      "INFO:root:https://www.amazon.com/Fire-HD-8-Plus-tablet/product-reviews/B0839NDRB2/ref=cm_cr_arp_d_paging_btm_next_2?ie=UTF8&reviewerType=all_reviews&pageNumber=328\n",
      "INFO:root:https://www.amazon.com/Fire-HD-8-Plus-tablet/product-reviews/B0839NDRB2/ref=cm_cr_arp_d_paging_btm_next_2?ie=UTF8&reviewerType=all_reviews&pageNumber=329\n",
      "INFO:root:https://www.amazon.com/Fire-HD-8-Plus-tablet/product-reviews/B0839NDRB2/ref=cm_cr_arp_d_paging_btm_next_2?ie=UTF8&reviewerType=all_reviews&pageNumber=330\n",
      "INFO:root:https://www.amazon.com/Fire-HD-8-Plus-tablet/product-reviews/B0839NDRB2/ref=cm_cr_arp_d_paging_btm_next_2?ie=UTF8&reviewerType=all_reviews&pageNumber=331\n",
      "INFO:root:https://www.amazon.com/Fire-HD-8-Plus-tablet/product-reviews/B0839NDRB2/ref=cm_cr_arp_d_paging_btm_next_2?ie=UTF8&reviewerType=all_reviews&pageNumber=332\n",
      "INFO:root:https://www.amazon.com/Fire-HD-8-Plus-tablet/product-reviews/B0839NDRB2/ref=cm_cr_arp_d_paging_btm_next_2?ie=UTF8&reviewerType=all_reviews&pageNumber=333\n",
      "INFO:root:https://www.amazon.com/Fire-HD-8-Plus-tablet/product-reviews/B0839NDRB2/ref=cm_cr_arp_d_paging_btm_next_2?ie=UTF8&reviewerType=all_reviews&pageNumber=334\n",
      "INFO:root:https://www.amazon.com/Fire-HD-8-Plus-tablet/product-reviews/B0839NDRB2/ref=cm_cr_arp_d_paging_btm_next_2?ie=UTF8&reviewerType=all_reviews&pageNumber=335\n",
      "INFO:root:https://www.amazon.com/Fire-HD-8-Plus-tablet/product-reviews/B0839NDRB2/ref=cm_cr_arp_d_paging_btm_next_2?ie=UTF8&reviewerType=all_reviews&pageNumber=336\n",
      "INFO:root:https://www.amazon.com/Fire-HD-8-Plus-tablet/product-reviews/B0839NDRB2/ref=cm_cr_arp_d_paging_btm_next_2?ie=UTF8&reviewerType=all_reviews&pageNumber=337\n",
      "INFO:root:https://www.amazon.com/Fire-HD-8-Plus-tablet/product-reviews/B0839NDRB2/ref=cm_cr_arp_d_paging_btm_next_2?ie=UTF8&reviewerType=all_reviews&pageNumber=338\n",
      "INFO:root:https://www.amazon.com/Fire-HD-8-Plus-tablet/product-reviews/B0839NDRB2/ref=cm_cr_arp_d_paging_btm_next_2?ie=UTF8&reviewerType=all_reviews&pageNumber=339\n",
      "INFO:root:https://www.amazon.com/Fire-HD-8-Plus-tablet/product-reviews/B0839NDRB2/ref=cm_cr_arp_d_paging_btm_next_2?ie=UTF8&reviewerType=all_reviews&pageNumber=340\n",
      "INFO:root:https://www.amazon.com/Fire-HD-8-Plus-tablet/product-reviews/B0839NDRB2/ref=cm_cr_arp_d_paging_btm_next_2?ie=UTF8&reviewerType=all_reviews&pageNumber=341\n",
      "INFO:root:https://www.amazon.com/Fire-HD-8-Plus-tablet/product-reviews/B0839NDRB2/ref=cm_cr_arp_d_paging_btm_next_2?ie=UTF8&reviewerType=all_reviews&pageNumber=342\n",
      "INFO:root:https://www.amazon.com/Fire-HD-8-Plus-tablet/product-reviews/B0839NDRB2/ref=cm_cr_arp_d_paging_btm_next_2?ie=UTF8&reviewerType=all_reviews&pageNumber=343\n",
      "INFO:root:https://www.amazon.com/Fire-HD-8-Plus-tablet/product-reviews/B0839NDRB2/ref=cm_cr_arp_d_paging_btm_next_2?ie=UTF8&reviewerType=all_reviews&pageNumber=344\n",
      "INFO:root:https://www.amazon.com/Fire-HD-8-Plus-tablet/product-reviews/B0839NDRB2/ref=cm_cr_arp_d_paging_btm_next_2?ie=UTF8&reviewerType=all_reviews&pageNumber=345\n",
      "INFO:root:https://www.amazon.com/Fire-HD-8-Plus-tablet/product-reviews/B0839NDRB2/ref=cm_cr_arp_d_paging_btm_next_2?ie=UTF8&reviewerType=all_reviews&pageNumber=346\n",
      "INFO:root:https://www.amazon.com/Fire-HD-8-Plus-tablet/product-reviews/B0839NDRB2/ref=cm_cr_arp_d_paging_btm_next_2?ie=UTF8&reviewerType=all_reviews&pageNumber=347\n",
      "INFO:root:https://www.amazon.com/Fire-HD-8-Plus-tablet/product-reviews/B0839NDRB2/ref=cm_cr_arp_d_paging_btm_next_2?ie=UTF8&reviewerType=all_reviews&pageNumber=348\n",
      "INFO:root:https://www.amazon.com/Fire-HD-8-Plus-tablet/product-reviews/B0839NDRB2/ref=cm_cr_arp_d_paging_btm_next_2?ie=UTF8&reviewerType=all_reviews&pageNumber=349\n",
      "INFO:root:https://www.amazon.com/Fire-HD-8-Plus-tablet/product-reviews/B0839NDRB2/ref=cm_cr_arp_d_paging_btm_next_2?ie=UTF8&reviewerType=all_reviews&pageNumber=350\n",
      "INFO:root:https://www.amazon.com/Fire-HD-8-Plus-tablet/product-reviews/B0839NDRB2/ref=cm_cr_arp_d_paging_btm_next_2?ie=UTF8&reviewerType=all_reviews&pageNumber=351\n"
     ]
    },
    {
     "name": "stderr",
     "output_type": "stream",
     "text": [
      "INFO:root:https://www.amazon.com/Fire-HD-8-Plus-tablet/product-reviews/B0839NDRB2/ref=cm_cr_arp_d_paging_btm_next_2?ie=UTF8&reviewerType=all_reviews&pageNumber=352\n",
      "INFO:root:https://www.amazon.com/Fire-HD-8-Plus-tablet/product-reviews/B0839NDRB2/ref=cm_cr_arp_d_paging_btm_next_2?ie=UTF8&reviewerType=all_reviews&pageNumber=353\n",
      "INFO:root:https://www.amazon.com/Fire-HD-8-Plus-tablet/product-reviews/B0839NDRB2/ref=cm_cr_arp_d_paging_btm_next_2?ie=UTF8&reviewerType=all_reviews&pageNumber=354\n",
      "INFO:root:https://www.amazon.com/Fire-HD-8-Plus-tablet/product-reviews/B0839NDRB2/ref=cm_cr_arp_d_paging_btm_next_2?ie=UTF8&reviewerType=all_reviews&pageNumber=355\n",
      "INFO:root:https://www.amazon.com/Fire-HD-8-Plus-tablet/product-reviews/B0839NDRB2/ref=cm_cr_arp_d_paging_btm_next_2?ie=UTF8&reviewerType=all_reviews&pageNumber=356\n",
      "INFO:root:https://www.amazon.com/Fire-HD-8-Plus-tablet/product-reviews/B0839NDRB2/ref=cm_cr_arp_d_paging_btm_next_2?ie=UTF8&reviewerType=all_reviews&pageNumber=357\n",
      "INFO:root:https://www.amazon.com/Fire-HD-8-Plus-tablet/product-reviews/B0839NDRB2/ref=cm_cr_arp_d_paging_btm_next_2?ie=UTF8&reviewerType=all_reviews&pageNumber=358\n",
      "INFO:root:https://www.amazon.com/Fire-HD-8-Plus-tablet/product-reviews/B0839NDRB2/ref=cm_cr_arp_d_paging_btm_next_2?ie=UTF8&reviewerType=all_reviews&pageNumber=359\n",
      "INFO:root:https://www.amazon.com/Fire-HD-8-Plus-tablet/product-reviews/B0839NDRB2/ref=cm_cr_arp_d_paging_btm_next_2?ie=UTF8&reviewerType=all_reviews&pageNumber=360\n",
      "INFO:root:https://www.amazon.com/Fire-HD-8-Plus-tablet/product-reviews/B0839NDRB2/ref=cm_cr_arp_d_paging_btm_next_2?ie=UTF8&reviewerType=all_reviews&pageNumber=361\n",
      "INFO:root:https://www.amazon.com/Fire-HD-8-Plus-tablet/product-reviews/B0839NDRB2/ref=cm_cr_arp_d_paging_btm_next_2?ie=UTF8&reviewerType=all_reviews&pageNumber=362\n",
      "INFO:root:https://www.amazon.com/Fire-HD-8-Plus-tablet/product-reviews/B0839NDRB2/ref=cm_cr_arp_d_paging_btm_next_2?ie=UTF8&reviewerType=all_reviews&pageNumber=363\n",
      "INFO:root:https://www.amazon.com/Fire-HD-8-Plus-tablet/product-reviews/B0839NDRB2/ref=cm_cr_arp_d_paging_btm_next_2?ie=UTF8&reviewerType=all_reviews&pageNumber=364\n",
      "INFO:root:https://www.amazon.com/Fire-HD-8-Plus-tablet/product-reviews/B0839NDRB2/ref=cm_cr_arp_d_paging_btm_next_2?ie=UTF8&reviewerType=all_reviews&pageNumber=365\n",
      "INFO:root:https://www.amazon.com/Fire-HD-8-Plus-tablet/product-reviews/B0839NDRB2/ref=cm_cr_arp_d_paging_btm_next_2?ie=UTF8&reviewerType=all_reviews&pageNumber=366\n",
      "INFO:root:https://www.amazon.com/Fire-HD-8-Plus-tablet/product-reviews/B0839NDRB2/ref=cm_cr_arp_d_paging_btm_next_2?ie=UTF8&reviewerType=all_reviews&pageNumber=367\n",
      "INFO:root:https://www.amazon.com/Fire-HD-8-Plus-tablet/product-reviews/B0839NDRB2/ref=cm_cr_arp_d_paging_btm_next_2?ie=UTF8&reviewerType=all_reviews&pageNumber=368\n",
      "INFO:root:https://www.amazon.com/Fire-HD-8-Plus-tablet/product-reviews/B0839NDRB2/ref=cm_cr_arp_d_paging_btm_next_2?ie=UTF8&reviewerType=all_reviews&pageNumber=369\n",
      "INFO:root:https://www.amazon.com/Fire-HD-8-Plus-tablet/product-reviews/B0839NDRB2/ref=cm_cr_arp_d_paging_btm_next_2?ie=UTF8&reviewerType=all_reviews&pageNumber=370\n",
      "INFO:root:https://www.amazon.com/Fire-HD-8-Plus-tablet/product-reviews/B0839NDRB2/ref=cm_cr_arp_d_paging_btm_next_2?ie=UTF8&reviewerType=all_reviews&pageNumber=371\n",
      "INFO:root:https://www.amazon.com/Fire-HD-8-Plus-tablet/product-reviews/B0839NDRB2/ref=cm_cr_arp_d_paging_btm_next_2?ie=UTF8&reviewerType=all_reviews&pageNumber=372\n",
      "INFO:root:https://www.amazon.com/Fire-HD-8-Plus-tablet/product-reviews/B0839NDRB2/ref=cm_cr_arp_d_paging_btm_next_2?ie=UTF8&reviewerType=all_reviews&pageNumber=373\n",
      "INFO:root:https://www.amazon.com/Fire-HD-8-Plus-tablet/product-reviews/B0839NDRB2/ref=cm_cr_arp_d_paging_btm_next_2?ie=UTF8&reviewerType=all_reviews&pageNumber=374\n",
      "INFO:root:https://www.amazon.com/Fire-HD-8-Plus-tablet/product-reviews/B0839NDRB2/ref=cm_cr_arp_d_paging_btm_next_2?ie=UTF8&reviewerType=all_reviews&pageNumber=375\n",
      "INFO:root:https://www.amazon.com/Fire-HD-8-Plus-tablet/product-reviews/B0839NDRB2/ref=cm_cr_arp_d_paging_btm_next_2?ie=UTF8&reviewerType=all_reviews&pageNumber=376\n",
      "INFO:root:https://www.amazon.com/Fire-HD-8-Plus-tablet/product-reviews/B0839NDRB2/ref=cm_cr_arp_d_paging_btm_next_2?ie=UTF8&reviewerType=all_reviews&pageNumber=377\n",
      "INFO:root:https://www.amazon.com/Fire-HD-8-Plus-tablet/product-reviews/B0839NDRB2/ref=cm_cr_arp_d_paging_btm_next_2?ie=UTF8&reviewerType=all_reviews&pageNumber=378\n",
      "INFO:root:https://www.amazon.com/Fire-HD-8-Plus-tablet/product-reviews/B0839NDRB2/ref=cm_cr_arp_d_paging_btm_next_2?ie=UTF8&reviewerType=all_reviews&pageNumber=379\n",
      "INFO:root:https://www.amazon.com/Fire-HD-8-Plus-tablet/product-reviews/B0839NDRB2/ref=cm_cr_arp_d_paging_btm_next_2?ie=UTF8&reviewerType=all_reviews&pageNumber=380\n",
      "INFO:root:https://www.amazon.com/Fire-HD-8-Plus-tablet/product-reviews/B0839NDRB2/ref=cm_cr_arp_d_paging_btm_next_2?ie=UTF8&reviewerType=all_reviews&pageNumber=381\n",
      "INFO:root:https://www.amazon.com/Fire-HD-8-Plus-tablet/product-reviews/B0839NDRB2/ref=cm_cr_arp_d_paging_btm_next_2?ie=UTF8&reviewerType=all_reviews&pageNumber=382\n",
      "INFO:root:https://www.amazon.com/Fire-HD-8-Plus-tablet/product-reviews/B0839NDRB2/ref=cm_cr_arp_d_paging_btm_next_2?ie=UTF8&reviewerType=all_reviews&pageNumber=383\n",
      "INFO:root:https://www.amazon.com/Fire-HD-8-Plus-tablet/product-reviews/B0839NDRB2/ref=cm_cr_arp_d_paging_btm_next_2?ie=UTF8&reviewerType=all_reviews&pageNumber=384\n",
      "INFO:root:https://www.amazon.com/Fire-HD-8-Plus-tablet/product-reviews/B0839NDRB2/ref=cm_cr_arp_d_paging_btm_next_2?ie=UTF8&reviewerType=all_reviews&pageNumber=385\n",
      "INFO:root:https://www.amazon.com/Fire-HD-8-Plus-tablet/product-reviews/B0839NDRB2/ref=cm_cr_arp_d_paging_btm_next_2?ie=UTF8&reviewerType=all_reviews&pageNumber=386\n",
      "INFO:root:https://www.amazon.com/Fire-HD-8-Plus-tablet/product-reviews/B0839NDRB2/ref=cm_cr_arp_d_paging_btm_next_2?ie=UTF8&reviewerType=all_reviews&pageNumber=387\n",
      "INFO:root:https://www.amazon.com/Fire-HD-8-Plus-tablet/product-reviews/B0839NDRB2/ref=cm_cr_arp_d_paging_btm_next_2?ie=UTF8&reviewerType=all_reviews&pageNumber=388\n",
      "INFO:root:https://www.amazon.com/Fire-HD-8-Plus-tablet/product-reviews/B0839NDRB2/ref=cm_cr_arp_d_paging_btm_next_2?ie=UTF8&reviewerType=all_reviews&pageNumber=389\n",
      "INFO:root:https://www.amazon.com/Fire-HD-8-Plus-tablet/product-reviews/B0839NDRB2/ref=cm_cr_arp_d_paging_btm_next_2?ie=UTF8&reviewerType=all_reviews&pageNumber=390\n",
      "INFO:root:https://www.amazon.com/Fire-HD-8-Plus-tablet/product-reviews/B0839NDRB2/ref=cm_cr_arp_d_paging_btm_next_2?ie=UTF8&reviewerType=all_reviews&pageNumber=391\n",
      "INFO:root:https://www.amazon.com/Fire-HD-8-Plus-tablet/product-reviews/B0839NDRB2/ref=cm_cr_arp_d_paging_btm_next_2?ie=UTF8&reviewerType=all_reviews&pageNumber=392\n",
      "INFO:root:https://www.amazon.com/Fire-HD-8-Plus-tablet/product-reviews/B0839NDRB2/ref=cm_cr_arp_d_paging_btm_next_2?ie=UTF8&reviewerType=all_reviews&pageNumber=393\n",
      "INFO:root:https://www.amazon.com/Fire-HD-8-Plus-tablet/product-reviews/B0839NDRB2/ref=cm_cr_arp_d_paging_btm_next_2?ie=UTF8&reviewerType=all_reviews&pageNumber=394\n",
      "INFO:root:https://www.amazon.com/Fire-HD-8-Plus-tablet/product-reviews/B0839NDRB2/ref=cm_cr_arp_d_paging_btm_next_2?ie=UTF8&reviewerType=all_reviews&pageNumber=395\n",
      "INFO:root:https://www.amazon.com/Fire-HD-8-Plus-tablet/product-reviews/B0839NDRB2/ref=cm_cr_arp_d_paging_btm_next_2?ie=UTF8&reviewerType=all_reviews&pageNumber=396\n",
      "INFO:root:https://www.amazon.com/Fire-HD-8-Plus-tablet/product-reviews/B0839NDRB2/ref=cm_cr_arp_d_paging_btm_next_2?ie=UTF8&reviewerType=all_reviews&pageNumber=397\n",
      "INFO:root:https://www.amazon.com/Fire-HD-8-Plus-tablet/product-reviews/B0839NDRB2/ref=cm_cr_arp_d_paging_btm_next_2?ie=UTF8&reviewerType=all_reviews&pageNumber=398\n",
      "INFO:root:https://www.amazon.com/Fire-HD-8-Plus-tablet/product-reviews/B0839NDRB2/ref=cm_cr_arp_d_paging_btm_next_2?ie=UTF8&reviewerType=all_reviews&pageNumber=399\n",
      "INFO:root:https://www.amazon.com/Fire-HD-8-Plus-tablet/product-reviews/B0839NDRB2/ref=cm_cr_arp_d_paging_btm_next_2?ie=UTF8&reviewerType=all_reviews&pageNumber=400\n",
      "INFO:root:https://www.amazon.com/Fire-HD-8-Plus-tablet/product-reviews/B0839NDRB2/ref=cm_cr_arp_d_paging_btm_next_2?ie=UTF8&reviewerType=all_reviews&pageNumber=401\n"
     ]
    },
    {
     "name": "stderr",
     "output_type": "stream",
     "text": [
      "INFO:root:https://www.amazon.com/Fire-HD-8-Plus-tablet/product-reviews/B0839NDRB2/ref=cm_cr_arp_d_paging_btm_next_2?ie=UTF8&reviewerType=all_reviews&pageNumber=402\n",
      "INFO:root:https://www.amazon.com/Fire-HD-8-Plus-tablet/product-reviews/B0839NDRB2/ref=cm_cr_arp_d_paging_btm_next_2?ie=UTF8&reviewerType=all_reviews&pageNumber=403\n",
      "INFO:root:https://www.amazon.com/Fire-HD-8-Plus-tablet/product-reviews/B0839NDRB2/ref=cm_cr_arp_d_paging_btm_next_2?ie=UTF8&reviewerType=all_reviews&pageNumber=404\n",
      "INFO:root:https://www.amazon.com/Fire-HD-8-Plus-tablet/product-reviews/B0839NDRB2/ref=cm_cr_arp_d_paging_btm_next_2?ie=UTF8&reviewerType=all_reviews&pageNumber=405\n",
      "INFO:root:https://www.amazon.com/Fire-HD-8-Plus-tablet/product-reviews/B0839NDRB2/ref=cm_cr_arp_d_paging_btm_next_2?ie=UTF8&reviewerType=all_reviews&pageNumber=406\n",
      "INFO:root:https://www.amazon.com/Fire-HD-8-Plus-tablet/product-reviews/B0839NDRB2/ref=cm_cr_arp_d_paging_btm_next_2?ie=UTF8&reviewerType=all_reviews&pageNumber=407\n",
      "INFO:root:https://www.amazon.com/Fire-HD-8-Plus-tablet/product-reviews/B0839NDRB2/ref=cm_cr_arp_d_paging_btm_next_2?ie=UTF8&reviewerType=all_reviews&pageNumber=408\n",
      "INFO:root:https://www.amazon.com/Fire-HD-8-Plus-tablet/product-reviews/B0839NDRB2/ref=cm_cr_arp_d_paging_btm_next_2?ie=UTF8&reviewerType=all_reviews&pageNumber=409\n",
      "INFO:root:https://www.amazon.com/Fire-HD-8-Plus-tablet/product-reviews/B0839NDRB2/ref=cm_cr_arp_d_paging_btm_next_2?ie=UTF8&reviewerType=all_reviews&pageNumber=410\n",
      "INFO:root:https://www.amazon.com/Fire-HD-8-Plus-tablet/product-reviews/B0839NDRB2/ref=cm_cr_arp_d_paging_btm_next_2?ie=UTF8&reviewerType=all_reviews&pageNumber=411\n",
      "INFO:root:https://www.amazon.com/Fire-HD-8-Plus-tablet/product-reviews/B0839NDRB2/ref=cm_cr_arp_d_paging_btm_next_2?ie=UTF8&reviewerType=all_reviews&pageNumber=412\n",
      "INFO:root:https://www.amazon.com/Fire-HD-8-Plus-tablet/product-reviews/B0839NDRB2/ref=cm_cr_arp_d_paging_btm_next_2?ie=UTF8&reviewerType=all_reviews&pageNumber=413\n",
      "INFO:root:https://www.amazon.com/Fire-HD-8-Plus-tablet/product-reviews/B0839NDRB2/ref=cm_cr_arp_d_paging_btm_next_2?ie=UTF8&reviewerType=all_reviews&pageNumber=414\n",
      "INFO:root:https://www.amazon.com/Fire-HD-8-Plus-tablet/product-reviews/B0839NDRB2/ref=cm_cr_arp_d_paging_btm_next_2?ie=UTF8&reviewerType=all_reviews&pageNumber=415\n",
      "INFO:root:https://www.amazon.com/Fire-HD-8-Plus-tablet/product-reviews/B0839NDRB2/ref=cm_cr_arp_d_paging_btm_next_2?ie=UTF8&reviewerType=all_reviews&pageNumber=416\n",
      "INFO:root:https://www.amazon.com/Fire-HD-8-Plus-tablet/product-reviews/B0839NDRB2/ref=cm_cr_arp_d_paging_btm_next_2?ie=UTF8&reviewerType=all_reviews&pageNumber=417\n",
      "INFO:root:https://www.amazon.com/Fire-HD-8-Plus-tablet/product-reviews/B0839NDRB2/ref=cm_cr_arp_d_paging_btm_next_2?ie=UTF8&reviewerType=all_reviews&pageNumber=418\n",
      "INFO:root:https://www.amazon.com/Fire-HD-8-Plus-tablet/product-reviews/B0839NDRB2/ref=cm_cr_arp_d_paging_btm_next_2?ie=UTF8&reviewerType=all_reviews&pageNumber=419\n",
      "INFO:root:https://www.amazon.com/Fire-HD-8-Plus-tablet/product-reviews/B0839NDRB2/ref=cm_cr_arp_d_paging_btm_next_2?ie=UTF8&reviewerType=all_reviews&pageNumber=420\n",
      "INFO:root:https://www.amazon.com/Fire-HD-8-Plus-tablet/product-reviews/B0839NDRB2/ref=cm_cr_arp_d_paging_btm_next_2?ie=UTF8&reviewerType=all_reviews&pageNumber=421\n",
      "INFO:root:https://www.amazon.com/Fire-HD-8-Plus-tablet/product-reviews/B0839NDRB2/ref=cm_cr_arp_d_paging_btm_next_2?ie=UTF8&reviewerType=all_reviews&pageNumber=422\n",
      "INFO:root:https://www.amazon.com/Fire-HD-8-Plus-tablet/product-reviews/B0839NDRB2/ref=cm_cr_arp_d_paging_btm_next_2?ie=UTF8&reviewerType=all_reviews&pageNumber=423\n",
      "INFO:root:https://www.amazon.com/Fire-HD-8-Plus-tablet/product-reviews/B0839NDRB2/ref=cm_cr_arp_d_paging_btm_next_2?ie=UTF8&reviewerType=all_reviews&pageNumber=424\n",
      "INFO:root:https://www.amazon.com/Fire-HD-8-Plus-tablet/product-reviews/B0839NDRB2/ref=cm_cr_arp_d_paging_btm_next_2?ie=UTF8&reviewerType=all_reviews&pageNumber=425\n",
      "INFO:root:https://www.amazon.com/Fire-HD-8-Plus-tablet/product-reviews/B0839NDRB2/ref=cm_cr_arp_d_paging_btm_next_2?ie=UTF8&reviewerType=all_reviews&pageNumber=426\n",
      "INFO:root:https://www.amazon.com/Fire-HD-8-Plus-tablet/product-reviews/B0839NDRB2/ref=cm_cr_arp_d_paging_btm_next_2?ie=UTF8&reviewerType=all_reviews&pageNumber=427\n",
      "INFO:root:https://www.amazon.com/Fire-HD-8-Plus-tablet/product-reviews/B0839NDRB2/ref=cm_cr_arp_d_paging_btm_next_2?ie=UTF8&reviewerType=all_reviews&pageNumber=428\n",
      "INFO:root:https://www.amazon.com/Fire-HD-8-Plus-tablet/product-reviews/B0839NDRB2/ref=cm_cr_arp_d_paging_btm_next_2?ie=UTF8&reviewerType=all_reviews&pageNumber=429\n",
      "INFO:root:https://www.amazon.com/Fire-HD-8-Plus-tablet/product-reviews/B0839NDRB2/ref=cm_cr_arp_d_paging_btm_next_2?ie=UTF8&reviewerType=all_reviews&pageNumber=430\n",
      "INFO:root:https://www.amazon.com/Fire-HD-8-Plus-tablet/product-reviews/B0839NDRB2/ref=cm_cr_arp_d_paging_btm_next_2?ie=UTF8&reviewerType=all_reviews&pageNumber=431\n",
      "INFO:root:https://www.amazon.com/Fire-HD-8-Plus-tablet/product-reviews/B0839NDRB2/ref=cm_cr_arp_d_paging_btm_next_2?ie=UTF8&reviewerType=all_reviews&pageNumber=432\n",
      "INFO:root:https://www.amazon.com/Fire-HD-8-Plus-tablet/product-reviews/B0839NDRB2/ref=cm_cr_arp_d_paging_btm_next_2?ie=UTF8&reviewerType=all_reviews&pageNumber=433\n",
      "INFO:root:https://www.amazon.com/Fire-HD-8-Plus-tablet/product-reviews/B0839NDRB2/ref=cm_cr_arp_d_paging_btm_next_2?ie=UTF8&reviewerType=all_reviews&pageNumber=434\n",
      "INFO:root:https://www.amazon.com/Fire-HD-8-Plus-tablet/product-reviews/B0839NDRB2/ref=cm_cr_arp_d_paging_btm_next_2?ie=UTF8&reviewerType=all_reviews&pageNumber=435\n",
      "INFO:root:https://www.amazon.com/Fire-HD-8-Plus-tablet/product-reviews/B0839NDRB2/ref=cm_cr_arp_d_paging_btm_next_2?ie=UTF8&reviewerType=all_reviews&pageNumber=436\n",
      "INFO:root:https://www.amazon.com/Fire-HD-8-Plus-tablet/product-reviews/B0839NDRB2/ref=cm_cr_arp_d_paging_btm_next_2?ie=UTF8&reviewerType=all_reviews&pageNumber=437\n",
      "INFO:root:https://www.amazon.com/Fire-HD-8-Plus-tablet/product-reviews/B0839NDRB2/ref=cm_cr_arp_d_paging_btm_next_2?ie=UTF8&reviewerType=all_reviews&pageNumber=438\n",
      "INFO:root:https://www.amazon.com/Fire-HD-8-Plus-tablet/product-reviews/B0839NDRB2/ref=cm_cr_arp_d_paging_btm_next_2?ie=UTF8&reviewerType=all_reviews&pageNumber=439\n",
      "INFO:root:https://www.amazon.com/Fire-HD-8-Plus-tablet/product-reviews/B0839NDRB2/ref=cm_cr_arp_d_paging_btm_next_2?ie=UTF8&reviewerType=all_reviews&pageNumber=440\n",
      "INFO:root:https://www.amazon.com/Fire-HD-8-Plus-tablet/product-reviews/B0839NDRB2/ref=cm_cr_arp_d_paging_btm_next_2?ie=UTF8&reviewerType=all_reviews&pageNumber=441\n",
      "INFO:root:https://www.amazon.com/Fire-HD-8-Plus-tablet/product-reviews/B0839NDRB2/ref=cm_cr_arp_d_paging_btm_next_2?ie=UTF8&reviewerType=all_reviews&pageNumber=442\n",
      "INFO:root:https://www.amazon.com/Fire-HD-8-Plus-tablet/product-reviews/B0839NDRB2/ref=cm_cr_arp_d_paging_btm_next_2?ie=UTF8&reviewerType=all_reviews&pageNumber=443\n",
      "INFO:root:https://www.amazon.com/Fire-HD-8-Plus-tablet/product-reviews/B0839NDRB2/ref=cm_cr_arp_d_paging_btm_next_2?ie=UTF8&reviewerType=all_reviews&pageNumber=444\n",
      "INFO:root:https://www.amazon.com/Fire-HD-8-Plus-tablet/product-reviews/B0839NDRB2/ref=cm_cr_arp_d_paging_btm_next_2?ie=UTF8&reviewerType=all_reviews&pageNumber=445\n",
      "INFO:root:https://www.amazon.com/Fire-HD-8-Plus-tablet/product-reviews/B0839NDRB2/ref=cm_cr_arp_d_paging_btm_next_2?ie=UTF8&reviewerType=all_reviews&pageNumber=446\n",
      "INFO:root:https://www.amazon.com/Fire-HD-8-Plus-tablet/product-reviews/B0839NDRB2/ref=cm_cr_arp_d_paging_btm_next_2?ie=UTF8&reviewerType=all_reviews&pageNumber=447\n",
      "INFO:root:https://www.amazon.com/Fire-HD-8-Plus-tablet/product-reviews/B0839NDRB2/ref=cm_cr_arp_d_paging_btm_next_2?ie=UTF8&reviewerType=all_reviews&pageNumber=448\n",
      "INFO:root:https://www.amazon.com/Fire-HD-8-Plus-tablet/product-reviews/B0839NDRB2/ref=cm_cr_arp_d_paging_btm_next_2?ie=UTF8&reviewerType=all_reviews&pageNumber=449\n",
      "INFO:root:https://www.amazon.com/Fire-HD-8-Plus-tablet/product-reviews/B0839NDRB2/ref=cm_cr_arp_d_paging_btm_next_2?ie=UTF8&reviewerType=all_reviews&pageNumber=450\n",
      "INFO:root:https://www.amazon.com/Fire-HD-8-Plus-tablet/product-reviews/B0839NDRB2/ref=cm_cr_arp_d_paging_btm_next_2?ie=UTF8&reviewerType=all_reviews&pageNumber=451\n"
     ]
    },
    {
     "name": "stderr",
     "output_type": "stream",
     "text": [
      "INFO:root:https://www.amazon.com/Fire-HD-8-Plus-tablet/product-reviews/B0839NDRB2/ref=cm_cr_arp_d_paging_btm_next_2?ie=UTF8&reviewerType=all_reviews&pageNumber=452\n",
      "INFO:root:https://www.amazon.com/Fire-HD-8-Plus-tablet/product-reviews/B0839NDRB2/ref=cm_cr_arp_d_paging_btm_next_2?ie=UTF8&reviewerType=all_reviews&pageNumber=453\n",
      "INFO:root:https://www.amazon.com/Fire-HD-8-Plus-tablet/product-reviews/B0839NDRB2/ref=cm_cr_arp_d_paging_btm_next_2?ie=UTF8&reviewerType=all_reviews&pageNumber=454\n",
      "INFO:root:https://www.amazon.com/Fire-HD-8-Plus-tablet/product-reviews/B0839NDRB2/ref=cm_cr_arp_d_paging_btm_next_2?ie=UTF8&reviewerType=all_reviews&pageNumber=455\n",
      "INFO:root:https://www.amazon.com/Fire-HD-8-Plus-tablet/product-reviews/B0839NDRB2/ref=cm_cr_arp_d_paging_btm_next_2?ie=UTF8&reviewerType=all_reviews&pageNumber=456\n",
      "INFO:root:https://www.amazon.com/Fire-HD-8-Plus-tablet/product-reviews/B0839NDRB2/ref=cm_cr_arp_d_paging_btm_next_2?ie=UTF8&reviewerType=all_reviews&pageNumber=457\n",
      "INFO:root:https://www.amazon.com/Fire-HD-8-Plus-tablet/product-reviews/B0839NDRB2/ref=cm_cr_arp_d_paging_btm_next_2?ie=UTF8&reviewerType=all_reviews&pageNumber=458\n",
      "INFO:root:https://www.amazon.com/Fire-HD-8-Plus-tablet/product-reviews/B0839NDRB2/ref=cm_cr_arp_d_paging_btm_next_2?ie=UTF8&reviewerType=all_reviews&pageNumber=459\n",
      "INFO:root:https://www.amazon.com/Fire-HD-8-Plus-tablet/product-reviews/B0839NDRB2/ref=cm_cr_arp_d_paging_btm_next_2?ie=UTF8&reviewerType=all_reviews&pageNumber=460\n",
      "INFO:root:https://www.amazon.com/Fire-HD-8-Plus-tablet/product-reviews/B0839NDRB2/ref=cm_cr_arp_d_paging_btm_next_2?ie=UTF8&reviewerType=all_reviews&pageNumber=461\n",
      "INFO:root:https://www.amazon.com/Fire-HD-8-Plus-tablet/product-reviews/B0839NDRB2/ref=cm_cr_arp_d_paging_btm_next_2?ie=UTF8&reviewerType=all_reviews&pageNumber=462\n",
      "INFO:root:https://www.amazon.com/Fire-HD-8-Plus-tablet/product-reviews/B0839NDRB2/ref=cm_cr_arp_d_paging_btm_next_2?ie=UTF8&reviewerType=all_reviews&pageNumber=463\n",
      "INFO:root:https://www.amazon.com/Fire-HD-8-Plus-tablet/product-reviews/B0839NDRB2/ref=cm_cr_arp_d_paging_btm_next_2?ie=UTF8&reviewerType=all_reviews&pageNumber=464\n",
      "INFO:root:https://www.amazon.com/Fire-HD-8-Plus-tablet/product-reviews/B0839NDRB2/ref=cm_cr_arp_d_paging_btm_next_2?ie=UTF8&reviewerType=all_reviews&pageNumber=465\n",
      "INFO:root:https://www.amazon.com/Fire-HD-8-Plus-tablet/product-reviews/B0839NDRB2/ref=cm_cr_arp_d_paging_btm_next_2?ie=UTF8&reviewerType=all_reviews&pageNumber=466\n",
      "INFO:root:https://www.amazon.com/Fire-HD-8-Plus-tablet/product-reviews/B0839NDRB2/ref=cm_cr_arp_d_paging_btm_next_2?ie=UTF8&reviewerType=all_reviews&pageNumber=467\n",
      "INFO:root:https://www.amazon.com/Fire-HD-8-Plus-tablet/product-reviews/B0839NDRB2/ref=cm_cr_arp_d_paging_btm_next_2?ie=UTF8&reviewerType=all_reviews&pageNumber=468\n",
      "INFO:root:https://www.amazon.com/Fire-HD-8-Plus-tablet/product-reviews/B0839NDRB2/ref=cm_cr_arp_d_paging_btm_next_2?ie=UTF8&reviewerType=all_reviews&pageNumber=469\n",
      "INFO:root:https://www.amazon.com/Fire-HD-8-Plus-tablet/product-reviews/B0839NDRB2/ref=cm_cr_arp_d_paging_btm_next_2?ie=UTF8&reviewerType=all_reviews&pageNumber=470\n",
      "INFO:root:https://www.amazon.com/Fire-HD-8-Plus-tablet/product-reviews/B0839NDRB2/ref=cm_cr_arp_d_paging_btm_next_2?ie=UTF8&reviewerType=all_reviews&pageNumber=471\n",
      "INFO:root:https://www.amazon.com/Fire-HD-8-Plus-tablet/product-reviews/B0839NDRB2/ref=cm_cr_arp_d_paging_btm_next_2?ie=UTF8&reviewerType=all_reviews&pageNumber=472\n",
      "INFO:root:https://www.amazon.com/Fire-HD-8-Plus-tablet/product-reviews/B0839NDRB2/ref=cm_cr_arp_d_paging_btm_next_2?ie=UTF8&reviewerType=all_reviews&pageNumber=473\n",
      "INFO:root:https://www.amazon.com/Fire-HD-8-Plus-tablet/product-reviews/B0839NDRB2/ref=cm_cr_arp_d_paging_btm_next_2?ie=UTF8&reviewerType=all_reviews&pageNumber=474\n",
      "INFO:root:https://www.amazon.com/Fire-HD-8-Plus-tablet/product-reviews/B0839NDRB2/ref=cm_cr_arp_d_paging_btm_next_2?ie=UTF8&reviewerType=all_reviews&pageNumber=475\n",
      "INFO:root:https://www.amazon.com/Fire-HD-8-Plus-tablet/product-reviews/B0839NDRB2/ref=cm_cr_arp_d_paging_btm_next_2?ie=UTF8&reviewerType=all_reviews&pageNumber=476\n",
      "INFO:root:https://www.amazon.com/Fire-HD-8-Plus-tablet/product-reviews/B0839NDRB2/ref=cm_cr_arp_d_paging_btm_next_2?ie=UTF8&reviewerType=all_reviews&pageNumber=477\n",
      "INFO:root:https://www.amazon.com/Fire-HD-8-Plus-tablet/product-reviews/B0839NDRB2/ref=cm_cr_arp_d_paging_btm_next_2?ie=UTF8&reviewerType=all_reviews&pageNumber=478\n",
      "INFO:root:https://www.amazon.com/Fire-HD-8-Plus-tablet/product-reviews/B0839NDRB2/ref=cm_cr_arp_d_paging_btm_next_2?ie=UTF8&reviewerType=all_reviews&pageNumber=479\n",
      "INFO:root:https://www.amazon.com/Fire-HD-8-Plus-tablet/product-reviews/B0839NDRB2/ref=cm_cr_arp_d_paging_btm_next_2?ie=UTF8&reviewerType=all_reviews&pageNumber=480\n",
      "INFO:root:https://www.amazon.com/Fire-HD-8-Plus-tablet/product-reviews/B0839NDRB2/ref=cm_cr_arp_d_paging_btm_next_2?ie=UTF8&reviewerType=all_reviews&pageNumber=481\n",
      "INFO:root:https://www.amazon.com/Fire-HD-8-Plus-tablet/product-reviews/B0839NDRB2/ref=cm_cr_arp_d_paging_btm_next_2?ie=UTF8&reviewerType=all_reviews&pageNumber=482\n",
      "INFO:root:https://www.amazon.com/Fire-HD-8-Plus-tablet/product-reviews/B0839NDRB2/ref=cm_cr_arp_d_paging_btm_next_2?ie=UTF8&reviewerType=all_reviews&pageNumber=483\n",
      "INFO:root:https://www.amazon.com/Fire-HD-8-Plus-tablet/product-reviews/B0839NDRB2/ref=cm_cr_arp_d_paging_btm_next_2?ie=UTF8&reviewerType=all_reviews&pageNumber=484\n",
      "INFO:root:https://www.amazon.com/Fire-HD-8-Plus-tablet/product-reviews/B0839NDRB2/ref=cm_cr_arp_d_paging_btm_next_2?ie=UTF8&reviewerType=all_reviews&pageNumber=485\n",
      "INFO:root:https://www.amazon.com/Fire-HD-8-Plus-tablet/product-reviews/B0839NDRB2/ref=cm_cr_arp_d_paging_btm_next_2?ie=UTF8&reviewerType=all_reviews&pageNumber=486\n",
      "INFO:root:https://www.amazon.com/Fire-HD-8-Plus-tablet/product-reviews/B0839NDRB2/ref=cm_cr_arp_d_paging_btm_next_2?ie=UTF8&reviewerType=all_reviews&pageNumber=487\n",
      "INFO:root:https://www.amazon.com/Fire-HD-8-Plus-tablet/product-reviews/B0839NDRB2/ref=cm_cr_arp_d_paging_btm_next_2?ie=UTF8&reviewerType=all_reviews&pageNumber=488\n",
      "INFO:root:https://www.amazon.com/Fire-HD-8-Plus-tablet/product-reviews/B0839NDRB2/ref=cm_cr_arp_d_paging_btm_next_2?ie=UTF8&reviewerType=all_reviews&pageNumber=489\n",
      "INFO:root:https://www.amazon.com/Fire-HD-8-Plus-tablet/product-reviews/B0839NDRB2/ref=cm_cr_arp_d_paging_btm_next_2?ie=UTF8&reviewerType=all_reviews&pageNumber=490\n",
      "INFO:root:https://www.amazon.com/Fire-HD-8-Plus-tablet/product-reviews/B0839NDRB2/ref=cm_cr_arp_d_paging_btm_next_2?ie=UTF8&reviewerType=all_reviews&pageNumber=491\n",
      "INFO:root:https://www.amazon.com/Fire-HD-8-Plus-tablet/product-reviews/B0839NDRB2/ref=cm_cr_arp_d_paging_btm_next_2?ie=UTF8&reviewerType=all_reviews&pageNumber=492\n",
      "INFO:root:https://www.amazon.com/Fire-HD-8-Plus-tablet/product-reviews/B0839NDRB2/ref=cm_cr_arp_d_paging_btm_next_2?ie=UTF8&reviewerType=all_reviews&pageNumber=493\n",
      "INFO:root:https://www.amazon.com/Fire-HD-8-Plus-tablet/product-reviews/B0839NDRB2/ref=cm_cr_arp_d_paging_btm_next_2?ie=UTF8&reviewerType=all_reviews&pageNumber=494\n",
      "INFO:root:https://www.amazon.com/Fire-HD-8-Plus-tablet/product-reviews/B0839NDRB2/ref=cm_cr_arp_d_paging_btm_next_2?ie=UTF8&reviewerType=all_reviews&pageNumber=495\n",
      "INFO:root:https://www.amazon.com/Fire-HD-8-Plus-tablet/product-reviews/B0839NDRB2/ref=cm_cr_arp_d_paging_btm_next_2?ie=UTF8&reviewerType=all_reviews&pageNumber=496\n",
      "INFO:root:https://www.amazon.com/Fire-HD-8-Plus-tablet/product-reviews/B0839NDRB2/ref=cm_cr_arp_d_paging_btm_next_2?ie=UTF8&reviewerType=all_reviews&pageNumber=497\n",
      "INFO:root:https://www.amazon.com/Fire-HD-8-Plus-tablet/product-reviews/B0839NDRB2/ref=cm_cr_arp_d_paging_btm_next_2?ie=UTF8&reviewerType=all_reviews&pageNumber=498\n",
      "INFO:root:https://www.amazon.com/Fire-HD-8-Plus-tablet/product-reviews/B0839NDRB2/ref=cm_cr_arp_d_paging_btm_next_2?ie=UTF8&reviewerType=all_reviews&pageNumber=499\n",
      "INFO:root:https://www.amazon.com/Fire-HD-8-Plus-tablet/product-reviews/B0839NDRB2/ref=cm_cr_arp_d_paging_btm_next_2?ie=UTF8&reviewerType=all_reviews&pageNumber=500\n",
      "INFO:root:https://www.amazon.com/Fire-HD-8-Plus-tablet/product-reviews/B0839NDRB2/ref=cm_cr_arp_d_paging_btm_next_2?ie=UTF8&reviewerType=all_reviews&pageNumber=501\n"
     ]
    },
    {
     "name": "stderr",
     "output_type": "stream",
     "text": [
      "INFO:root:https://www.amazon.com/Fire-HD-8-Plus-tablet/product-reviews/B0839NDRB2/ref=cm_cr_arp_d_paging_btm_next_2?ie=UTF8&reviewerType=all_reviews&pageNumber=502\n",
      "INFO:root:https://www.amazon.com/Fire-HD-8-Plus-tablet/product-reviews/B0839NDRB2/ref=cm_cr_arp_d_paging_btm_next_2?ie=UTF8&reviewerType=all_reviews&pageNumber=503\n",
      "INFO:root:https://www.amazon.com/Fire-HD-8-Plus-tablet/product-reviews/B0839NDRB2/ref=cm_cr_arp_d_paging_btm_next_2?ie=UTF8&reviewerType=all_reviews&pageNumber=504\n",
      "INFO:root:https://www.amazon.com/Fire-HD-8-Plus-tablet/product-reviews/B0839NDRB2/ref=cm_cr_arp_d_paging_btm_next_2?ie=UTF8&reviewerType=all_reviews&pageNumber=505\n",
      "INFO:root:https://www.amazon.com/Fire-HD-8-Plus-tablet/product-reviews/B0839NDRB2/ref=cm_cr_arp_d_paging_btm_next_2?ie=UTF8&reviewerType=all_reviews&pageNumber=506\n",
      "INFO:root:https://www.amazon.com/Fire-HD-8-Plus-tablet/product-reviews/B0839NDRB2/ref=cm_cr_arp_d_paging_btm_next_2?ie=UTF8&reviewerType=all_reviews&pageNumber=507\n",
      "INFO:root:https://www.amazon.com/Fire-HD-8-Plus-tablet/product-reviews/B0839NDRB2/ref=cm_cr_arp_d_paging_btm_next_2?ie=UTF8&reviewerType=all_reviews&pageNumber=508\n",
      "INFO:root:https://www.amazon.com/Fire-HD-8-Plus-tablet/product-reviews/B0839NDRB2/ref=cm_cr_arp_d_paging_btm_next_2?ie=UTF8&reviewerType=all_reviews&pageNumber=509\n",
      "INFO:root:https://www.amazon.com/Fire-HD-8-Plus-tablet/product-reviews/B0839NDRB2/ref=cm_cr_arp_d_paging_btm_next_2?ie=UTF8&reviewerType=all_reviews&pageNumber=510\n",
      "INFO:root:https://www.amazon.com/Fire-HD-8-Plus-tablet/product-reviews/B0839NDRB2/ref=cm_cr_arp_d_paging_btm_next_2?ie=UTF8&reviewerType=all_reviews&pageNumber=511\n",
      "INFO:root:https://www.amazon.com/Fire-HD-8-Plus-tablet/product-reviews/B0839NDRB2/ref=cm_cr_arp_d_paging_btm_next_2?ie=UTF8&reviewerType=all_reviews&pageNumber=512\n",
      "INFO:root:https://www.amazon.com/Fire-HD-8-Plus-tablet/product-reviews/B0839NDRB2/ref=cm_cr_arp_d_paging_btm_next_2?ie=UTF8&reviewerType=all_reviews&pageNumber=513\n",
      "INFO:root:https://www.amazon.com/Fire-HD-8-Plus-tablet/product-reviews/B0839NDRB2/ref=cm_cr_arp_d_paging_btm_next_2?ie=UTF8&reviewerType=all_reviews&pageNumber=514\n",
      "INFO:root:https://www.amazon.com/Fire-HD-8-Plus-tablet/product-reviews/B0839NDRB2/ref=cm_cr_arp_d_paging_btm_next_2?ie=UTF8&reviewerType=all_reviews&pageNumber=515\n",
      "INFO:root:https://www.amazon.com/Fire-HD-8-Plus-tablet/product-reviews/B0839NDRB2/ref=cm_cr_arp_d_paging_btm_next_2?ie=UTF8&reviewerType=all_reviews&pageNumber=516\n",
      "INFO:root:https://www.amazon.com/Fire-HD-8-Plus-tablet/product-reviews/B0839NDRB2/ref=cm_cr_arp_d_paging_btm_next_2?ie=UTF8&reviewerType=all_reviews&pageNumber=517\n",
      "INFO:root:https://www.amazon.com/Fire-HD-8-Plus-tablet/product-reviews/B0839NDRB2/ref=cm_cr_arp_d_paging_btm_next_2?ie=UTF8&reviewerType=all_reviews&pageNumber=518\n",
      "INFO:root:https://www.amazon.com/Fire-HD-8-Plus-tablet/product-reviews/B0839NDRB2/ref=cm_cr_arp_d_paging_btm_next_2?ie=UTF8&reviewerType=all_reviews&pageNumber=519\n",
      "INFO:root:https://www.amazon.com/Fire-HD-8-Plus-tablet/product-reviews/B0839NDRB2/ref=cm_cr_arp_d_paging_btm_next_2?ie=UTF8&reviewerType=all_reviews&pageNumber=520\n",
      "INFO:root:https://www.amazon.com/Fire-HD-8-Plus-tablet/product-reviews/B0839NDRB2/ref=cm_cr_arp_d_paging_btm_next_2?ie=UTF8&reviewerType=all_reviews&pageNumber=521\n",
      "INFO:root:https://www.amazon.com/Fire-HD-8-Plus-tablet/product-reviews/B0839NDRB2/ref=cm_cr_arp_d_paging_btm_next_2?ie=UTF8&reviewerType=all_reviews&pageNumber=522\n",
      "INFO:root:https://www.amazon.com/Fire-HD-8-Plus-tablet/product-reviews/B0839NDRB2/ref=cm_cr_arp_d_paging_btm_next_2?ie=UTF8&reviewerType=all_reviews&pageNumber=523\n",
      "INFO:root:https://www.amazon.com/Fire-HD-8-Plus-tablet/product-reviews/B0839NDRB2/ref=cm_cr_arp_d_paging_btm_next_2?ie=UTF8&reviewerType=all_reviews&pageNumber=524\n",
      "INFO:root:https://www.amazon.com/Fire-HD-8-Plus-tablet/product-reviews/B0839NDRB2/ref=cm_cr_arp_d_paging_btm_next_2?ie=UTF8&reviewerType=all_reviews&pageNumber=525\n",
      "INFO:root:https://www.amazon.com/Fire-HD-8-Plus-tablet/product-reviews/B0839NDRB2/ref=cm_cr_arp_d_paging_btm_next_2?ie=UTF8&reviewerType=all_reviews&pageNumber=526\n",
      "INFO:root:https://www.amazon.com/Fire-HD-8-Plus-tablet/product-reviews/B0839NDRB2/ref=cm_cr_arp_d_paging_btm_next_2?ie=UTF8&reviewerType=all_reviews&pageNumber=527\n",
      "INFO:root:https://www.amazon.com/Fire-HD-8-Plus-tablet/product-reviews/B0839NDRB2/ref=cm_cr_arp_d_paging_btm_next_2?ie=UTF8&reviewerType=all_reviews&pageNumber=528\n",
      "INFO:root:https://www.amazon.com/Fire-HD-8-Plus-tablet/product-reviews/B0839NDRB2/ref=cm_cr_arp_d_paging_btm_next_2?ie=UTF8&reviewerType=all_reviews&pageNumber=529\n",
      "INFO:root:https://www.amazon.com/Fire-HD-8-Plus-tablet/product-reviews/B0839NDRB2/ref=cm_cr_arp_d_paging_btm_next_2?ie=UTF8&reviewerType=all_reviews&pageNumber=530\n",
      "INFO:root:https://www.amazon.com/Fire-HD-8-Plus-tablet/product-reviews/B0839NDRB2/ref=cm_cr_arp_d_paging_btm_next_2?ie=UTF8&reviewerType=all_reviews&pageNumber=531\n",
      "INFO:root:https://www.amazon.com/Fire-HD-8-Plus-tablet/product-reviews/B0839NDRB2/ref=cm_cr_arp_d_paging_btm_next_2?ie=UTF8&reviewerType=all_reviews&pageNumber=532\n",
      "INFO:root:https://www.amazon.com/Fire-HD-8-Plus-tablet/product-reviews/B0839NDRB2/ref=cm_cr_arp_d_paging_btm_next_2?ie=UTF8&reviewerType=all_reviews&pageNumber=533\n",
      "INFO:root:https://www.amazon.com/Fire-HD-8-Plus-tablet/product-reviews/B0839NDRB2/ref=cm_cr_arp_d_paging_btm_next_2?ie=UTF8&reviewerType=all_reviews&pageNumber=534\n",
      "INFO:root:https://www.amazon.com/Fire-HD-8-Plus-tablet/product-reviews/B0839NDRB2/ref=cm_cr_arp_d_paging_btm_next_2?ie=UTF8&reviewerType=all_reviews&pageNumber=535\n",
      "INFO:root:https://www.amazon.com/Fire-HD-8-Plus-tablet/product-reviews/B0839NDRB2/ref=cm_cr_arp_d_paging_btm_next_2?ie=UTF8&reviewerType=all_reviews&pageNumber=536\n",
      "INFO:root:https://www.amazon.com/Fire-HD-8-Plus-tablet/product-reviews/B0839NDRB2/ref=cm_cr_arp_d_paging_btm_next_2?ie=UTF8&reviewerType=all_reviews&pageNumber=537\n",
      "INFO:root:https://www.amazon.com/Fire-HD-8-Plus-tablet/product-reviews/B0839NDRB2/ref=cm_cr_arp_d_paging_btm_next_2?ie=UTF8&reviewerType=all_reviews&pageNumber=538\n",
      "INFO:root:https://www.amazon.com/Fire-HD-8-Plus-tablet/product-reviews/B0839NDRB2/ref=cm_cr_arp_d_paging_btm_next_2?ie=UTF8&reviewerType=all_reviews&pageNumber=539\n",
      "INFO:root:https://www.amazon.com/Fire-HD-8-Plus-tablet/product-reviews/B0839NDRB2/ref=cm_cr_arp_d_paging_btm_next_2?ie=UTF8&reviewerType=all_reviews&pageNumber=540\n",
      "INFO:root:https://www.amazon.com/Fire-HD-8-Plus-tablet/product-reviews/B0839NDRB2/ref=cm_cr_arp_d_paging_btm_next_2?ie=UTF8&reviewerType=all_reviews&pageNumber=541\n",
      "INFO:root:https://www.amazon.com/Fire-HD-8-Plus-tablet/product-reviews/B0839NDRB2/ref=cm_cr_arp_d_paging_btm_next_2?ie=UTF8&reviewerType=all_reviews&pageNumber=542\n",
      "INFO:root:https://www.amazon.com/Fire-HD-8-Plus-tablet/product-reviews/B0839NDRB2/ref=cm_cr_arp_d_paging_btm_next_2?ie=UTF8&reviewerType=all_reviews&pageNumber=543\n",
      "INFO:root:https://www.amazon.com/Fire-HD-8-Plus-tablet/product-reviews/B0839NDRB2/ref=cm_cr_arp_d_paging_btm_next_2?ie=UTF8&reviewerType=all_reviews&pageNumber=544\n",
      "INFO:root:https://www.amazon.com/Fire-HD-8-Plus-tablet/product-reviews/B0839NDRB2/ref=cm_cr_arp_d_paging_btm_next_2?ie=UTF8&reviewerType=all_reviews&pageNumber=545\n",
      "INFO:root:https://www.amazon.com/Fire-HD-8-Plus-tablet/product-reviews/B0839NDRB2/ref=cm_cr_arp_d_paging_btm_next_2?ie=UTF8&reviewerType=all_reviews&pageNumber=546\n",
      "INFO:root:https://www.amazon.com/Fire-HD-8-Plus-tablet/product-reviews/B0839NDRB2/ref=cm_cr_arp_d_paging_btm_next_2?ie=UTF8&reviewerType=all_reviews&pageNumber=547\n",
      "INFO:root:https://www.amazon.com/Fire-HD-8-Plus-tablet/product-reviews/B0839NDRB2/ref=cm_cr_arp_d_paging_btm_next_2?ie=UTF8&reviewerType=all_reviews&pageNumber=548\n",
      "INFO:root:https://www.amazon.com/Fire-HD-8-Plus-tablet/product-reviews/B0839NDRB2/ref=cm_cr_arp_d_paging_btm_next_2?ie=UTF8&reviewerType=all_reviews&pageNumber=549\n",
      "INFO:root:https://www.amazon.com/Fire-HD-8-Plus-tablet/product-reviews/B0839NDRB2/ref=cm_cr_arp_d_paging_btm_next_2?ie=UTF8&reviewerType=all_reviews&pageNumber=550\n",
      "INFO:root:https://www.amazon.com/Fire-HD-8-Plus-tablet/product-reviews/B0839NDRB2/ref=cm_cr_arp_d_paging_btm_next_2?ie=UTF8&reviewerType=all_reviews&pageNumber=551\n"
     ]
    },
    {
     "name": "stderr",
     "output_type": "stream",
     "text": [
      "INFO:root:https://www.amazon.com/Fire-HD-8-Plus-tablet/product-reviews/B0839NDRB2/ref=cm_cr_arp_d_paging_btm_next_2?ie=UTF8&reviewerType=all_reviews&pageNumber=552\n",
      "INFO:root:https://www.amazon.com/Fire-HD-8-Plus-tablet/product-reviews/B0839NDRB2/ref=cm_cr_arp_d_paging_btm_next_2?ie=UTF8&reviewerType=all_reviews&pageNumber=553\n",
      "INFO:root:https://www.amazon.com/Fire-HD-8-Plus-tablet/product-reviews/B0839NDRB2/ref=cm_cr_arp_d_paging_btm_next_2?ie=UTF8&reviewerType=all_reviews&pageNumber=554\n",
      "INFO:root:https://www.amazon.com/Fire-HD-8-Plus-tablet/product-reviews/B0839NDRB2/ref=cm_cr_arp_d_paging_btm_next_2?ie=UTF8&reviewerType=all_reviews&pageNumber=555\n",
      "INFO:root:https://www.amazon.com/Fire-HD-8-Plus-tablet/product-reviews/B0839NDRB2/ref=cm_cr_arp_d_paging_btm_next_2?ie=UTF8&reviewerType=all_reviews&pageNumber=556\n",
      "INFO:root:https://www.amazon.com/Fire-HD-8-Plus-tablet/product-reviews/B0839NDRB2/ref=cm_cr_arp_d_paging_btm_next_2?ie=UTF8&reviewerType=all_reviews&pageNumber=557\n",
      "INFO:root:https://www.amazon.com/Fire-HD-8-Plus-tablet/product-reviews/B0839NDRB2/ref=cm_cr_arp_d_paging_btm_next_2?ie=UTF8&reviewerType=all_reviews&pageNumber=558\n",
      "INFO:root:https://www.amazon.com/Fire-HD-8-Plus-tablet/product-reviews/B0839NDRB2/ref=cm_cr_arp_d_paging_btm_next_2?ie=UTF8&reviewerType=all_reviews&pageNumber=559\n",
      "INFO:root:https://www.amazon.com/Fire-HD-8-Plus-tablet/product-reviews/B0839NDRB2/ref=cm_cr_arp_d_paging_btm_next_2?ie=UTF8&reviewerType=all_reviews&pageNumber=560\n",
      "INFO:root:https://www.amazon.com/Fire-HD-8-Plus-tablet/product-reviews/B0839NDRB2/ref=cm_cr_arp_d_paging_btm_next_2?ie=UTF8&reviewerType=all_reviews&pageNumber=561\n",
      "INFO:root:https://www.amazon.com/Fire-HD-8-Plus-tablet/product-reviews/B0839NDRB2/ref=cm_cr_arp_d_paging_btm_next_2?ie=UTF8&reviewerType=all_reviews&pageNumber=562\n",
      "INFO:root:https://www.amazon.com/Fire-HD-8-Plus-tablet/product-reviews/B0839NDRB2/ref=cm_cr_arp_d_paging_btm_next_2?ie=UTF8&reviewerType=all_reviews&pageNumber=563\n",
      "INFO:root:https://www.amazon.com/Fire-HD-8-Plus-tablet/product-reviews/B0839NDRB2/ref=cm_cr_arp_d_paging_btm_next_2?ie=UTF8&reviewerType=all_reviews&pageNumber=564\n",
      "INFO:root:https://www.amazon.com/Fire-HD-8-Plus-tablet/product-reviews/B0839NDRB2/ref=cm_cr_arp_d_paging_btm_next_2?ie=UTF8&reviewerType=all_reviews&pageNumber=565\n",
      "INFO:root:https://www.amazon.com/Fire-HD-8-Plus-tablet/product-reviews/B0839NDRB2/ref=cm_cr_arp_d_paging_btm_next_2?ie=UTF8&reviewerType=all_reviews&pageNumber=566\n",
      "INFO:root:https://www.amazon.com/Fire-HD-8-Plus-tablet/product-reviews/B0839NDRB2/ref=cm_cr_arp_d_paging_btm_next_2?ie=UTF8&reviewerType=all_reviews&pageNumber=567\n",
      "INFO:root:https://www.amazon.com/Fire-HD-8-Plus-tablet/product-reviews/B0839NDRB2/ref=cm_cr_arp_d_paging_btm_next_2?ie=UTF8&reviewerType=all_reviews&pageNumber=568\n",
      "INFO:root:https://www.amazon.com/Fire-HD-8-Plus-tablet/product-reviews/B0839NDRB2/ref=cm_cr_arp_d_paging_btm_next_2?ie=UTF8&reviewerType=all_reviews&pageNumber=569\n",
      "INFO:root:https://www.amazon.com/Fire-HD-8-Plus-tablet/product-reviews/B0839NDRB2/ref=cm_cr_arp_d_paging_btm_next_2?ie=UTF8&reviewerType=all_reviews&pageNumber=570\n",
      "INFO:root:https://www.amazon.com/Fire-HD-8-Plus-tablet/product-reviews/B0839NDRB2/ref=cm_cr_arp_d_paging_btm_next_2?ie=UTF8&reviewerType=all_reviews&pageNumber=571\n",
      "INFO:root:https://www.amazon.com/Fire-HD-8-Plus-tablet/product-reviews/B0839NDRB2/ref=cm_cr_arp_d_paging_btm_next_2?ie=UTF8&reviewerType=all_reviews&pageNumber=572\n",
      "INFO:root:https://www.amazon.com/Fire-HD-8-Plus-tablet/product-reviews/B0839NDRB2/ref=cm_cr_arp_d_paging_btm_next_2?ie=UTF8&reviewerType=all_reviews&pageNumber=573\n",
      "INFO:root:https://www.amazon.com/Fire-HD-8-Plus-tablet/product-reviews/B0839NDRB2/ref=cm_cr_arp_d_paging_btm_next_2?ie=UTF8&reviewerType=all_reviews&pageNumber=574\n",
      "INFO:root:https://www.amazon.com/Fire-HD-8-Plus-tablet/product-reviews/B0839NDRB2/ref=cm_cr_arp_d_paging_btm_next_2?ie=UTF8&reviewerType=all_reviews&pageNumber=575\n",
      "INFO:root:https://www.amazon.com/Fire-HD-8-Plus-tablet/product-reviews/B0839NDRB2/ref=cm_cr_arp_d_paging_btm_next_2?ie=UTF8&reviewerType=all_reviews&pageNumber=576\n",
      "INFO:root:https://www.amazon.com/Fire-HD-8-Plus-tablet/product-reviews/B0839NDRB2/ref=cm_cr_arp_d_paging_btm_next_2?ie=UTF8&reviewerType=all_reviews&pageNumber=577\n",
      "INFO:root:https://www.amazon.com/Fire-HD-8-Plus-tablet/product-reviews/B0839NDRB2/ref=cm_cr_arp_d_paging_btm_next_2?ie=UTF8&reviewerType=all_reviews&pageNumber=578\n",
      "INFO:root:https://www.amazon.com/Fire-HD-8-Plus-tablet/product-reviews/B0839NDRB2/ref=cm_cr_arp_d_paging_btm_next_2?ie=UTF8&reviewerType=all_reviews&pageNumber=579\n",
      "INFO:root:https://www.amazon.com/Fire-HD-8-Plus-tablet/product-reviews/B0839NDRB2/ref=cm_cr_arp_d_paging_btm_next_2?ie=UTF8&reviewerType=all_reviews&pageNumber=580\n",
      "INFO:root:https://www.amazon.com/Fire-HD-8-Plus-tablet/product-reviews/B0839NDRB2/ref=cm_cr_arp_d_paging_btm_next_2?ie=UTF8&reviewerType=all_reviews&pageNumber=581\n",
      "INFO:root:https://www.amazon.com/Fire-HD-8-Plus-tablet/product-reviews/B0839NDRB2/ref=cm_cr_arp_d_paging_btm_next_2?ie=UTF8&reviewerType=all_reviews&pageNumber=582\n",
      "INFO:root:https://www.amazon.com/Fire-HD-8-Plus-tablet/product-reviews/B0839NDRB2/ref=cm_cr_arp_d_paging_btm_next_2?ie=UTF8&reviewerType=all_reviews&pageNumber=583\n",
      "INFO:root:https://www.amazon.com/Fire-HD-8-Plus-tablet/product-reviews/B0839NDRB2/ref=cm_cr_arp_d_paging_btm_next_2?ie=UTF8&reviewerType=all_reviews&pageNumber=584\n",
      "INFO:root:https://www.amazon.com/Fire-HD-8-Plus-tablet/product-reviews/B0839NDRB2/ref=cm_cr_arp_d_paging_btm_next_2?ie=UTF8&reviewerType=all_reviews&pageNumber=585\n",
      "INFO:root:https://www.amazon.com/Fire-HD-8-Plus-tablet/product-reviews/B0839NDRB2/ref=cm_cr_arp_d_paging_btm_next_2?ie=UTF8&reviewerType=all_reviews&pageNumber=586\n",
      "INFO:root:https://www.amazon.com/Fire-HD-8-Plus-tablet/product-reviews/B0839NDRB2/ref=cm_cr_arp_d_paging_btm_next_2?ie=UTF8&reviewerType=all_reviews&pageNumber=587\n",
      "INFO:root:https://www.amazon.com/Fire-HD-8-Plus-tablet/product-reviews/B0839NDRB2/ref=cm_cr_arp_d_paging_btm_next_2?ie=UTF8&reviewerType=all_reviews&pageNumber=588\n",
      "INFO:root:https://www.amazon.com/Fire-HD-8-Plus-tablet/product-reviews/B0839NDRB2/ref=cm_cr_arp_d_paging_btm_next_2?ie=UTF8&reviewerType=all_reviews&pageNumber=589\n",
      "INFO:root:https://www.amazon.com/Fire-HD-8-Plus-tablet/product-reviews/B0839NDRB2/ref=cm_cr_arp_d_paging_btm_next_2?ie=UTF8&reviewerType=all_reviews&pageNumber=590\n",
      "INFO:root:https://www.amazon.com/Fire-HD-8-Plus-tablet/product-reviews/B0839NDRB2/ref=cm_cr_arp_d_paging_btm_next_2?ie=UTF8&reviewerType=all_reviews&pageNumber=591\n",
      "INFO:root:https://www.amazon.com/Fire-HD-8-Plus-tablet/product-reviews/B0839NDRB2/ref=cm_cr_arp_d_paging_btm_next_2?ie=UTF8&reviewerType=all_reviews&pageNumber=592\n",
      "INFO:root:https://www.amazon.com/Fire-HD-8-Plus-tablet/product-reviews/B0839NDRB2/ref=cm_cr_arp_d_paging_btm_next_2?ie=UTF8&reviewerType=all_reviews&pageNumber=593\n",
      "INFO:root:https://www.amazon.com/Fire-HD-8-Plus-tablet/product-reviews/B0839NDRB2/ref=cm_cr_arp_d_paging_btm_next_2?ie=UTF8&reviewerType=all_reviews&pageNumber=594\n",
      "INFO:root:https://www.amazon.com/Fire-HD-8-Plus-tablet/product-reviews/B0839NDRB2/ref=cm_cr_arp_d_paging_btm_next_2?ie=UTF8&reviewerType=all_reviews&pageNumber=595\n",
      "INFO:root:https://www.amazon.com/Fire-HD-8-Plus-tablet/product-reviews/B0839NDRB2/ref=cm_cr_arp_d_paging_btm_next_2?ie=UTF8&reviewerType=all_reviews&pageNumber=596\n",
      "INFO:root:https://www.amazon.com/Fire-HD-8-Plus-tablet/product-reviews/B0839NDRB2/ref=cm_cr_arp_d_paging_btm_next_2?ie=UTF8&reviewerType=all_reviews&pageNumber=597\n",
      "INFO:root:https://www.amazon.com/Fire-HD-8-Plus-tablet/product-reviews/B0839NDRB2/ref=cm_cr_arp_d_paging_btm_next_2?ie=UTF8&reviewerType=all_reviews&pageNumber=598\n",
      "INFO:root:https://www.amazon.com/Fire-HD-8-Plus-tablet/product-reviews/B0839NDRB2/ref=cm_cr_arp_d_paging_btm_next_2?ie=UTF8&reviewerType=all_reviews&pageNumber=599\n",
      "INFO:root:https://www.amazon.com/Fire-HD-8-Plus-tablet/product-reviews/B0839NDRB2/ref=cm_cr_arp_d_paging_btm_next_2?ie=UTF8&reviewerType=all_reviews&pageNumber=600\n",
      "INFO:root:https://www.amazon.com/Fire-HD-8-Plus-tablet/product-reviews/B0839NDRB2/ref=cm_cr_arp_d_paging_btm_next_2?ie=UTF8&reviewerType=all_reviews&pageNumber=601\n"
     ]
    },
    {
     "name": "stderr",
     "output_type": "stream",
     "text": [
      "INFO:root:https://www.amazon.com/Fire-HD-8-Plus-tablet/product-reviews/B0839NDRB2/ref=cm_cr_arp_d_paging_btm_next_2?ie=UTF8&reviewerType=all_reviews&pageNumber=602\n",
      "INFO:root:https://www.amazon.com/Fire-HD-8-Plus-tablet/product-reviews/B0839NDRB2/ref=cm_cr_arp_d_paging_btm_next_2?ie=UTF8&reviewerType=all_reviews&pageNumber=603\n",
      "INFO:root:https://www.amazon.com/Fire-HD-8-Plus-tablet/product-reviews/B0839NDRB2/ref=cm_cr_arp_d_paging_btm_next_2?ie=UTF8&reviewerType=all_reviews&pageNumber=604\n",
      "INFO:root:https://www.amazon.com/Fire-HD-8-Plus-tablet/product-reviews/B0839NDRB2/ref=cm_cr_arp_d_paging_btm_next_2?ie=UTF8&reviewerType=all_reviews&pageNumber=605\n",
      "INFO:root:https://www.amazon.com/Fire-HD-8-Plus-tablet/product-reviews/B0839NDRB2/ref=cm_cr_arp_d_paging_btm_next_2?ie=UTF8&reviewerType=all_reviews&pageNumber=606\n",
      "INFO:root:https://www.amazon.com/Fire-HD-8-Plus-tablet/product-reviews/B0839NDRB2/ref=cm_cr_arp_d_paging_btm_next_2?ie=UTF8&reviewerType=all_reviews&pageNumber=607\n",
      "INFO:root:https://www.amazon.com/Fire-HD-8-Plus-tablet/product-reviews/B0839NDRB2/ref=cm_cr_arp_d_paging_btm_next_2?ie=UTF8&reviewerType=all_reviews&pageNumber=608\n",
      "INFO:root:https://www.amazon.com/Fire-HD-8-Plus-tablet/product-reviews/B0839NDRB2/ref=cm_cr_arp_d_paging_btm_next_2?ie=UTF8&reviewerType=all_reviews&pageNumber=609\n",
      "INFO:root:https://www.amazon.com/Fire-HD-8-Plus-tablet/product-reviews/B0839NDRB2/ref=cm_cr_arp_d_paging_btm_next_2?ie=UTF8&reviewerType=all_reviews&pageNumber=610\n",
      "INFO:root:https://www.amazon.com/Fire-HD-8-Plus-tablet/product-reviews/B0839NDRB2/ref=cm_cr_arp_d_paging_btm_next_2?ie=UTF8&reviewerType=all_reviews&pageNumber=611\n",
      "INFO:root:https://www.amazon.com/Fire-HD-8-Plus-tablet/product-reviews/B0839NDRB2/ref=cm_cr_arp_d_paging_btm_next_2?ie=UTF8&reviewerType=all_reviews&pageNumber=612\n",
      "INFO:root:https://www.amazon.com/Fire-HD-8-Plus-tablet/product-reviews/B0839NDRB2/ref=cm_cr_arp_d_paging_btm_next_2?ie=UTF8&reviewerType=all_reviews&pageNumber=613\n",
      "INFO:root:https://www.amazon.com/Fire-HD-8-Plus-tablet/product-reviews/B0839NDRB2/ref=cm_cr_arp_d_paging_btm_next_2?ie=UTF8&reviewerType=all_reviews&pageNumber=614\n",
      "INFO:root:https://www.amazon.com/Fire-HD-8-Plus-tablet/product-reviews/B0839NDRB2/ref=cm_cr_arp_d_paging_btm_next_2?ie=UTF8&reviewerType=all_reviews&pageNumber=615\n",
      "INFO:root:https://www.amazon.com/Fire-HD-8-Plus-tablet/product-reviews/B0839NDRB2/ref=cm_cr_arp_d_paging_btm_next_2?ie=UTF8&reviewerType=all_reviews&pageNumber=616\n",
      "INFO:root:https://www.amazon.com/Fire-HD-8-Plus-tablet/product-reviews/B0839NDRB2/ref=cm_cr_arp_d_paging_btm_next_2?ie=UTF8&reviewerType=all_reviews&pageNumber=617\n",
      "INFO:root:https://www.amazon.com/Fire-HD-8-Plus-tablet/product-reviews/B0839NDRB2/ref=cm_cr_arp_d_paging_btm_next_2?ie=UTF8&reviewerType=all_reviews&pageNumber=618\n",
      "INFO:root:https://www.amazon.com/Fire-HD-8-Plus-tablet/product-reviews/B0839NDRB2/ref=cm_cr_arp_d_paging_btm_next_2?ie=UTF8&reviewerType=all_reviews&pageNumber=619\n",
      "INFO:root:https://www.amazon.com/Fire-HD-8-Plus-tablet/product-reviews/B0839NDRB2/ref=cm_cr_arp_d_paging_btm_next_2?ie=UTF8&reviewerType=all_reviews&pageNumber=620\n",
      "INFO:root:https://www.amazon.com/Fire-HD-8-Plus-tablet/product-reviews/B0839NDRB2/ref=cm_cr_arp_d_paging_btm_next_2?ie=UTF8&reviewerType=all_reviews&pageNumber=621\n",
      "INFO:root:https://www.amazon.com/Fire-HD-8-Plus-tablet/product-reviews/B0839NDRB2/ref=cm_cr_arp_d_paging_btm_next_2?ie=UTF8&reviewerType=all_reviews&pageNumber=622\n",
      "INFO:root:https://www.amazon.com/Fire-HD-8-Plus-tablet/product-reviews/B0839NDRB2/ref=cm_cr_arp_d_paging_btm_next_2?ie=UTF8&reviewerType=all_reviews&pageNumber=623\n",
      "INFO:root:https://www.amazon.com/Fire-HD-8-Plus-tablet/product-reviews/B0839NDRB2/ref=cm_cr_arp_d_paging_btm_next_2?ie=UTF8&reviewerType=all_reviews&pageNumber=624\n",
      "INFO:root:https://www.amazon.com/Fire-HD-8-Plus-tablet/product-reviews/B0839NDRB2/ref=cm_cr_arp_d_paging_btm_next_2?ie=UTF8&reviewerType=all_reviews&pageNumber=625\n",
      "INFO:root:https://www.amazon.com/Fire-HD-8-Plus-tablet/product-reviews/B0839NDRB2/ref=cm_cr_arp_d_paging_btm_next_2?ie=UTF8&reviewerType=all_reviews&pageNumber=626\n",
      "INFO:root:https://www.amazon.com/Fire-HD-8-Plus-tablet/product-reviews/B0839NDRB2/ref=cm_cr_arp_d_paging_btm_next_2?ie=UTF8&reviewerType=all_reviews&pageNumber=627\n",
      "INFO:root:https://www.amazon.com/Fire-HD-8-Plus-tablet/product-reviews/B0839NDRB2/ref=cm_cr_arp_d_paging_btm_next_2?ie=UTF8&reviewerType=all_reviews&pageNumber=628\n",
      "INFO:root:https://www.amazon.com/Fire-HD-8-Plus-tablet/product-reviews/B0839NDRB2/ref=cm_cr_arp_d_paging_btm_next_2?ie=UTF8&reviewerType=all_reviews&pageNumber=629\n",
      "INFO:root:https://www.amazon.com/Fire-HD-8-Plus-tablet/product-reviews/B0839NDRB2/ref=cm_cr_arp_d_paging_btm_next_2?ie=UTF8&reviewerType=all_reviews&pageNumber=630\n",
      "INFO:root:https://www.amazon.com/Fire-HD-8-Plus-tablet/product-reviews/B0839NDRB2/ref=cm_cr_arp_d_paging_btm_next_2?ie=UTF8&reviewerType=all_reviews&pageNumber=631\n",
      "INFO:root:https://www.amazon.com/Fire-HD-8-Plus-tablet/product-reviews/B0839NDRB2/ref=cm_cr_arp_d_paging_btm_next_2?ie=UTF8&reviewerType=all_reviews&pageNumber=632\n",
      "INFO:root:https://www.amazon.com/Fire-HD-8-Plus-tablet/product-reviews/B0839NDRB2/ref=cm_cr_arp_d_paging_btm_next_2?ie=UTF8&reviewerType=all_reviews&pageNumber=633\n",
      "INFO:root:https://www.amazon.com/Fire-HD-8-Plus-tablet/product-reviews/B0839NDRB2/ref=cm_cr_arp_d_paging_btm_next_2?ie=UTF8&reviewerType=all_reviews&pageNumber=634\n",
      "INFO:root:https://www.amazon.com/Fire-HD-8-Plus-tablet/product-reviews/B0839NDRB2/ref=cm_cr_arp_d_paging_btm_next_2?ie=UTF8&reviewerType=all_reviews&pageNumber=635\n",
      "INFO:root:https://www.amazon.com/Fire-HD-8-Plus-tablet/product-reviews/B0839NDRB2/ref=cm_cr_arp_d_paging_btm_next_2?ie=UTF8&reviewerType=all_reviews&pageNumber=636\n",
      "INFO:root:https://www.amazon.com/Fire-HD-8-Plus-tablet/product-reviews/B0839NDRB2/ref=cm_cr_arp_d_paging_btm_next_2?ie=UTF8&reviewerType=all_reviews&pageNumber=637\n",
      "INFO:root:https://www.amazon.com/Fire-HD-8-Plus-tablet/product-reviews/B0839NDRB2/ref=cm_cr_arp_d_paging_btm_next_2?ie=UTF8&reviewerType=all_reviews&pageNumber=638\n",
      "INFO:root:https://www.amazon.com/Fire-HD-8-Plus-tablet/product-reviews/B0839NDRB2/ref=cm_cr_arp_d_paging_btm_next_2?ie=UTF8&reviewerType=all_reviews&pageNumber=639\n",
      "INFO:root:https://www.amazon.com/Fire-HD-8-Plus-tablet/product-reviews/B0839NDRB2/ref=cm_cr_arp_d_paging_btm_next_2?ie=UTF8&reviewerType=all_reviews&pageNumber=640\n",
      "INFO:root:https://www.amazon.com/Fire-HD-8-Plus-tablet/product-reviews/B0839NDRB2/ref=cm_cr_arp_d_paging_btm_next_2?ie=UTF8&reviewerType=all_reviews&pageNumber=641\n",
      "INFO:root:https://www.amazon.com/Fire-HD-8-Plus-tablet/product-reviews/B0839NDRB2/ref=cm_cr_arp_d_paging_btm_next_2?ie=UTF8&reviewerType=all_reviews&pageNumber=642\n",
      "INFO:root:https://www.amazon.com/Fire-HD-8-Plus-tablet/product-reviews/B0839NDRB2/ref=cm_cr_arp_d_paging_btm_next_2?ie=UTF8&reviewerType=all_reviews&pageNumber=643\n",
      "INFO:root:https://www.amazon.com/Fire-HD-8-Plus-tablet/product-reviews/B0839NDRB2/ref=cm_cr_arp_d_paging_btm_next_2?ie=UTF8&reviewerType=all_reviews&pageNumber=644\n",
      "INFO:root:https://www.amazon.com/Fire-HD-8-Plus-tablet/product-reviews/B0839NDRB2/ref=cm_cr_arp_d_paging_btm_next_2?ie=UTF8&reviewerType=all_reviews&pageNumber=645\n",
      "INFO:root:https://www.amazon.com/Fire-HD-8-Plus-tablet/product-reviews/B0839NDRB2/ref=cm_cr_arp_d_paging_btm_next_2?ie=UTF8&reviewerType=all_reviews&pageNumber=646\n",
      "INFO:root:https://www.amazon.com/Fire-HD-8-Plus-tablet/product-reviews/B0839NDRB2/ref=cm_cr_arp_d_paging_btm_next_2?ie=UTF8&reviewerType=all_reviews&pageNumber=647\n",
      "INFO:root:https://www.amazon.com/Fire-HD-8-Plus-tablet/product-reviews/B0839NDRB2/ref=cm_cr_arp_d_paging_btm_next_2?ie=UTF8&reviewerType=all_reviews&pageNumber=648\n",
      "INFO:root:https://www.amazon.com/Fire-HD-8-Plus-tablet/product-reviews/B0839NDRB2/ref=cm_cr_arp_d_paging_btm_next_2?ie=UTF8&reviewerType=all_reviews&pageNumber=649\n",
      "INFO:root:https://www.amazon.com/Fire-HD-8-Plus-tablet/product-reviews/B0839NDRB2/ref=cm_cr_arp_d_paging_btm_next_2?ie=UTF8&reviewerType=all_reviews&pageNumber=650\n",
      "INFO:root:https://www.amazon.com/Fire-HD-8-Plus-tablet/product-reviews/B0839NDRB2/ref=cm_cr_arp_d_paging_btm_next_2?ie=UTF8&reviewerType=all_reviews&pageNumber=651\n"
     ]
    },
    {
     "name": "stderr",
     "output_type": "stream",
     "text": [
      "INFO:root:https://www.amazon.com/Fire-HD-8-Plus-tablet/product-reviews/B0839NDRB2/ref=cm_cr_arp_d_paging_btm_next_2?ie=UTF8&reviewerType=all_reviews&pageNumber=652\n",
      "INFO:root:https://www.amazon.com/Fire-HD-8-Plus-tablet/product-reviews/B0839NDRB2/ref=cm_cr_arp_d_paging_btm_next_2?ie=UTF8&reviewerType=all_reviews&pageNumber=653\n",
      "INFO:root:https://www.amazon.com/Fire-HD-8-Plus-tablet/product-reviews/B0839NDRB2/ref=cm_cr_arp_d_paging_btm_next_2?ie=UTF8&reviewerType=all_reviews&pageNumber=654\n",
      "INFO:root:https://www.amazon.com/Fire-HD-8-Plus-tablet/product-reviews/B0839NDRB2/ref=cm_cr_arp_d_paging_btm_next_2?ie=UTF8&reviewerType=all_reviews&pageNumber=655\n",
      "INFO:root:https://www.amazon.com/Fire-HD-8-Plus-tablet/product-reviews/B0839NDRB2/ref=cm_cr_arp_d_paging_btm_next_2?ie=UTF8&reviewerType=all_reviews&pageNumber=656\n",
      "INFO:root:https://www.amazon.com/Fire-HD-8-Plus-tablet/product-reviews/B0839NDRB2/ref=cm_cr_arp_d_paging_btm_next_2?ie=UTF8&reviewerType=all_reviews&pageNumber=657\n",
      "INFO:root:https://www.amazon.com/Fire-HD-8-Plus-tablet/product-reviews/B0839NDRB2/ref=cm_cr_arp_d_paging_btm_next_2?ie=UTF8&reviewerType=all_reviews&pageNumber=658\n",
      "INFO:root:https://www.amazon.com/Fire-HD-8-Plus-tablet/product-reviews/B0839NDRB2/ref=cm_cr_arp_d_paging_btm_next_2?ie=UTF8&reviewerType=all_reviews&pageNumber=659\n",
      "INFO:root:https://www.amazon.com/Fire-HD-8-Plus-tablet/product-reviews/B0839NDRB2/ref=cm_cr_arp_d_paging_btm_next_2?ie=UTF8&reviewerType=all_reviews&pageNumber=660\n",
      "INFO:root:https://www.amazon.com/Fire-HD-8-Plus-tablet/product-reviews/B0839NDRB2/ref=cm_cr_arp_d_paging_btm_next_2?ie=UTF8&reviewerType=all_reviews&pageNumber=661\n",
      "INFO:root:https://www.amazon.com/Fire-HD-8-Plus-tablet/product-reviews/B0839NDRB2/ref=cm_cr_arp_d_paging_btm_next_2?ie=UTF8&reviewerType=all_reviews&pageNumber=662\n",
      "INFO:root:https://www.amazon.com/Fire-HD-8-Plus-tablet/product-reviews/B0839NDRB2/ref=cm_cr_arp_d_paging_btm_next_2?ie=UTF8&reviewerType=all_reviews&pageNumber=663\n",
      "INFO:root:https://www.amazon.com/Fire-HD-8-Plus-tablet/product-reviews/B0839NDRB2/ref=cm_cr_arp_d_paging_btm_next_2?ie=UTF8&reviewerType=all_reviews&pageNumber=664\n",
      "INFO:root:https://www.amazon.com/Fire-HD-8-Plus-tablet/product-reviews/B0839NDRB2/ref=cm_cr_arp_d_paging_btm_next_2?ie=UTF8&reviewerType=all_reviews&pageNumber=665\n",
      "INFO:root:https://www.amazon.com/Fire-HD-8-Plus-tablet/product-reviews/B0839NDRB2/ref=cm_cr_arp_d_paging_btm_next_2?ie=UTF8&reviewerType=all_reviews&pageNumber=666\n",
      "INFO:root:https://www.amazon.com/Fire-HD-8-Plus-tablet/product-reviews/B0839NDRB2/ref=cm_cr_arp_d_paging_btm_next_2?ie=UTF8&reviewerType=all_reviews&pageNumber=667\n",
      "INFO:root:https://www.amazon.com/Fire-HD-8-Plus-tablet/product-reviews/B0839NDRB2/ref=cm_cr_arp_d_paging_btm_next_2?ie=UTF8&reviewerType=all_reviews&pageNumber=668\n",
      "INFO:root:https://www.amazon.com/Fire-HD-8-Plus-tablet/product-reviews/B0839NDRB2/ref=cm_cr_arp_d_paging_btm_next_2?ie=UTF8&reviewerType=all_reviews&pageNumber=669\n",
      "INFO:root:https://www.amazon.com/Fire-HD-8-Plus-tablet/product-reviews/B0839NDRB2/ref=cm_cr_arp_d_paging_btm_next_2?ie=UTF8&reviewerType=all_reviews&pageNumber=670\n",
      "INFO:root:https://www.amazon.com/Fire-HD-8-Plus-tablet/product-reviews/B0839NDRB2/ref=cm_cr_arp_d_paging_btm_next_2?ie=UTF8&reviewerType=all_reviews&pageNumber=671\n",
      "INFO:root:https://www.amazon.com/Fire-HD-8-Plus-tablet/product-reviews/B0839NDRB2/ref=cm_cr_arp_d_paging_btm_next_2?ie=UTF8&reviewerType=all_reviews&pageNumber=672\n",
      "INFO:root:https://www.amazon.com/Fire-HD-8-Plus-tablet/product-reviews/B0839NDRB2/ref=cm_cr_arp_d_paging_btm_next_2?ie=UTF8&reviewerType=all_reviews&pageNumber=673\n",
      "INFO:root:https://www.amazon.com/Fire-HD-8-Plus-tablet/product-reviews/B0839NDRB2/ref=cm_cr_arp_d_paging_btm_next_2?ie=UTF8&reviewerType=all_reviews&pageNumber=674\n",
      "INFO:root:https://www.amazon.com/Fire-HD-8-Plus-tablet/product-reviews/B0839NDRB2/ref=cm_cr_arp_d_paging_btm_next_2?ie=UTF8&reviewerType=all_reviews&pageNumber=675\n",
      "INFO:root:https://www.amazon.com/Fire-HD-8-Plus-tablet/product-reviews/B0839NDRB2/ref=cm_cr_arp_d_paging_btm_next_2?ie=UTF8&reviewerType=all_reviews&pageNumber=676\n",
      "INFO:root:https://www.amazon.com/Fire-HD-8-Plus-tablet/product-reviews/B0839NDRB2/ref=cm_cr_arp_d_paging_btm_next_2?ie=UTF8&reviewerType=all_reviews&pageNumber=677\n",
      "INFO:root:https://www.amazon.com/Fire-HD-8-Plus-tablet/product-reviews/B0839NDRB2/ref=cm_cr_arp_d_paging_btm_next_2?ie=UTF8&reviewerType=all_reviews&pageNumber=678\n",
      "INFO:root:https://www.amazon.com/Fire-HD-8-Plus-tablet/product-reviews/B0839NDRB2/ref=cm_cr_arp_d_paging_btm_next_2?ie=UTF8&reviewerType=all_reviews&pageNumber=679\n",
      "INFO:root:https://www.amazon.com/Fire-HD-8-Plus-tablet/product-reviews/B0839NDRB2/ref=cm_cr_arp_d_paging_btm_next_2?ie=UTF8&reviewerType=all_reviews&pageNumber=680\n",
      "INFO:root:https://www.amazon.com/Fire-HD-8-Plus-tablet/product-reviews/B0839NDRB2/ref=cm_cr_arp_d_paging_btm_next_2?ie=UTF8&reviewerType=all_reviews&pageNumber=681\n",
      "INFO:root:https://www.amazon.com/Fire-HD-8-Plus-tablet/product-reviews/B0839NDRB2/ref=cm_cr_arp_d_paging_btm_next_2?ie=UTF8&reviewerType=all_reviews&pageNumber=682\n",
      "INFO:root:https://www.amazon.com/Fire-HD-8-Plus-tablet/product-reviews/B0839NDRB2/ref=cm_cr_arp_d_paging_btm_next_2?ie=UTF8&reviewerType=all_reviews&pageNumber=683\n",
      "INFO:root:https://www.amazon.com/Fire-HD-8-Plus-tablet/product-reviews/B0839NDRB2/ref=cm_cr_arp_d_paging_btm_next_2?ie=UTF8&reviewerType=all_reviews&pageNumber=684\n",
      "INFO:root:https://www.amazon.com/Fire-HD-8-Plus-tablet/product-reviews/B0839NDRB2/ref=cm_cr_arp_d_paging_btm_next_2?ie=UTF8&reviewerType=all_reviews&pageNumber=685\n",
      "INFO:root:https://www.amazon.com/Fire-HD-8-Plus-tablet/product-reviews/B0839NDRB2/ref=cm_cr_arp_d_paging_btm_next_2?ie=UTF8&reviewerType=all_reviews&pageNumber=686\n",
      "INFO:root:https://www.amazon.com/Fire-HD-8-Plus-tablet/product-reviews/B0839NDRB2/ref=cm_cr_arp_d_paging_btm_next_2?ie=UTF8&reviewerType=all_reviews&pageNumber=687\n",
      "INFO:root:https://www.amazon.com/Fire-HD-8-Plus-tablet/product-reviews/B0839NDRB2/ref=cm_cr_arp_d_paging_btm_next_2?ie=UTF8&reviewerType=all_reviews&pageNumber=688\n",
      "INFO:root:https://www.amazon.com/Fire-HD-8-Plus-tablet/product-reviews/B0839NDRB2/ref=cm_cr_arp_d_paging_btm_next_2?ie=UTF8&reviewerType=all_reviews&pageNumber=689\n",
      "INFO:root:https://www.amazon.com/Fire-HD-8-Plus-tablet/product-reviews/B0839NDRB2/ref=cm_cr_arp_d_paging_btm_next_2?ie=UTF8&reviewerType=all_reviews&pageNumber=690\n",
      "INFO:root:https://www.amazon.com/Fire-HD-8-Plus-tablet/product-reviews/B0839NDRB2/ref=cm_cr_arp_d_paging_btm_next_2?ie=UTF8&reviewerType=all_reviews&pageNumber=691\n",
      "INFO:root:https://www.amazon.com/Fire-HD-8-Plus-tablet/product-reviews/B0839NDRB2/ref=cm_cr_arp_d_paging_btm_next_2?ie=UTF8&reviewerType=all_reviews&pageNumber=692\n",
      "INFO:root:https://www.amazon.com/Fire-HD-8-Plus-tablet/product-reviews/B0839NDRB2/ref=cm_cr_arp_d_paging_btm_next_2?ie=UTF8&reviewerType=all_reviews&pageNumber=693\n",
      "INFO:root:https://www.amazon.com/Fire-HD-8-Plus-tablet/product-reviews/B0839NDRB2/ref=cm_cr_arp_d_paging_btm_next_2?ie=UTF8&reviewerType=all_reviews&pageNumber=694\n",
      "INFO:root:https://www.amazon.com/Fire-HD-8-Plus-tablet/product-reviews/B0839NDRB2/ref=cm_cr_arp_d_paging_btm_next_2?ie=UTF8&reviewerType=all_reviews&pageNumber=695\n",
      "INFO:root:https://www.amazon.com/Fire-HD-8-Plus-tablet/product-reviews/B0839NDRB2/ref=cm_cr_arp_d_paging_btm_next_2?ie=UTF8&reviewerType=all_reviews&pageNumber=696\n",
      "INFO:root:https://www.amazon.com/Fire-HD-8-Plus-tablet/product-reviews/B0839NDRB2/ref=cm_cr_arp_d_paging_btm_next_2?ie=UTF8&reviewerType=all_reviews&pageNumber=697\n",
      "INFO:root:https://www.amazon.com/Fire-HD-8-Plus-tablet/product-reviews/B0839NDRB2/ref=cm_cr_arp_d_paging_btm_next_2?ie=UTF8&reviewerType=all_reviews&pageNumber=698\n",
      "INFO:root:https://www.amazon.com/Fire-HD-8-Plus-tablet/product-reviews/B0839NDRB2/ref=cm_cr_arp_d_paging_btm_next_2?ie=UTF8&reviewerType=all_reviews&pageNumber=699\n",
      "INFO:root:https://www.amazon.com/Fire-HD-8-Plus-tablet/product-reviews/B0839NDRB2/ref=cm_cr_arp_d_paging_btm_next_2?ie=UTF8&reviewerType=all_reviews&pageNumber=700\n",
      "INFO:root:https://www.amazon.com/Fire-HD-8-Plus-tablet/product-reviews/B0839NDRB2/ref=cm_cr_arp_d_paging_btm_next_2?ie=UTF8&reviewerType=all_reviews&pageNumber=701\n"
     ]
    },
    {
     "name": "stderr",
     "output_type": "stream",
     "text": [
      "INFO:root:https://www.amazon.com/Fire-HD-8-Plus-tablet/product-reviews/B0839NDRB2/ref=cm_cr_arp_d_paging_btm_next_2?ie=UTF8&reviewerType=all_reviews&pageNumber=702\n",
      "INFO:root:https://www.amazon.com/Fire-HD-8-Plus-tablet/product-reviews/B0839NDRB2/ref=cm_cr_arp_d_paging_btm_next_2?ie=UTF8&reviewerType=all_reviews&pageNumber=703\n",
      "INFO:root:https://www.amazon.com/Fire-HD-8-Plus-tablet/product-reviews/B0839NDRB2/ref=cm_cr_arp_d_paging_btm_next_2?ie=UTF8&reviewerType=all_reviews&pageNumber=704\n",
      "INFO:root:https://www.amazon.com/Fire-HD-8-Plus-tablet/product-reviews/B0839NDRB2/ref=cm_cr_arp_d_paging_btm_next_2?ie=UTF8&reviewerType=all_reviews&pageNumber=705\n",
      "INFO:root:https://www.amazon.com/Fire-HD-8-Plus-tablet/product-reviews/B0839NDRB2/ref=cm_cr_arp_d_paging_btm_next_2?ie=UTF8&reviewerType=all_reviews&pageNumber=706\n",
      "INFO:root:https://www.amazon.com/Fire-HD-8-Plus-tablet/product-reviews/B0839NDRB2/ref=cm_cr_arp_d_paging_btm_next_2?ie=UTF8&reviewerType=all_reviews&pageNumber=707\n",
      "INFO:root:https://www.amazon.com/Fire-HD-8-Plus-tablet/product-reviews/B0839NDRB2/ref=cm_cr_arp_d_paging_btm_next_2?ie=UTF8&reviewerType=all_reviews&pageNumber=708\n",
      "INFO:root:https://www.amazon.com/Fire-HD-8-Plus-tablet/product-reviews/B0839NDRB2/ref=cm_cr_arp_d_paging_btm_next_2?ie=UTF8&reviewerType=all_reviews&pageNumber=709\n",
      "INFO:root:https://www.amazon.com/Fire-HD-8-Plus-tablet/product-reviews/B0839NDRB2/ref=cm_cr_arp_d_paging_btm_next_2?ie=UTF8&reviewerType=all_reviews&pageNumber=710\n",
      "INFO:root:https://www.amazon.com/Fire-HD-8-Plus-tablet/product-reviews/B0839NDRB2/ref=cm_cr_arp_d_paging_btm_next_2?ie=UTF8&reviewerType=all_reviews&pageNumber=711\n",
      "INFO:root:https://www.amazon.com/Fire-HD-8-Plus-tablet/product-reviews/B0839NDRB2/ref=cm_cr_arp_d_paging_btm_next_2?ie=UTF8&reviewerType=all_reviews&pageNumber=712\n",
      "INFO:root:https://www.amazon.com/Fire-HD-8-Plus-tablet/product-reviews/B0839NDRB2/ref=cm_cr_arp_d_paging_btm_next_2?ie=UTF8&reviewerType=all_reviews&pageNumber=713\n",
      "INFO:root:https://www.amazon.com/Fire-HD-8-Plus-tablet/product-reviews/B0839NDRB2/ref=cm_cr_arp_d_paging_btm_next_2?ie=UTF8&reviewerType=all_reviews&pageNumber=714\n",
      "INFO:root:https://www.amazon.com/Fire-HD-8-Plus-tablet/product-reviews/B0839NDRB2/ref=cm_cr_arp_d_paging_btm_next_2?ie=UTF8&reviewerType=all_reviews&pageNumber=715\n",
      "INFO:root:https://www.amazon.com/Fire-HD-8-Plus-tablet/product-reviews/B0839NDRB2/ref=cm_cr_arp_d_paging_btm_next_2?ie=UTF8&reviewerType=all_reviews&pageNumber=716\n",
      "INFO:root:https://www.amazon.com/Fire-HD-8-Plus-tablet/product-reviews/B0839NDRB2/ref=cm_cr_arp_d_paging_btm_next_2?ie=UTF8&reviewerType=all_reviews&pageNumber=717\n",
      "INFO:root:https://www.amazon.com/Fire-HD-8-Plus-tablet/product-reviews/B0839NDRB2/ref=cm_cr_arp_d_paging_btm_next_2?ie=UTF8&reviewerType=all_reviews&pageNumber=718\n",
      "INFO:root:https://www.amazon.com/Fire-HD-8-Plus-tablet/product-reviews/B0839NDRB2/ref=cm_cr_arp_d_paging_btm_next_2?ie=UTF8&reviewerType=all_reviews&pageNumber=719\n",
      "INFO:root:https://www.amazon.com/Fire-HD-8-Plus-tablet/product-reviews/B0839NDRB2/ref=cm_cr_arp_d_paging_btm_next_2?ie=UTF8&reviewerType=all_reviews&pageNumber=720\n",
      "INFO:root:https://www.amazon.com/Fire-HD-8-Plus-tablet/product-reviews/B0839NDRB2/ref=cm_cr_arp_d_paging_btm_next_2?ie=UTF8&reviewerType=all_reviews&pageNumber=721\n",
      "INFO:root:https://www.amazon.com/Fire-HD-8-Plus-tablet/product-reviews/B0839NDRB2/ref=cm_cr_arp_d_paging_btm_next_2?ie=UTF8&reviewerType=all_reviews&pageNumber=722\n",
      "INFO:root:https://www.amazon.com/Fire-HD-8-Plus-tablet/product-reviews/B0839NDRB2/ref=cm_cr_arp_d_paging_btm_next_2?ie=UTF8&reviewerType=all_reviews&pageNumber=723\n",
      "INFO:root:https://www.amazon.com/Fire-HD-8-Plus-tablet/product-reviews/B0839NDRB2/ref=cm_cr_arp_d_paging_btm_next_2?ie=UTF8&reviewerType=all_reviews&pageNumber=724\n",
      "INFO:root:https://www.amazon.com/Fire-HD-8-Plus-tablet/product-reviews/B0839NDRB2/ref=cm_cr_arp_d_paging_btm_next_2?ie=UTF8&reviewerType=all_reviews&pageNumber=725\n",
      "INFO:root:https://www.amazon.com/Fire-HD-8-Plus-tablet/product-reviews/B0839NDRB2/ref=cm_cr_arp_d_paging_btm_next_2?ie=UTF8&reviewerType=all_reviews&pageNumber=726\n",
      "INFO:root:https://www.amazon.com/Fire-HD-8-Plus-tablet/product-reviews/B0839NDRB2/ref=cm_cr_arp_d_paging_btm_next_2?ie=UTF8&reviewerType=all_reviews&pageNumber=727\n",
      "INFO:root:https://www.amazon.com/Fire-HD-8-Plus-tablet/product-reviews/B0839NDRB2/ref=cm_cr_arp_d_paging_btm_next_2?ie=UTF8&reviewerType=all_reviews&pageNumber=728\n",
      "INFO:root:https://www.amazon.com/Fire-HD-8-Plus-tablet/product-reviews/B0839NDRB2/ref=cm_cr_arp_d_paging_btm_next_2?ie=UTF8&reviewerType=all_reviews&pageNumber=729\n",
      "INFO:root:https://www.amazon.com/Fire-HD-8-Plus-tablet/product-reviews/B0839NDRB2/ref=cm_cr_arp_d_paging_btm_next_2?ie=UTF8&reviewerType=all_reviews&pageNumber=730\n",
      "INFO:root:https://www.amazon.com/Fire-HD-8-Plus-tablet/product-reviews/B0839NDRB2/ref=cm_cr_arp_d_paging_btm_next_2?ie=UTF8&reviewerType=all_reviews&pageNumber=731\n",
      "INFO:root:https://www.amazon.com/Fire-HD-8-Plus-tablet/product-reviews/B0839NDRB2/ref=cm_cr_arp_d_paging_btm_next_2?ie=UTF8&reviewerType=all_reviews&pageNumber=732\n",
      "INFO:root:https://www.amazon.com/Fire-HD-8-Plus-tablet/product-reviews/B0839NDRB2/ref=cm_cr_arp_d_paging_btm_next_2?ie=UTF8&reviewerType=all_reviews&pageNumber=733\n",
      "INFO:root:https://www.amazon.com/Fire-HD-8-Plus-tablet/product-reviews/B0839NDRB2/ref=cm_cr_arp_d_paging_btm_next_2?ie=UTF8&reviewerType=all_reviews&pageNumber=734\n",
      "INFO:root:https://www.amazon.com/Fire-HD-8-Plus-tablet/product-reviews/B0839NDRB2/ref=cm_cr_arp_d_paging_btm_next_2?ie=UTF8&reviewerType=all_reviews&pageNumber=735\n",
      "INFO:root:https://www.amazon.com/Fire-HD-8-Plus-tablet/product-reviews/B0839NDRB2/ref=cm_cr_arp_d_paging_btm_next_2?ie=UTF8&reviewerType=all_reviews&pageNumber=736\n",
      "INFO:root:https://www.amazon.com/Fire-HD-8-Plus-tablet/product-reviews/B0839NDRB2/ref=cm_cr_arp_d_paging_btm_next_2?ie=UTF8&reviewerType=all_reviews&pageNumber=737\n",
      "INFO:root:https://www.amazon.com/Fire-HD-8-Plus-tablet/product-reviews/B0839NDRB2/ref=cm_cr_arp_d_paging_btm_next_2?ie=UTF8&reviewerType=all_reviews&pageNumber=738\n",
      "INFO:root:https://www.amazon.com/Fire-HD-8-Plus-tablet/product-reviews/B0839NDRB2/ref=cm_cr_arp_d_paging_btm_next_2?ie=UTF8&reviewerType=all_reviews&pageNumber=739\n",
      "INFO:root:https://www.amazon.com/Fire-HD-8-Plus-tablet/product-reviews/B0839NDRB2/ref=cm_cr_arp_d_paging_btm_next_2?ie=UTF8&reviewerType=all_reviews&pageNumber=740\n",
      "INFO:root:https://www.amazon.com/Fire-HD-8-Plus-tablet/product-reviews/B0839NDRB2/ref=cm_cr_arp_d_paging_btm_next_2?ie=UTF8&reviewerType=all_reviews&pageNumber=741\n",
      "INFO:root:https://www.amazon.com/Fire-HD-8-Plus-tablet/product-reviews/B0839NDRB2/ref=cm_cr_arp_d_paging_btm_next_2?ie=UTF8&reviewerType=all_reviews&pageNumber=742\n",
      "INFO:root:https://www.amazon.com/Fire-HD-8-Plus-tablet/product-reviews/B0839NDRB2/ref=cm_cr_arp_d_paging_btm_next_2?ie=UTF8&reviewerType=all_reviews&pageNumber=743\n",
      "INFO:root:https://www.amazon.com/Fire-HD-8-Plus-tablet/product-reviews/B0839NDRB2/ref=cm_cr_arp_d_paging_btm_next_2?ie=UTF8&reviewerType=all_reviews&pageNumber=744\n",
      "INFO:root:https://www.amazon.com/Fire-HD-8-Plus-tablet/product-reviews/B0839NDRB2/ref=cm_cr_arp_d_paging_btm_next_2?ie=UTF8&reviewerType=all_reviews&pageNumber=745\n",
      "INFO:root:https://www.amazon.com/Fire-HD-8-Plus-tablet/product-reviews/B0839NDRB2/ref=cm_cr_arp_d_paging_btm_next_2?ie=UTF8&reviewerType=all_reviews&pageNumber=746\n",
      "INFO:root:https://www.amazon.com/Fire-HD-8-Plus-tablet/product-reviews/B0839NDRB2/ref=cm_cr_arp_d_paging_btm_next_2?ie=UTF8&reviewerType=all_reviews&pageNumber=747\n",
      "INFO:root:https://www.amazon.com/Fire-HD-8-Plus-tablet/product-reviews/B0839NDRB2/ref=cm_cr_arp_d_paging_btm_next_2?ie=UTF8&reviewerType=all_reviews&pageNumber=748\n",
      "INFO:root:https://www.amazon.com/Fire-HD-8-Plus-tablet/product-reviews/B0839NDRB2/ref=cm_cr_arp_d_paging_btm_next_2?ie=UTF8&reviewerType=all_reviews&pageNumber=749\n",
      "INFO:root:https://www.amazon.com/Fire-HD-8-Plus-tablet/product-reviews/B0839NDRB2/ref=cm_cr_arp_d_paging_btm_next_2?ie=UTF8&reviewerType=all_reviews&pageNumber=750\n",
      "INFO:root:https://www.amazon.com/Fire-HD-8-Plus-tablet/product-reviews/B0839NDRB2/ref=cm_cr_arp_d_paging_btm_next_2?ie=UTF8&reviewerType=all_reviews&pageNumber=751\n"
     ]
    },
    {
     "name": "stderr",
     "output_type": "stream",
     "text": [
      "INFO:root:https://www.amazon.com/Fire-HD-8-Plus-tablet/product-reviews/B0839NDRB2/ref=cm_cr_arp_d_paging_btm_next_2?ie=UTF8&reviewerType=all_reviews&pageNumber=752\n",
      "INFO:root:https://www.amazon.com/Fire-HD-8-Plus-tablet/product-reviews/B0839NDRB2/ref=cm_cr_arp_d_paging_btm_next_2?ie=UTF8&reviewerType=all_reviews&pageNumber=753\n",
      "INFO:root:https://www.amazon.com/Fire-HD-8-Plus-tablet/product-reviews/B0839NDRB2/ref=cm_cr_arp_d_paging_btm_next_2?ie=UTF8&reviewerType=all_reviews&pageNumber=754\n",
      "INFO:root:https://www.amazon.com/Fire-HD-8-Plus-tablet/product-reviews/B0839NDRB2/ref=cm_cr_arp_d_paging_btm_next_2?ie=UTF8&reviewerType=all_reviews&pageNumber=755\n",
      "INFO:root:https://www.amazon.com/Fire-HD-8-Plus-tablet/product-reviews/B0839NDRB2/ref=cm_cr_arp_d_paging_btm_next_2?ie=UTF8&reviewerType=all_reviews&pageNumber=756\n",
      "INFO:root:https://www.amazon.com/Fire-HD-8-Plus-tablet/product-reviews/B0839NDRB2/ref=cm_cr_arp_d_paging_btm_next_2?ie=UTF8&reviewerType=all_reviews&pageNumber=757\n",
      "INFO:root:https://www.amazon.com/Fire-HD-8-Plus-tablet/product-reviews/B0839NDRB2/ref=cm_cr_arp_d_paging_btm_next_2?ie=UTF8&reviewerType=all_reviews&pageNumber=758\n",
      "INFO:root:https://www.amazon.com/Fire-HD-8-Plus-tablet/product-reviews/B0839NDRB2/ref=cm_cr_arp_d_paging_btm_next_2?ie=UTF8&reviewerType=all_reviews&pageNumber=759\n",
      "INFO:root:https://www.amazon.com/Fire-HD-8-Plus-tablet/product-reviews/B0839NDRB2/ref=cm_cr_arp_d_paging_btm_next_2?ie=UTF8&reviewerType=all_reviews&pageNumber=760\n",
      "INFO:root:https://www.amazon.com/Fire-HD-8-Plus-tablet/product-reviews/B0839NDRB2/ref=cm_cr_arp_d_paging_btm_next_2?ie=UTF8&reviewerType=all_reviews&pageNumber=761\n",
      "INFO:root:https://www.amazon.com/Fire-HD-8-Plus-tablet/product-reviews/B0839NDRB2/ref=cm_cr_arp_d_paging_btm_next_2?ie=UTF8&reviewerType=all_reviews&pageNumber=762\n",
      "INFO:root:https://www.amazon.com/Fire-HD-8-Plus-tablet/product-reviews/B0839NDRB2/ref=cm_cr_arp_d_paging_btm_next_2?ie=UTF8&reviewerType=all_reviews&pageNumber=763\n",
      "INFO:root:https://www.amazon.com/Fire-HD-8-Plus-tablet/product-reviews/B0839NDRB2/ref=cm_cr_arp_d_paging_btm_next_2?ie=UTF8&reviewerType=all_reviews&pageNumber=764\n",
      "INFO:root:https://www.amazon.com/Fire-HD-8-Plus-tablet/product-reviews/B0839NDRB2/ref=cm_cr_arp_d_paging_btm_next_2?ie=UTF8&reviewerType=all_reviews&pageNumber=765\n",
      "INFO:root:https://www.amazon.com/Fire-HD-8-Plus-tablet/product-reviews/B0839NDRB2/ref=cm_cr_arp_d_paging_btm_next_2?ie=UTF8&reviewerType=all_reviews&pageNumber=766\n",
      "INFO:root:https://www.amazon.com/Fire-HD-8-Plus-tablet/product-reviews/B0839NDRB2/ref=cm_cr_arp_d_paging_btm_next_2?ie=UTF8&reviewerType=all_reviews&pageNumber=767\n",
      "INFO:root:https://www.amazon.com/Fire-HD-8-Plus-tablet/product-reviews/B0839NDRB2/ref=cm_cr_arp_d_paging_btm_next_2?ie=UTF8&reviewerType=all_reviews&pageNumber=768\n",
      "INFO:root:https://www.amazon.com/Fire-HD-8-Plus-tablet/product-reviews/B0839NDRB2/ref=cm_cr_arp_d_paging_btm_next_2?ie=UTF8&reviewerType=all_reviews&pageNumber=769\n",
      "INFO:root:https://www.amazon.com/Fire-HD-8-Plus-tablet/product-reviews/B0839NDRB2/ref=cm_cr_arp_d_paging_btm_next_2?ie=UTF8&reviewerType=all_reviews&pageNumber=770\n",
      "INFO:root:https://www.amazon.com/Fire-HD-8-Plus-tablet/product-reviews/B0839NDRB2/ref=cm_cr_arp_d_paging_btm_next_2?ie=UTF8&reviewerType=all_reviews&pageNumber=771\n",
      "INFO:root:https://www.amazon.com/Fire-HD-8-Plus-tablet/product-reviews/B0839NDRB2/ref=cm_cr_arp_d_paging_btm_next_2?ie=UTF8&reviewerType=all_reviews&pageNumber=772\n",
      "INFO:root:https://www.amazon.com/Fire-HD-8-Plus-tablet/product-reviews/B0839NDRB2/ref=cm_cr_arp_d_paging_btm_next_2?ie=UTF8&reviewerType=all_reviews&pageNumber=773\n",
      "INFO:root:https://www.amazon.com/Fire-HD-8-Plus-tablet/product-reviews/B0839NDRB2/ref=cm_cr_arp_d_paging_btm_next_2?ie=UTF8&reviewerType=all_reviews&pageNumber=774\n",
      "INFO:root:https://www.amazon.com/Fire-HD-8-Plus-tablet/product-reviews/B0839NDRB2/ref=cm_cr_arp_d_paging_btm_next_2?ie=UTF8&reviewerType=all_reviews&pageNumber=775\n",
      "INFO:root:https://www.amazon.com/Fire-HD-8-Plus-tablet/product-reviews/B0839NDRB2/ref=cm_cr_arp_d_paging_btm_next_2?ie=UTF8&reviewerType=all_reviews&pageNumber=776\n",
      "INFO:root:https://www.amazon.com/Fire-HD-8-Plus-tablet/product-reviews/B0839NDRB2/ref=cm_cr_arp_d_paging_btm_next_2?ie=UTF8&reviewerType=all_reviews&pageNumber=777\n",
      "INFO:root:https://www.amazon.com/Fire-HD-8-Plus-tablet/product-reviews/B0839NDRB2/ref=cm_cr_arp_d_paging_btm_next_2?ie=UTF8&reviewerType=all_reviews&pageNumber=778\n",
      "INFO:root:https://www.amazon.com/Fire-HD-8-Plus-tablet/product-reviews/B0839NDRB2/ref=cm_cr_arp_d_paging_btm_next_2?ie=UTF8&reviewerType=all_reviews&pageNumber=779\n",
      "INFO:root:https://www.amazon.com/Fire-HD-8-Plus-tablet/product-reviews/B0839NDRB2/ref=cm_cr_arp_d_paging_btm_next_2?ie=UTF8&reviewerType=all_reviews&pageNumber=780\n",
      "INFO:root:https://www.amazon.com/Fire-HD-8-Plus-tablet/product-reviews/B0839NDRB2/ref=cm_cr_arp_d_paging_btm_next_2?ie=UTF8&reviewerType=all_reviews&pageNumber=781\n",
      "INFO:root:https://www.amazon.com/Fire-HD-8-Plus-tablet/product-reviews/B0839NDRB2/ref=cm_cr_arp_d_paging_btm_next_2?ie=UTF8&reviewerType=all_reviews&pageNumber=782\n",
      "INFO:root:https://www.amazon.com/Fire-HD-8-Plus-tablet/product-reviews/B0839NDRB2/ref=cm_cr_arp_d_paging_btm_next_2?ie=UTF8&reviewerType=all_reviews&pageNumber=783\n",
      "INFO:root:https://www.amazon.com/Fire-HD-8-Plus-tablet/product-reviews/B0839NDRB2/ref=cm_cr_arp_d_paging_btm_next_2?ie=UTF8&reviewerType=all_reviews&pageNumber=784\n",
      "INFO:root:https://www.amazon.com/Fire-HD-8-Plus-tablet/product-reviews/B0839NDRB2/ref=cm_cr_arp_d_paging_btm_next_2?ie=UTF8&reviewerType=all_reviews&pageNumber=785\n",
      "INFO:root:https://www.amazon.com/Fire-HD-8-Plus-tablet/product-reviews/B0839NDRB2/ref=cm_cr_arp_d_paging_btm_next_2?ie=UTF8&reviewerType=all_reviews&pageNumber=786\n",
      "INFO:root:https://www.amazon.com/Fire-HD-8-Plus-tablet/product-reviews/B0839NDRB2/ref=cm_cr_arp_d_paging_btm_next_2?ie=UTF8&reviewerType=all_reviews&pageNumber=787\n",
      "INFO:root:https://www.amazon.com/Fire-HD-8-Plus-tablet/product-reviews/B0839NDRB2/ref=cm_cr_arp_d_paging_btm_next_2?ie=UTF8&reviewerType=all_reviews&pageNumber=788\n",
      "INFO:root:https://www.amazon.com/Fire-HD-8-Plus-tablet/product-reviews/B0839NDRB2/ref=cm_cr_arp_d_paging_btm_next_2?ie=UTF8&reviewerType=all_reviews&pageNumber=789\n",
      "INFO:root:https://www.amazon.com/Fire-HD-8-Plus-tablet/product-reviews/B0839NDRB2/ref=cm_cr_arp_d_paging_btm_next_2?ie=UTF8&reviewerType=all_reviews&pageNumber=790\n",
      "INFO:root:https://www.amazon.com/Fire-HD-8-Plus-tablet/product-reviews/B0839NDRB2/ref=cm_cr_arp_d_paging_btm_next_2?ie=UTF8&reviewerType=all_reviews&pageNumber=791\n",
      "INFO:root:https://www.amazon.com/Fire-HD-8-Plus-tablet/product-reviews/B0839NDRB2/ref=cm_cr_arp_d_paging_btm_next_2?ie=UTF8&reviewerType=all_reviews&pageNumber=792\n",
      "INFO:root:https://www.amazon.com/Fire-HD-8-Plus-tablet/product-reviews/B0839NDRB2/ref=cm_cr_arp_d_paging_btm_next_2?ie=UTF8&reviewerType=all_reviews&pageNumber=793\n",
      "INFO:root:https://www.amazon.com/Fire-HD-8-Plus-tablet/product-reviews/B0839NDRB2/ref=cm_cr_arp_d_paging_btm_next_2?ie=UTF8&reviewerType=all_reviews&pageNumber=794\n",
      "INFO:root:https://www.amazon.com/Fire-HD-8-Plus-tablet/product-reviews/B0839NDRB2/ref=cm_cr_arp_d_paging_btm_next_2?ie=UTF8&reviewerType=all_reviews&pageNumber=795\n",
      "INFO:root:https://www.amazon.com/Fire-HD-8-Plus-tablet/product-reviews/B0839NDRB2/ref=cm_cr_arp_d_paging_btm_next_2?ie=UTF8&reviewerType=all_reviews&pageNumber=796\n",
      "INFO:root:https://www.amazon.com/Fire-HD-8-Plus-tablet/product-reviews/B0839NDRB2/ref=cm_cr_arp_d_paging_btm_next_2?ie=UTF8&reviewerType=all_reviews&pageNumber=797\n",
      "INFO:root:https://www.amazon.com/Fire-HD-8-Plus-tablet/product-reviews/B0839NDRB2/ref=cm_cr_arp_d_paging_btm_next_2?ie=UTF8&reviewerType=all_reviews&pageNumber=798\n",
      "INFO:root:https://www.amazon.com/Fire-HD-8-Plus-tablet/product-reviews/B0839NDRB2/ref=cm_cr_arp_d_paging_btm_next_2?ie=UTF8&reviewerType=all_reviews&pageNumber=799\n",
      "INFO:root:https://www.amazon.com/Fire-HD-8-Plus-tablet/product-reviews/B0839NDRB2/ref=cm_cr_arp_d_paging_btm_next_2?ie=UTF8&reviewerType=all_reviews&pageNumber=800\n",
      "INFO:root:https://www.amazon.com/Fire-HD-8-Plus-tablet/product-reviews/B0839NDRB2/ref=cm_cr_arp_d_paging_btm_next_2?ie=UTF8&reviewerType=all_reviews&pageNumber=801\n"
     ]
    },
    {
     "name": "stderr",
     "output_type": "stream",
     "text": [
      "INFO:root:https://www.amazon.com/Fire-HD-8-Plus-tablet/product-reviews/B0839NDRB2/ref=cm_cr_arp_d_paging_btm_next_2?ie=UTF8&reviewerType=all_reviews&pageNumber=802\n",
      "INFO:root:https://www.amazon.com/Fire-HD-8-Plus-tablet/product-reviews/B0839NDRB2/ref=cm_cr_arp_d_paging_btm_next_2?ie=UTF8&reviewerType=all_reviews&pageNumber=803\n",
      "INFO:root:https://www.amazon.com/Fire-HD-8-Plus-tablet/product-reviews/B0839NDRB2/ref=cm_cr_arp_d_paging_btm_next_2?ie=UTF8&reviewerType=all_reviews&pageNumber=804\n",
      "INFO:root:https://www.amazon.com/Fire-HD-8-Plus-tablet/product-reviews/B0839NDRB2/ref=cm_cr_arp_d_paging_btm_next_2?ie=UTF8&reviewerType=all_reviews&pageNumber=805\n",
      "INFO:root:https://www.amazon.com/Fire-HD-8-Plus-tablet/product-reviews/B0839NDRB2/ref=cm_cr_arp_d_paging_btm_next_2?ie=UTF8&reviewerType=all_reviews&pageNumber=806\n",
      "INFO:root:https://www.amazon.com/Fire-HD-8-Plus-tablet/product-reviews/B0839NDRB2/ref=cm_cr_arp_d_paging_btm_next_2?ie=UTF8&reviewerType=all_reviews&pageNumber=807\n",
      "INFO:root:https://www.amazon.com/Fire-HD-8-Plus-tablet/product-reviews/B0839NDRB2/ref=cm_cr_arp_d_paging_btm_next_2?ie=UTF8&reviewerType=all_reviews&pageNumber=808\n",
      "INFO:root:https://www.amazon.com/Fire-HD-8-Plus-tablet/product-reviews/B0839NDRB2/ref=cm_cr_arp_d_paging_btm_next_2?ie=UTF8&reviewerType=all_reviews&pageNumber=809\n",
      "INFO:root:https://www.amazon.com/Fire-HD-8-Plus-tablet/product-reviews/B0839NDRB2/ref=cm_cr_arp_d_paging_btm_next_2?ie=UTF8&reviewerType=all_reviews&pageNumber=810\n",
      "INFO:root:https://www.amazon.com/Fire-HD-8-Plus-tablet/product-reviews/B0839NDRB2/ref=cm_cr_arp_d_paging_btm_next_2?ie=UTF8&reviewerType=all_reviews&pageNumber=811\n",
      "INFO:root:https://www.amazon.com/Fire-HD-8-Plus-tablet/product-reviews/B0839NDRB2/ref=cm_cr_arp_d_paging_btm_next_2?ie=UTF8&reviewerType=all_reviews&pageNumber=812\n",
      "INFO:root:https://www.amazon.com/Fire-HD-8-Plus-tablet/product-reviews/B0839NDRB2/ref=cm_cr_arp_d_paging_btm_next_2?ie=UTF8&reviewerType=all_reviews&pageNumber=813\n",
      "INFO:root:https://www.amazon.com/Fire-HD-8-Plus-tablet/product-reviews/B0839NDRB2/ref=cm_cr_arp_d_paging_btm_next_2?ie=UTF8&reviewerType=all_reviews&pageNumber=814\n",
      "INFO:root:https://www.amazon.com/Fire-HD-8-Plus-tablet/product-reviews/B0839NDRB2/ref=cm_cr_arp_d_paging_btm_next_2?ie=UTF8&reviewerType=all_reviews&pageNumber=815\n",
      "INFO:root:https://www.amazon.com/Fire-HD-8-Plus-tablet/product-reviews/B0839NDRB2/ref=cm_cr_arp_d_paging_btm_next_2?ie=UTF8&reviewerType=all_reviews&pageNumber=816\n",
      "INFO:root:https://www.amazon.com/Fire-HD-8-Plus-tablet/product-reviews/B0839NDRB2/ref=cm_cr_arp_d_paging_btm_next_2?ie=UTF8&reviewerType=all_reviews&pageNumber=817\n",
      "INFO:root:https://www.amazon.com/Fire-HD-8-Plus-tablet/product-reviews/B0839NDRB2/ref=cm_cr_arp_d_paging_btm_next_2?ie=UTF8&reviewerType=all_reviews&pageNumber=818\n",
      "INFO:root:https://www.amazon.com/Fire-HD-8-Plus-tablet/product-reviews/B0839NDRB2/ref=cm_cr_arp_d_paging_btm_next_2?ie=UTF8&reviewerType=all_reviews&pageNumber=819\n",
      "INFO:root:https://www.amazon.com/Fire-HD-8-Plus-tablet/product-reviews/B0839NDRB2/ref=cm_cr_arp_d_paging_btm_next_2?ie=UTF8&reviewerType=all_reviews&pageNumber=820\n",
      "INFO:root:https://www.amazon.com/Fire-HD-8-Plus-tablet/product-reviews/B0839NDRB2/ref=cm_cr_arp_d_paging_btm_next_2?ie=UTF8&reviewerType=all_reviews&pageNumber=821\n",
      "INFO:root:https://www.amazon.com/Fire-HD-8-Plus-tablet/product-reviews/B0839NDRB2/ref=cm_cr_arp_d_paging_btm_next_2?ie=UTF8&reviewerType=all_reviews&pageNumber=822\n",
      "INFO:root:https://www.amazon.com/Fire-HD-8-Plus-tablet/product-reviews/B0839NDRB2/ref=cm_cr_arp_d_paging_btm_next_2?ie=UTF8&reviewerType=all_reviews&pageNumber=823\n",
      "INFO:root:https://www.amazon.com/Fire-HD-8-Plus-tablet/product-reviews/B0839NDRB2/ref=cm_cr_arp_d_paging_btm_next_2?ie=UTF8&reviewerType=all_reviews&pageNumber=824\n",
      "INFO:root:https://www.amazon.com/Fire-HD-8-Plus-tablet/product-reviews/B0839NDRB2/ref=cm_cr_arp_d_paging_btm_next_2?ie=UTF8&reviewerType=all_reviews&pageNumber=825\n",
      "INFO:root:https://www.amazon.com/Fire-HD-8-Plus-tablet/product-reviews/B0839NDRB2/ref=cm_cr_arp_d_paging_btm_next_2?ie=UTF8&reviewerType=all_reviews&pageNumber=826\n",
      "INFO:root:https://www.amazon.com/Fire-HD-8-Plus-tablet/product-reviews/B0839NDRB2/ref=cm_cr_arp_d_paging_btm_next_2?ie=UTF8&reviewerType=all_reviews&pageNumber=827\n",
      "INFO:root:https://www.amazon.com/Fire-HD-8-Plus-tablet/product-reviews/B0839NDRB2/ref=cm_cr_arp_d_paging_btm_next_2?ie=UTF8&reviewerType=all_reviews&pageNumber=828\n",
      "INFO:root:https://www.amazon.com/Fire-HD-8-Plus-tablet/product-reviews/B0839NDRB2/ref=cm_cr_arp_d_paging_btm_next_2?ie=UTF8&reviewerType=all_reviews&pageNumber=829\n",
      "INFO:root:https://www.amazon.com/Fire-HD-8-Plus-tablet/product-reviews/B0839NDRB2/ref=cm_cr_arp_d_paging_btm_next_2?ie=UTF8&reviewerType=all_reviews&pageNumber=830\n",
      "INFO:root:https://www.amazon.com/Fire-HD-8-Plus-tablet/product-reviews/B0839NDRB2/ref=cm_cr_arp_d_paging_btm_next_2?ie=UTF8&reviewerType=all_reviews&pageNumber=831\n",
      "INFO:root:https://www.amazon.com/Fire-HD-8-Plus-tablet/product-reviews/B0839NDRB2/ref=cm_cr_arp_d_paging_btm_next_2?ie=UTF8&reviewerType=all_reviews&pageNumber=832\n",
      "INFO:root:https://www.amazon.com/Fire-HD-8-Plus-tablet/product-reviews/B0839NDRB2/ref=cm_cr_arp_d_paging_btm_next_2?ie=UTF8&reviewerType=all_reviews&pageNumber=833\n",
      "INFO:root:https://www.amazon.com/Fire-HD-8-Plus-tablet/product-reviews/B0839NDRB2/ref=cm_cr_arp_d_paging_btm_next_2?ie=UTF8&reviewerType=all_reviews&pageNumber=834\n",
      "INFO:root:https://www.amazon.com/Fire-HD-8-Plus-tablet/product-reviews/B0839NDRB2/ref=cm_cr_arp_d_paging_btm_next_2?ie=UTF8&reviewerType=all_reviews&pageNumber=835\n",
      "INFO:root:https://www.amazon.com/Fire-HD-8-Plus-tablet/product-reviews/B0839NDRB2/ref=cm_cr_arp_d_paging_btm_next_2?ie=UTF8&reviewerType=all_reviews&pageNumber=836\n",
      "INFO:root:https://www.amazon.com/Fire-HD-8-Plus-tablet/product-reviews/B0839NDRB2/ref=cm_cr_arp_d_paging_btm_next_2?ie=UTF8&reviewerType=all_reviews&pageNumber=837\n",
      "INFO:root:https://www.amazon.com/Fire-HD-8-Plus-tablet/product-reviews/B0839NDRB2/ref=cm_cr_arp_d_paging_btm_next_2?ie=UTF8&reviewerType=all_reviews&pageNumber=838\n",
      "INFO:root:https://www.amazon.com/Fire-HD-8-Plus-tablet/product-reviews/B0839NDRB2/ref=cm_cr_arp_d_paging_btm_next_2?ie=UTF8&reviewerType=all_reviews&pageNumber=839\n",
      "INFO:root:https://www.amazon.com/Fire-HD-8-Plus-tablet/product-reviews/B0839NDRB2/ref=cm_cr_arp_d_paging_btm_next_2?ie=UTF8&reviewerType=all_reviews&pageNumber=840\n",
      "INFO:root:https://www.amazon.com/Fire-HD-8-Plus-tablet/product-reviews/B0839NDRB2/ref=cm_cr_arp_d_paging_btm_next_2?ie=UTF8&reviewerType=all_reviews&pageNumber=841\n",
      "INFO:root:https://www.amazon.com/Fire-HD-8-Plus-tablet/product-reviews/B0839NDRB2/ref=cm_cr_arp_d_paging_btm_next_2?ie=UTF8&reviewerType=all_reviews&pageNumber=842\n",
      "INFO:root:https://www.amazon.com/Fire-HD-8-Plus-tablet/product-reviews/B0839NDRB2/ref=cm_cr_arp_d_paging_btm_next_2?ie=UTF8&reviewerType=all_reviews&pageNumber=843\n",
      "INFO:root:https://www.amazon.com/Fire-HD-8-Plus-tablet/product-reviews/B0839NDRB2/ref=cm_cr_arp_d_paging_btm_next_2?ie=UTF8&reviewerType=all_reviews&pageNumber=844\n",
      "INFO:root:https://www.amazon.com/Fire-HD-8-Plus-tablet/product-reviews/B0839NDRB2/ref=cm_cr_arp_d_paging_btm_next_2?ie=UTF8&reviewerType=all_reviews&pageNumber=845\n",
      "INFO:root:https://www.amazon.com/Fire-HD-8-Plus-tablet/product-reviews/B0839NDRB2/ref=cm_cr_arp_d_paging_btm_next_2?ie=UTF8&reviewerType=all_reviews&pageNumber=846\n",
      "INFO:root:https://www.amazon.com/Fire-HD-8-Plus-tablet/product-reviews/B0839NDRB2/ref=cm_cr_arp_d_paging_btm_next_2?ie=UTF8&reviewerType=all_reviews&pageNumber=847\n",
      "INFO:root:https://www.amazon.com/Fire-HD-8-Plus-tablet/product-reviews/B0839NDRB2/ref=cm_cr_arp_d_paging_btm_next_2?ie=UTF8&reviewerType=all_reviews&pageNumber=848\n",
      "INFO:root:https://www.amazon.com/Fire-HD-8-Plus-tablet/product-reviews/B0839NDRB2/ref=cm_cr_arp_d_paging_btm_next_2?ie=UTF8&reviewerType=all_reviews&pageNumber=849\n",
      "INFO:root:https://www.amazon.com/Fire-HD-8-Plus-tablet/product-reviews/B0839NDRB2/ref=cm_cr_arp_d_paging_btm_next_2?ie=UTF8&reviewerType=all_reviews&pageNumber=850\n",
      "INFO:root:https://www.amazon.com/Fire-HD-8-Plus-tablet/product-reviews/B0839NDRB2/ref=cm_cr_arp_d_paging_btm_next_2?ie=UTF8&reviewerType=all_reviews&pageNumber=851\n"
     ]
    },
    {
     "name": "stderr",
     "output_type": "stream",
     "text": [
      "INFO:root:https://www.amazon.com/Fire-HD-8-Plus-tablet/product-reviews/B0839NDRB2/ref=cm_cr_arp_d_paging_btm_next_2?ie=UTF8&reviewerType=all_reviews&pageNumber=852\n",
      "INFO:root:https://www.amazon.com/Fire-HD-8-Plus-tablet/product-reviews/B0839NDRB2/ref=cm_cr_arp_d_paging_btm_next_2?ie=UTF8&reviewerType=all_reviews&pageNumber=853\n",
      "INFO:root:https://www.amazon.com/Fire-HD-8-Plus-tablet/product-reviews/B0839NDRB2/ref=cm_cr_arp_d_paging_btm_next_2?ie=UTF8&reviewerType=all_reviews&pageNumber=854\n",
      "INFO:root:https://www.amazon.com/Fire-HD-8-Plus-tablet/product-reviews/B0839NDRB2/ref=cm_cr_arp_d_paging_btm_next_2?ie=UTF8&reviewerType=all_reviews&pageNumber=855\n",
      "INFO:root:https://www.amazon.com/Fire-HD-8-Plus-tablet/product-reviews/B0839NDRB2/ref=cm_cr_arp_d_paging_btm_next_2?ie=UTF8&reviewerType=all_reviews&pageNumber=856\n",
      "INFO:root:https://www.amazon.com/Fire-HD-8-Plus-tablet/product-reviews/B0839NDRB2/ref=cm_cr_arp_d_paging_btm_next_2?ie=UTF8&reviewerType=all_reviews&pageNumber=857\n",
      "INFO:root:https://www.amazon.com/Fire-HD-8-Plus-tablet/product-reviews/B0839NDRB2/ref=cm_cr_arp_d_paging_btm_next_2?ie=UTF8&reviewerType=all_reviews&pageNumber=858\n",
      "INFO:root:https://www.amazon.com/Fire-HD-8-Plus-tablet/product-reviews/B0839NDRB2/ref=cm_cr_arp_d_paging_btm_next_2?ie=UTF8&reviewerType=all_reviews&pageNumber=859\n",
      "INFO:root:https://www.amazon.com/Fire-HD-8-Plus-tablet/product-reviews/B0839NDRB2/ref=cm_cr_arp_d_paging_btm_next_2?ie=UTF8&reviewerType=all_reviews&pageNumber=860\n",
      "INFO:root:https://www.amazon.com/Fire-HD-8-Plus-tablet/product-reviews/B0839NDRB2/ref=cm_cr_arp_d_paging_btm_next_2?ie=UTF8&reviewerType=all_reviews&pageNumber=861\n",
      "INFO:root:https://www.amazon.com/Fire-HD-8-Plus-tablet/product-reviews/B0839NDRB2/ref=cm_cr_arp_d_paging_btm_next_2?ie=UTF8&reviewerType=all_reviews&pageNumber=862\n",
      "INFO:root:https://www.amazon.com/Fire-HD-8-Plus-tablet/product-reviews/B0839NDRB2/ref=cm_cr_arp_d_paging_btm_next_2?ie=UTF8&reviewerType=all_reviews&pageNumber=863\n",
      "INFO:root:https://www.amazon.com/Fire-HD-8-Plus-tablet/product-reviews/B0839NDRB2/ref=cm_cr_arp_d_paging_btm_next_2?ie=UTF8&reviewerType=all_reviews&pageNumber=864\n",
      "INFO:root:https://www.amazon.com/Fire-HD-8-Plus-tablet/product-reviews/B0839NDRB2/ref=cm_cr_arp_d_paging_btm_next_2?ie=UTF8&reviewerType=all_reviews&pageNumber=865\n",
      "INFO:root:https://www.amazon.com/Fire-HD-8-Plus-tablet/product-reviews/B0839NDRB2/ref=cm_cr_arp_d_paging_btm_next_2?ie=UTF8&reviewerType=all_reviews&pageNumber=866\n",
      "INFO:root:https://www.amazon.com/Fire-HD-8-Plus-tablet/product-reviews/B0839NDRB2/ref=cm_cr_arp_d_paging_btm_next_2?ie=UTF8&reviewerType=all_reviews&pageNumber=867\n",
      "INFO:root:https://www.amazon.com/Fire-HD-8-Plus-tablet/product-reviews/B0839NDRB2/ref=cm_cr_arp_d_paging_btm_next_2?ie=UTF8&reviewerType=all_reviews&pageNumber=868\n",
      "INFO:root:https://www.amazon.com/Fire-HD-8-Plus-tablet/product-reviews/B0839NDRB2/ref=cm_cr_arp_d_paging_btm_next_2?ie=UTF8&reviewerType=all_reviews&pageNumber=869\n",
      "INFO:root:https://www.amazon.com/Fire-HD-8-Plus-tablet/product-reviews/B0839NDRB2/ref=cm_cr_arp_d_paging_btm_next_2?ie=UTF8&reviewerType=all_reviews&pageNumber=870\n",
      "INFO:root:https://www.amazon.com/Fire-HD-8-Plus-tablet/product-reviews/B0839NDRB2/ref=cm_cr_arp_d_paging_btm_next_2?ie=UTF8&reviewerType=all_reviews&pageNumber=871\n",
      "INFO:root:https://www.amazon.com/Fire-HD-8-Plus-tablet/product-reviews/B0839NDRB2/ref=cm_cr_arp_d_paging_btm_next_2?ie=UTF8&reviewerType=all_reviews&pageNumber=872\n",
      "INFO:root:https://www.amazon.com/Fire-HD-8-Plus-tablet/product-reviews/B0839NDRB2/ref=cm_cr_arp_d_paging_btm_next_2?ie=UTF8&reviewerType=all_reviews&pageNumber=873\n",
      "INFO:root:https://www.amazon.com/Fire-HD-8-Plus-tablet/product-reviews/B0839NDRB2/ref=cm_cr_arp_d_paging_btm_next_2?ie=UTF8&reviewerType=all_reviews&pageNumber=874\n",
      "INFO:root:https://www.amazon.com/Fire-HD-8-Plus-tablet/product-reviews/B0839NDRB2/ref=cm_cr_arp_d_paging_btm_next_2?ie=UTF8&reviewerType=all_reviews&pageNumber=875\n",
      "INFO:root:https://www.amazon.com/Fire-HD-8-Plus-tablet/product-reviews/B0839NDRB2/ref=cm_cr_arp_d_paging_btm_next_2?ie=UTF8&reviewerType=all_reviews&pageNumber=876\n",
      "INFO:root:https://www.amazon.com/Fire-HD-8-Plus-tablet/product-reviews/B0839NDRB2/ref=cm_cr_arp_d_paging_btm_next_2?ie=UTF8&reviewerType=all_reviews&pageNumber=877\n",
      "INFO:root:https://www.amazon.com/Fire-HD-8-Plus-tablet/product-reviews/B0839NDRB2/ref=cm_cr_arp_d_paging_btm_next_2?ie=UTF8&reviewerType=all_reviews&pageNumber=878\n",
      "INFO:root:https://www.amazon.com/Fire-HD-8-Plus-tablet/product-reviews/B0839NDRB2/ref=cm_cr_arp_d_paging_btm_next_2?ie=UTF8&reviewerType=all_reviews&pageNumber=879\n",
      "INFO:root:https://www.amazon.com/Fire-HD-8-Plus-tablet/product-reviews/B0839NDRB2/ref=cm_cr_arp_d_paging_btm_next_2?ie=UTF8&reviewerType=all_reviews&pageNumber=880\n",
      "INFO:root:https://www.amazon.com/Fire-HD-8-Plus-tablet/product-reviews/B0839NDRB2/ref=cm_cr_arp_d_paging_btm_next_2?ie=UTF8&reviewerType=all_reviews&pageNumber=881\n",
      "INFO:root:https://www.amazon.com/Fire-HD-8-Plus-tablet/product-reviews/B0839NDRB2/ref=cm_cr_arp_d_paging_btm_next_2?ie=UTF8&reviewerType=all_reviews&pageNumber=882\n",
      "INFO:root:https://www.amazon.com/Fire-HD-8-Plus-tablet/product-reviews/B0839NDRB2/ref=cm_cr_arp_d_paging_btm_next_2?ie=UTF8&reviewerType=all_reviews&pageNumber=883\n",
      "INFO:root:https://www.amazon.com/Fire-HD-8-Plus-tablet/product-reviews/B0839NDRB2/ref=cm_cr_arp_d_paging_btm_next_2?ie=UTF8&reviewerType=all_reviews&pageNumber=884\n",
      "INFO:root:https://www.amazon.com/Fire-HD-8-Plus-tablet/product-reviews/B0839NDRB2/ref=cm_cr_arp_d_paging_btm_next_2?ie=UTF8&reviewerType=all_reviews&pageNumber=885\n",
      "INFO:root:https://www.amazon.com/Fire-HD-8-Plus-tablet/product-reviews/B0839NDRB2/ref=cm_cr_arp_d_paging_btm_next_2?ie=UTF8&reviewerType=all_reviews&pageNumber=886\n",
      "INFO:root:https://www.amazon.com/Fire-HD-8-Plus-tablet/product-reviews/B0839NDRB2/ref=cm_cr_arp_d_paging_btm_next_2?ie=UTF8&reviewerType=all_reviews&pageNumber=887\n",
      "INFO:root:https://www.amazon.com/Fire-HD-8-Plus-tablet/product-reviews/B0839NDRB2/ref=cm_cr_arp_d_paging_btm_next_2?ie=UTF8&reviewerType=all_reviews&pageNumber=888\n",
      "INFO:root:https://www.amazon.com/Fire-HD-8-Plus-tablet/product-reviews/B0839NDRB2/ref=cm_cr_arp_d_paging_btm_next_2?ie=UTF8&reviewerType=all_reviews&pageNumber=889\n",
      "INFO:root:https://www.amazon.com/Fire-HD-8-Plus-tablet/product-reviews/B0839NDRB2/ref=cm_cr_arp_d_paging_btm_next_2?ie=UTF8&reviewerType=all_reviews&pageNumber=890\n",
      "INFO:root:https://www.amazon.com/Fire-HD-8-Plus-tablet/product-reviews/B0839NDRB2/ref=cm_cr_arp_d_paging_btm_next_2?ie=UTF8&reviewerType=all_reviews&pageNumber=891\n",
      "INFO:root:https://www.amazon.com/Fire-HD-8-Plus-tablet/product-reviews/B0839NDRB2/ref=cm_cr_arp_d_paging_btm_next_2?ie=UTF8&reviewerType=all_reviews&pageNumber=892\n",
      "INFO:root:https://www.amazon.com/Fire-HD-8-Plus-tablet/product-reviews/B0839NDRB2/ref=cm_cr_arp_d_paging_btm_next_2?ie=UTF8&reviewerType=all_reviews&pageNumber=893\n",
      "INFO:root:https://www.amazon.com/Fire-HD-8-Plus-tablet/product-reviews/B0839NDRB2/ref=cm_cr_arp_d_paging_btm_next_2?ie=UTF8&reviewerType=all_reviews&pageNumber=894\n",
      "INFO:root:https://www.amazon.com/Fire-HD-8-Plus-tablet/product-reviews/B0839NDRB2/ref=cm_cr_arp_d_paging_btm_next_2?ie=UTF8&reviewerType=all_reviews&pageNumber=895\n",
      "INFO:root:https://www.amazon.com/Fire-HD-8-Plus-tablet/product-reviews/B0839NDRB2/ref=cm_cr_arp_d_paging_btm_next_2?ie=UTF8&reviewerType=all_reviews&pageNumber=896\n",
      "INFO:root:https://www.amazon.com/Fire-HD-8-Plus-tablet/product-reviews/B0839NDRB2/ref=cm_cr_arp_d_paging_btm_next_2?ie=UTF8&reviewerType=all_reviews&pageNumber=897\n",
      "INFO:root:https://www.amazon.com/Fire-HD-8-Plus-tablet/product-reviews/B0839NDRB2/ref=cm_cr_arp_d_paging_btm_next_2?ie=UTF8&reviewerType=all_reviews&pageNumber=898\n",
      "INFO:root:https://www.amazon.com/Fire-HD-8-Plus-tablet/product-reviews/B0839NDRB2/ref=cm_cr_arp_d_paging_btm_next_2?ie=UTF8&reviewerType=all_reviews&pageNumber=899\n",
      "INFO:root:https://www.amazon.com/Fire-HD-8-Plus-tablet/product-reviews/B0839NDRB2/ref=cm_cr_arp_d_paging_btm_next_2?ie=UTF8&reviewerType=all_reviews&pageNumber=900\n",
      "INFO:root:https://www.amazon.com/Fire-HD-8-Plus-tablet/product-reviews/B0839NDRB2/ref=cm_cr_arp_d_paging_btm_next_2?ie=UTF8&reviewerType=all_reviews&pageNumber=901\n"
     ]
    },
    {
     "name": "stderr",
     "output_type": "stream",
     "text": [
      "INFO:root:https://www.amazon.com/Fire-HD-8-Plus-tablet/product-reviews/B0839NDRB2/ref=cm_cr_arp_d_paging_btm_next_2?ie=UTF8&reviewerType=all_reviews&pageNumber=902\n",
      "INFO:root:https://www.amazon.com/Fire-HD-8-Plus-tablet/product-reviews/B0839NDRB2/ref=cm_cr_arp_d_paging_btm_next_2?ie=UTF8&reviewerType=all_reviews&pageNumber=903\n",
      "INFO:root:https://www.amazon.com/Fire-HD-8-Plus-tablet/product-reviews/B0839NDRB2/ref=cm_cr_arp_d_paging_btm_next_2?ie=UTF8&reviewerType=all_reviews&pageNumber=904\n",
      "INFO:root:https://www.amazon.com/Fire-HD-8-Plus-tablet/product-reviews/B0839NDRB2/ref=cm_cr_arp_d_paging_btm_next_2?ie=UTF8&reviewerType=all_reviews&pageNumber=905\n",
      "INFO:root:https://www.amazon.com/Fire-HD-8-Plus-tablet/product-reviews/B0839NDRB2/ref=cm_cr_arp_d_paging_btm_next_2?ie=UTF8&reviewerType=all_reviews&pageNumber=906\n",
      "INFO:root:https://www.amazon.com/Fire-HD-8-Plus-tablet/product-reviews/B0839NDRB2/ref=cm_cr_arp_d_paging_btm_next_2?ie=UTF8&reviewerType=all_reviews&pageNumber=907\n",
      "INFO:root:https://www.amazon.com/Fire-HD-8-Plus-tablet/product-reviews/B0839NDRB2/ref=cm_cr_arp_d_paging_btm_next_2?ie=UTF8&reviewerType=all_reviews&pageNumber=908\n",
      "INFO:root:https://www.amazon.com/Fire-HD-8-Plus-tablet/product-reviews/B0839NDRB2/ref=cm_cr_arp_d_paging_btm_next_2?ie=UTF8&reviewerType=all_reviews&pageNumber=909\n",
      "INFO:root:https://www.amazon.com/Fire-HD-8-Plus-tablet/product-reviews/B0839NDRB2/ref=cm_cr_arp_d_paging_btm_next_2?ie=UTF8&reviewerType=all_reviews&pageNumber=910\n",
      "INFO:root:https://www.amazon.com/Fire-HD-8-Plus-tablet/product-reviews/B0839NDRB2/ref=cm_cr_arp_d_paging_btm_next_2?ie=UTF8&reviewerType=all_reviews&pageNumber=911\n",
      "INFO:root:https://www.amazon.com/Fire-HD-8-Plus-tablet/product-reviews/B0839NDRB2/ref=cm_cr_arp_d_paging_btm_next_2?ie=UTF8&reviewerType=all_reviews&pageNumber=912\n",
      "INFO:root:https://www.amazon.com/Fire-HD-8-Plus-tablet/product-reviews/B0839NDRB2/ref=cm_cr_arp_d_paging_btm_next_2?ie=UTF8&reviewerType=all_reviews&pageNumber=913\n",
      "INFO:root:https://www.amazon.com/Fire-HD-8-Plus-tablet/product-reviews/B0839NDRB2/ref=cm_cr_arp_d_paging_btm_next_2?ie=UTF8&reviewerType=all_reviews&pageNumber=914\n",
      "INFO:root:https://www.amazon.com/Fire-HD-8-Plus-tablet/product-reviews/B0839NDRB2/ref=cm_cr_arp_d_paging_btm_next_2?ie=UTF8&reviewerType=all_reviews&pageNumber=915\n",
      "INFO:root:https://www.amazon.com/Fire-HD-8-Plus-tablet/product-reviews/B0839NDRB2/ref=cm_cr_arp_d_paging_btm_next_2?ie=UTF8&reviewerType=all_reviews&pageNumber=916\n",
      "INFO:root:https://www.amazon.com/Fire-HD-8-Plus-tablet/product-reviews/B0839NDRB2/ref=cm_cr_arp_d_paging_btm_next_2?ie=UTF8&reviewerType=all_reviews&pageNumber=917\n",
      "INFO:root:https://www.amazon.com/Fire-HD-8-Plus-tablet/product-reviews/B0839NDRB2/ref=cm_cr_arp_d_paging_btm_next_2?ie=UTF8&reviewerType=all_reviews&pageNumber=918\n",
      "INFO:root:https://www.amazon.com/Fire-HD-8-Plus-tablet/product-reviews/B0839NDRB2/ref=cm_cr_arp_d_paging_btm_next_2?ie=UTF8&reviewerType=all_reviews&pageNumber=919\n",
      "INFO:root:https://www.amazon.com/Fire-HD-8-Plus-tablet/product-reviews/B0839NDRB2/ref=cm_cr_arp_d_paging_btm_next_2?ie=UTF8&reviewerType=all_reviews&pageNumber=920\n",
      "INFO:root:https://www.amazon.com/Fire-HD-8-Plus-tablet/product-reviews/B0839NDRB2/ref=cm_cr_arp_d_paging_btm_next_2?ie=UTF8&reviewerType=all_reviews&pageNumber=921\n",
      "INFO:root:https://www.amazon.com/Fire-HD-8-Plus-tablet/product-reviews/B0839NDRB2/ref=cm_cr_arp_d_paging_btm_next_2?ie=UTF8&reviewerType=all_reviews&pageNumber=922\n",
      "INFO:root:https://www.amazon.com/Fire-HD-8-Plus-tablet/product-reviews/B0839NDRB2/ref=cm_cr_arp_d_paging_btm_next_2?ie=UTF8&reviewerType=all_reviews&pageNumber=923\n",
      "INFO:root:https://www.amazon.com/Fire-HD-8-Plus-tablet/product-reviews/B0839NDRB2/ref=cm_cr_arp_d_paging_btm_next_2?ie=UTF8&reviewerType=all_reviews&pageNumber=924\n",
      "INFO:root:https://www.amazon.com/Fire-HD-8-Plus-tablet/product-reviews/B0839NDRB2/ref=cm_cr_arp_d_paging_btm_next_2?ie=UTF8&reviewerType=all_reviews&pageNumber=925\n",
      "INFO:root:https://www.amazon.com/Fire-HD-8-Plus-tablet/product-reviews/B0839NDRB2/ref=cm_cr_arp_d_paging_btm_next_2?ie=UTF8&reviewerType=all_reviews&pageNumber=926\n",
      "INFO:root:https://www.amazon.com/Fire-HD-8-Plus-tablet/product-reviews/B0839NDRB2/ref=cm_cr_arp_d_paging_btm_next_2?ie=UTF8&reviewerType=all_reviews&pageNumber=927\n",
      "INFO:root:https://www.amazon.com/Fire-HD-8-Plus-tablet/product-reviews/B0839NDRB2/ref=cm_cr_arp_d_paging_btm_next_2?ie=UTF8&reviewerType=all_reviews&pageNumber=928\n",
      "INFO:root:https://www.amazon.com/Fire-HD-8-Plus-tablet/product-reviews/B0839NDRB2/ref=cm_cr_arp_d_paging_btm_next_2?ie=UTF8&reviewerType=all_reviews&pageNumber=929\n",
      "INFO:root:saving to 2023-01-08-01.csv\n",
      "INFO:root:Done yayy\n"
     ]
    }
   ],
   "source": [
    "#### Scraping reviews amazon tablet products\n",
    "import os\n",
    "import xml\n",
    "from bs4 import BeautifulSoup\n",
    "import pandas as  pd\n",
    "import os\n",
    "import xml\n",
    "import requests\n",
    "from datetime import datetime\n",
    "import logging\n",
    "import lxml\n",
    "\n",
    "headers = {\n",
    "    \"authority\": \"www.amazon.com\",\n",
    "    \"pragma\": \"no-cache\",\n",
    "    \"cache-control\": \"no-cache\",\n",
    "    \"dnt\": \"1\",\n",
    "    \"upgrade-insecure-requests\": \"1\",\n",
    "    \"user-agent\": \"Mozilla/5.0 (X11; CrOS x86_64 8172.45.0) AppleWebKit/537.36 (KHTML, like Gecko) Chrome/51.0.2704.64 Safari/537.36\",\n",
    "    \"accept\": \"text/html,application/xhtml+xml,application/xml;q=0.9,image/webp,image/apng,*/*;q=0.8,application/signed-exchange;v=b3;q=0.9\",\n",
    "    \"sec-fetch-site\": \"none\",\n",
    "    \"sec-fetch-mode\": \"navigate\",\n",
    "    \"sec-fetch-dest\": \"document\",\n",
    "    \"accept-language\": \"en-GB,en-US;q=0.9,en;q=0.8\",\n",
    "}\n",
    "ls_out = []\n",
    "for i in range(0,930):\n",
    "    URLS = [f\"https://www.amazon.com/Fire-HD-8-Plus-tablet/product-reviews/B0839NDRB2/ref=cm_cr_arp_d_paging_btm_next_2?ie=UTF8&reviewerType=all_reviews&pageNumber={i}\"]\n",
    "\n",
    "\n",
    "    def get_page_html(page_url: str) -> str:\n",
    "        resp = requests.get(page_url, headers=headers)\n",
    "        return resp.text\n",
    "\n",
    "\n",
    "    def get_reviews_from_html(page_html: str) -> BeautifulSoup:\n",
    "        soup = BeautifulSoup(page_html, \"lxml\")\n",
    "        reviews = soup.find_all(\"div\", {\"class\": \"a-section celwidget\"})\n",
    "        return reviews\n",
    "\n",
    "\n",
    "    def get_review_date(soup_object: BeautifulSoup):\n",
    "        date_string = soup_object.find(\"span\", {\"class\": \"review-date\"}).get_text()\n",
    "        return date_string\n",
    "\n",
    "\n",
    "    def get_review_text(soup_object: BeautifulSoup) -> str:\n",
    "        review_text = soup_object.find(\n",
    "            \"span\", {\"class\": \"a-size-base review-text review-text-content\"}\n",
    "        ).get_text()\n",
    "        return review_text.strip()\n",
    "\n",
    "\n",
    "    def get_review_header(soup_object: BeautifulSoup) -> str:\n",
    "        review_header = soup_object.find(\n",
    "            \"a\",\n",
    "            {\n",
    "                \"class\": \"a-size-base a-link-normal review-title a-color-base review-title-content a-text-bold\"\n",
    "            },\n",
    "        ).get_text()\n",
    "        return review_header.strip()\n",
    "\n",
    "\n",
    "    def get_number_stars(soup_object: BeautifulSoup) -> str:\n",
    "        stars = soup_object.find(\"span\", {\"class\": \"a-icon-alt\"}).get_text()\n",
    "        return stars.strip()\n",
    "\n",
    "\n",
    "    def get_product_name(soup_object: BeautifulSoup) -> str:\n",
    "        product = soup_object.find(\n",
    "            \"a\", {\"class\": \"a-size-mini a-link-normal a-color-secondary\"}\n",
    "        ).get_text()\n",
    "        return product.strip()\n",
    "\n",
    "\n",
    "    def orchestrate_data_gathering(single_review: BeautifulSoup) -> dict:\n",
    "        key=get_number_stars(single_review)\n",
    "        return {key: \" \".join([get_review_header(single_review), get_review_text(single_review)])}\n",
    "\n",
    "\n",
    "    if __name__ == '__main__':\n",
    "        logging.basicConfig(level=logging.INFO)\n",
    "        all_results = []\n",
    "\n",
    "        for u in URLS:\n",
    "            logging.info(u)\n",
    "            try:\n",
    "                html = get_page_html(u)\n",
    "                reviews = get_reviews_from_html(html)\n",
    "            except Exception as e:\n",
    "                pass\n",
    "            for rev in reviews:\n",
    "                data = orchestrate_data_gathering(rev)\n",
    "                all_results.append(data)\n",
    "        out = pd.DataFrame.from_records(all_results)\n",
    "        ls_out.append(out)\n",
    "df = pd.concat(ls_out)\n",
    "\n",
    "save_name = f\"{datetime.now().strftime('%Y-%m-%d-%m')}.csv\"\n",
    "logging.info(f\"saving to {save_name}\")\n",
    "df.to_csv(save_name)\n",
    "logging.info('Done yayy')\n"
   ]
  },
  {
   "cell_type": "code",
   "execution_count": 178,
   "id": "2a1ab002",
   "metadata": {},
   "outputs": [
    {
     "name": "stdout",
     "output_type": "stream",
     "text": [
      "(5010, 6)\n",
      "(5000, 6)\n",
      "(5000, 6)\n"
     ]
    }
   ],
   "source": [
    "data1=pd.read_csv('2023-01-08-01.csv')\n",
    "print(data1.shape)\n",
    "data2=pd.read_csv('2023-01-08-01_4.csv')\n",
    "print(data2.shape)\n",
    "\n",
    "data3=pd.read_csv('2023-01-08-01_2.csv')\n",
    "print(data2.shape)\n"
   ]
  },
  {
   "cell_type": "code",
   "execution_count": 225,
   "id": "00273081",
   "metadata": {},
   "outputs": [],
   "source": [
    "scraped=pd.concat([data1,data2,data3])"
   ]
  },
  {
   "cell_type": "code",
   "execution_count": 226,
   "id": "ae52b727",
   "metadata": {},
   "outputs": [],
   "source": [
    "scraped1=scraped['1.0 out of 5 stars'].dropna()"
   ]
  },
  {
   "cell_type": "code",
   "execution_count": 227,
   "id": "87c284ee",
   "metadata": {},
   "outputs": [],
   "source": [
    "scraped2=scraped['2.0 out of 5 stars'].dropna()"
   ]
  },
  {
   "cell_type": "code",
   "execution_count": 228,
   "id": "c8b1e471",
   "metadata": {},
   "outputs": [],
   "source": [
    "scraped=scraped1.append(scraped2)"
   ]
  },
  {
   "cell_type": "code",
   "execution_count": 229,
   "id": "35c38759",
   "metadata": {
    "scrolled": true
   },
   "outputs": [],
   "source": [
    "scraped=pd.DataFrame(scraped, columns=['reviews'])"
   ]
  },
  {
   "cell_type": "code",
   "execution_count": 231,
   "id": "58b3f11d",
   "metadata": {},
   "outputs": [
    {
     "data": {
      "text/plain": [
       "Index(['reviews', 'rating'], dtype='object')"
      ]
     },
     "execution_count": 231,
     "metadata": {},
     "output_type": "execute_result"
    }
   ],
   "source": [
    "scraped\n",
    "scraped[\"rating\"] = 0.0\n",
    "scraped.columns"
   ]
  },
  {
   "cell_type": "code",
   "execution_count": 232,
   "id": "a569a49b",
   "metadata": {},
   "outputs": [
    {
     "data": {
      "text/plain": [
       "<bound method DataFrame.info of                                                 reviews  rating\n",
       "127   Why do they keep downgrading these? My old HDX...     0.0\n",
       "184   Over priced Fills way outdated and app store v...     0.0\n",
       "192   Runs Super Slow Ok, last time I wrote a review...     0.0\n",
       "269   Don't waste your money I was in need of a new ...     0.0\n",
       "324   Device Dashboard drives me crazy! If it wasn't...     0.0\n",
       "...                                                 ...     ...\n",
       "4891  poor use instructions this is my third tablet ...     0.0\n",
       "4939  Meh Not impressed.  Should have spent the extr...     0.0\n",
       "4943  Ho hum. Not very responsive. I gave up my 10 y...     0.0\n",
       "4960  Trash For basic streaming of video content thi...     0.0\n",
       "4979  SLOW Everything is slow with this tablet from ...     0.0\n",
       "\n",
       "[1455 rows x 2 columns]>"
      ]
     },
     "execution_count": 232,
     "metadata": {},
     "output_type": "execute_result"
    }
   ],
   "source": [
    "scraped.info"
   ]
  },
  {
   "cell_type": "code",
   "execution_count": 233,
   "id": "e73cd2f3",
   "metadata": {},
   "outputs": [
    {
     "data": {
      "text/html": [
       "<div>\n",
       "<style scoped>\n",
       "    .dataframe tbody tr th:only-of-type {\n",
       "        vertical-align: middle;\n",
       "    }\n",
       "\n",
       "    .dataframe tbody tr th {\n",
       "        vertical-align: top;\n",
       "    }\n",
       "\n",
       "    .dataframe thead th {\n",
       "        text-align: right;\n",
       "    }\n",
       "</style>\n",
       "<table border=\"1\" class=\"dataframe\">\n",
       "  <thead>\n",
       "    <tr style=\"text-align: right;\">\n",
       "      <th></th>\n",
       "      <th>reviews</th>\n",
       "      <th>rating</th>\n",
       "    </tr>\n",
       "  </thead>\n",
       "  <tbody>\n",
       "    <tr>\n",
       "      <th>127</th>\n",
       "      <td>Why do they keep downgrading these? My old HDX...</td>\n",
       "      <td>0.0</td>\n",
       "    </tr>\n",
       "    <tr>\n",
       "      <th>184</th>\n",
       "      <td>Over priced Fills way outdated and app store v...</td>\n",
       "      <td>0.0</td>\n",
       "    </tr>\n",
       "    <tr>\n",
       "      <th>192</th>\n",
       "      <td>Runs Super Slow Ok, last time I wrote a review...</td>\n",
       "      <td>0.0</td>\n",
       "    </tr>\n",
       "    <tr>\n",
       "      <th>269</th>\n",
       "      <td>Don't waste your money I was in need of a new ...</td>\n",
       "      <td>0.0</td>\n",
       "    </tr>\n",
       "    <tr>\n",
       "      <th>324</th>\n",
       "      <td>Device Dashboard drives me crazy! If it wasn't...</td>\n",
       "      <td>0.0</td>\n",
       "    </tr>\n",
       "    <tr>\n",
       "      <th>...</th>\n",
       "      <td>...</td>\n",
       "      <td>...</td>\n",
       "    </tr>\n",
       "    <tr>\n",
       "      <th>4891</th>\n",
       "      <td>poor use instructions this is my third tablet ...</td>\n",
       "      <td>0.0</td>\n",
       "    </tr>\n",
       "    <tr>\n",
       "      <th>4939</th>\n",
       "      <td>Meh Not impressed.  Should have spent the extr...</td>\n",
       "      <td>0.0</td>\n",
       "    </tr>\n",
       "    <tr>\n",
       "      <th>4943</th>\n",
       "      <td>Ho hum. Not very responsive. I gave up my 10 y...</td>\n",
       "      <td>0.0</td>\n",
       "    </tr>\n",
       "    <tr>\n",
       "      <th>4960</th>\n",
       "      <td>Trash For basic streaming of video content thi...</td>\n",
       "      <td>0.0</td>\n",
       "    </tr>\n",
       "    <tr>\n",
       "      <th>4979</th>\n",
       "      <td>SLOW Everything is slow with this tablet from ...</td>\n",
       "      <td>0.0</td>\n",
       "    </tr>\n",
       "  </tbody>\n",
       "</table>\n",
       "<p>1455 rows × 2 columns</p>\n",
       "</div>"
      ],
      "text/plain": [
       "                                                reviews  rating\n",
       "127   Why do they keep downgrading these? My old HDX...     0.0\n",
       "184   Over priced Fills way outdated and app store v...     0.0\n",
       "192   Runs Super Slow Ok, last time I wrote a review...     0.0\n",
       "269   Don't waste your money I was in need of a new ...     0.0\n",
       "324   Device Dashboard drives me crazy! If it wasn't...     0.0\n",
       "...                                                 ...     ...\n",
       "4891  poor use instructions this is my third tablet ...     0.0\n",
       "4939  Meh Not impressed.  Should have spent the extr...     0.0\n",
       "4943  Ho hum. Not very responsive. I gave up my 10 y...     0.0\n",
       "4960  Trash For basic streaming of video content thi...     0.0\n",
       "4979  SLOW Everything is slow with this tablet from ...     0.0\n",
       "\n",
       "[1455 rows x 2 columns]"
      ]
     },
     "execution_count": 233,
     "metadata": {},
     "output_type": "execute_result"
    }
   ],
   "source": [
    "scraped"
   ]
  },
  {
   "cell_type": "markdown",
   "id": "252e9aae",
   "metadata": {},
   "source": [
    "# start combine data and handle imblance data"
   ]
  },
  {
   "cell_type": "code",
   "execution_count": 252,
   "id": "41b1ef7e",
   "metadata": {},
   "outputs": [],
   "source": [
    "df = pd.read_csv('../data/product_reviews/1429_2.csv', header=0)"
   ]
  },
  {
   "cell_type": "code",
   "execution_count": 253,
   "id": "91764f14",
   "metadata": {},
   "outputs": [
    {
     "data": {
      "text/html": [
       "<div>\n",
       "<style scoped>\n",
       "    .dataframe tbody tr th:only-of-type {\n",
       "        vertical-align: middle;\n",
       "    }\n",
       "\n",
       "    .dataframe tbody tr th {\n",
       "        vertical-align: top;\n",
       "    }\n",
       "\n",
       "    .dataframe thead th {\n",
       "        text-align: right;\n",
       "    }\n",
       "</style>\n",
       "<table border=\"1\" class=\"dataframe\">\n",
       "  <thead>\n",
       "    <tr style=\"text-align: right;\">\n",
       "      <th></th>\n",
       "      <th>reviews.rating</th>\n",
       "      <th>reviews.text</th>\n",
       "    </tr>\n",
       "  </thead>\n",
       "  <tbody>\n",
       "    <tr>\n",
       "      <th>0</th>\n",
       "      <td>5.0</td>\n",
       "      <td>This product so far has not disappointed. My c...</td>\n",
       "    </tr>\n",
       "    <tr>\n",
       "      <th>1</th>\n",
       "      <td>5.0</td>\n",
       "      <td>great for beginner or experienced person. Boug...</td>\n",
       "    </tr>\n",
       "    <tr>\n",
       "      <th>2</th>\n",
       "      <td>5.0</td>\n",
       "      <td>Inexpensive tablet for him to use and learn on...</td>\n",
       "    </tr>\n",
       "    <tr>\n",
       "      <th>3</th>\n",
       "      <td>4.0</td>\n",
       "      <td>I've had my Fire HD 8 two weeks now and I love...</td>\n",
       "    </tr>\n",
       "    <tr>\n",
       "      <th>4</th>\n",
       "      <td>5.0</td>\n",
       "      <td>I bought this for my grand daughter when she c...</td>\n",
       "    </tr>\n",
       "    <tr>\n",
       "      <th>...</th>\n",
       "      <td>...</td>\n",
       "      <td>...</td>\n",
       "    </tr>\n",
       "    <tr>\n",
       "      <th>34655</th>\n",
       "      <td>3.0</td>\n",
       "      <td>This is not appreciably faster than any other ...</td>\n",
       "    </tr>\n",
       "    <tr>\n",
       "      <th>34656</th>\n",
       "      <td>1.0</td>\n",
       "      <td>Amazon should include this charger with the Ki...</td>\n",
       "    </tr>\n",
       "    <tr>\n",
       "      <th>34657</th>\n",
       "      <td>1.0</td>\n",
       "      <td>Love my Kindle Fire but I am really disappoint...</td>\n",
       "    </tr>\n",
       "    <tr>\n",
       "      <th>34658</th>\n",
       "      <td>1.0</td>\n",
       "      <td>I was surprised to find it did not come with a...</td>\n",
       "    </tr>\n",
       "    <tr>\n",
       "      <th>34659</th>\n",
       "      <td>1.0</td>\n",
       "      <td>to spite the fact that i have nothing but good...</td>\n",
       "    </tr>\n",
       "  </tbody>\n",
       "</table>\n",
       "<p>34660 rows × 2 columns</p>\n",
       "</div>"
      ],
      "text/plain": [
       "       reviews.rating                                       reviews.text\n",
       "0                 5.0  This product so far has not disappointed. My c...\n",
       "1                 5.0  great for beginner or experienced person. Boug...\n",
       "2                 5.0  Inexpensive tablet for him to use and learn on...\n",
       "3                 4.0  I've had my Fire HD 8 two weeks now and I love...\n",
       "4                 5.0  I bought this for my grand daughter when she c...\n",
       "...               ...                                                ...\n",
       "34655             3.0  This is not appreciably faster than any other ...\n",
       "34656             1.0  Amazon should include this charger with the Ki...\n",
       "34657             1.0  Love my Kindle Fire but I am really disappoint...\n",
       "34658             1.0  I was surprised to find it did not come with a...\n",
       "34659             1.0  to spite the fact that i have nothing but good...\n",
       "\n",
       "[34660 rows x 2 columns]"
      ]
     },
     "execution_count": 253,
     "metadata": {},
     "output_type": "execute_result"
    }
   ],
   "source": [
    "df"
   ]
  },
  {
   "cell_type": "code",
   "execution_count": 254,
   "id": "82052cd2",
   "metadata": {},
   "outputs": [
    {
     "name": "stdout",
     "output_type": "stream",
     "text": [
      "<class 'pandas.core.frame.DataFrame'>\n",
      "RangeIndex: 34660 entries, 0 to 34659\n",
      "Data columns (total 2 columns):\n",
      " #   Column          Non-Null Count  Dtype  \n",
      "---  ------          --------------  -----  \n",
      " 0   reviews.rating  34627 non-null  float64\n",
      " 1   reviews.text    34659 non-null  object \n",
      "dtypes: float64(1), object(1)\n",
      "memory usage: 541.7+ KB\n"
     ]
    }
   ],
   "source": [
    "df.info()"
   ]
  },
  {
   "cell_type": "code",
   "execution_count": 255,
   "id": "b76e246e",
   "metadata": {},
   "outputs": [
    {
     "data": {
      "image/png": "[encoded data removed]",
      "text/plain": [
       "<Figure size 432x288 with 1 Axes>"
      ]
     },
     "metadata": {
      "needs_background": "light"
     },
     "output_type": "display_data"
    }
   ],
   "source": [
    "df['reviews.text'].isnull().sum()\n",
    "df.dropna(inplace=True)\n",
    "df.isnull().sum()\n",
    "df['reviews.rating'].value_counts()\n",
    "df = df.replace({1:0, 2:0,3:1,4:1,5:1})\n",
    "df['reviews.rating'].value_counts()\n",
    "import matplotlib.pyplot as plt\n",
    "import seaborn as sns\n",
    "\n",
    "(df.groupby('reviews.rating').size()/len(df) ).plot(kind='bar',color = \"#4CAF50\")\n",
    "plt.ylabel('Frequency')\n",
    "plt.title('Distribution of classes')\n",
    "plt.show()"
   ]
  },
  {
   "cell_type": "code",
   "execution_count": 288,
   "id": "eeb9da1d",
   "metadata": {},
   "outputs": [
    {
     "data": {
      "text/html": [
       "<div>\n",
       "<style scoped>\n",
       "    .dataframe tbody tr th:only-of-type {\n",
       "        vertical-align: middle;\n",
       "    }\n",
       "\n",
       "    .dataframe tbody tr th {\n",
       "        vertical-align: top;\n",
       "    }\n",
       "\n",
       "    .dataframe thead th {\n",
       "        text-align: right;\n",
       "    }\n",
       "</style>\n",
       "<table border=\"1\" class=\"dataframe\">\n",
       "  <thead>\n",
       "    <tr style=\"text-align: right;\">\n",
       "      <th></th>\n",
       "      <th>reviews.rating</th>\n",
       "      <th>reviews.text</th>\n",
       "    </tr>\n",
       "  </thead>\n",
       "  <tbody>\n",
       "    <tr>\n",
       "      <th>0</th>\n",
       "      <td>1.0</td>\n",
       "      <td>This product so far has not disappointed. My c...</td>\n",
       "    </tr>\n",
       "    <tr>\n",
       "      <th>1</th>\n",
       "      <td>1.0</td>\n",
       "      <td>great for beginner or experienced person. Boug...</td>\n",
       "    </tr>\n",
       "    <tr>\n",
       "      <th>2</th>\n",
       "      <td>1.0</td>\n",
       "      <td>Inexpensive tablet for him to use and learn on...</td>\n",
       "    </tr>\n",
       "    <tr>\n",
       "      <th>3</th>\n",
       "      <td>1.0</td>\n",
       "      <td>I've had my Fire HD 8 two weeks now and I love...</td>\n",
       "    </tr>\n",
       "    <tr>\n",
       "      <th>4</th>\n",
       "      <td>1.0</td>\n",
       "      <td>I bought this for my grand daughter when she c...</td>\n",
       "    </tr>\n",
       "    <tr>\n",
       "      <th>...</th>\n",
       "      <td>...</td>\n",
       "      <td>...</td>\n",
       "    </tr>\n",
       "    <tr>\n",
       "      <th>34655</th>\n",
       "      <td>1.0</td>\n",
       "      <td>This is not appreciably faster than any other ...</td>\n",
       "    </tr>\n",
       "    <tr>\n",
       "      <th>34656</th>\n",
       "      <td>0.0</td>\n",
       "      <td>Amazon should include this charger with the Ki...</td>\n",
       "    </tr>\n",
       "    <tr>\n",
       "      <th>34657</th>\n",
       "      <td>0.0</td>\n",
       "      <td>Love my Kindle Fire but I am really disappoint...</td>\n",
       "    </tr>\n",
       "    <tr>\n",
       "      <th>34658</th>\n",
       "      <td>0.0</td>\n",
       "      <td>I was surprised to find it did not come with a...</td>\n",
       "    </tr>\n",
       "    <tr>\n",
       "      <th>34659</th>\n",
       "      <td>0.0</td>\n",
       "      <td>to spite the fact that i have nothing but good...</td>\n",
       "    </tr>\n",
       "  </tbody>\n",
       "</table>\n",
       "<p>34626 rows × 2 columns</p>\n",
       "</div>"
      ],
      "text/plain": [
       "       reviews.rating                                       reviews.text\n",
       "0                 1.0  This product so far has not disappointed. My c...\n",
       "1                 1.0  great for beginner or experienced person. Boug...\n",
       "2                 1.0  Inexpensive tablet for him to use and learn on...\n",
       "3                 1.0  I've had my Fire HD 8 two weeks now and I love...\n",
       "4                 1.0  I bought this for my grand daughter when she c...\n",
       "...               ...                                                ...\n",
       "34655             1.0  This is not appreciably faster than any other ...\n",
       "34656             0.0  Amazon should include this charger with the Ki...\n",
       "34657             0.0  Love my Kindle Fire but I am really disappoint...\n",
       "34658             0.0  I was surprised to find it did not come with a...\n",
       "34659             0.0  to spite the fact that i have nothing but good...\n",
       "\n",
       "[34626 rows x 2 columns]"
      ]
     },
     "execution_count": 288,
     "metadata": {},
     "output_type": "execute_result"
    }
   ],
   "source": [
    "df"
   ]
  },
  {
   "cell_type": "code",
   "execution_count": 289,
   "id": "f56f7f62",
   "metadata": {},
   "outputs": [
    {
     "data": {
      "text/plain": [
       "0       This product so far has not disappointed. My c...\n",
       "1       great for beginner or experienced person. Boug...\n",
       "2       Inexpensive tablet for him to use and learn on...\n",
       "3       I've had my Fire HD 8 two weeks now and I love...\n",
       "4       I bought this for my grand daughter when she c...\n",
       "                              ...                        \n",
       "4891    poor use instructions this is my third tablet ...\n",
       "4939    Meh Not impressed.  Should have spent the extr...\n",
       "4943    Ho hum. Not very responsive. I gave up my 10 y...\n",
       "4960    Trash For basic streaming of video content thi...\n",
       "4979    SLOW Everything is slow with this tablet from ...\n",
       "Length: 36081, dtype: object"
      ]
     },
     "execution_count": 289,
     "metadata": {},
     "output_type": "execute_result"
    }
   ],
   "source": [
    "data=df['reviews.text']\n",
    "data.append(scraped['reviews'])"
   ]
  },
  {
   "cell_type": "code",
   "execution_count": 290,
   "id": "bd79cd75",
   "metadata": {},
   "outputs": [
    {
     "data": {
      "text/plain": [
       "0       1.0\n",
       "1       1.0\n",
       "2       1.0\n",
       "3       1.0\n",
       "4       1.0\n",
       "       ... \n",
       "4891    0.0\n",
       "4939    0.0\n",
       "4943    0.0\n",
       "4960    0.0\n",
       "4979    0.0\n",
       "Length: 36081, dtype: float64"
      ]
     },
     "execution_count": 290,
     "metadata": {},
     "output_type": "execute_result"
    }
   ],
   "source": [
    "rata=df['reviews.rating']\n",
    "rata.append(scraped['rating'])"
   ]
  },
  {
   "cell_type": "code",
   "execution_count": 291,
   "id": "a64b87cb",
   "metadata": {},
   "outputs": [
    {
     "data": {
      "text/plain": [
       "0        1.0\n",
       "1        1.0\n",
       "2        1.0\n",
       "3        1.0\n",
       "4        1.0\n",
       "        ... \n",
       "34655    1.0\n",
       "34656    0.0\n",
       "34657    0.0\n",
       "34658    0.0\n",
       "34659    0.0\n",
       "Name: reviews.rating, Length: 34626, dtype: float64"
      ]
     },
     "execution_count": 291,
     "metadata": {},
     "output_type": "execute_result"
    }
   ],
   "source": [
    "rata"
   ]
  },
  {
   "cell_type": "code",
   "execution_count": 292,
   "id": "0ff90c33",
   "metadata": {},
   "outputs": [],
   "source": [
    "rating=pd.DataFrame(rata)"
   ]
  },
  {
   "cell_type": "code",
   "execution_count": 296,
   "id": "12179681",
   "metadata": {},
   "outputs": [],
   "source": [
    "data=pd.DataFrame(data)"
   ]
  },
  {
   "cell_type": "code",
   "execution_count": 294,
   "id": "1272d2af",
   "metadata": {},
   "outputs": [
    {
     "data": {
      "text/html": [
       "<div>\n",
       "<style scoped>\n",
       "    .dataframe tbody tr th:only-of-type {\n",
       "        vertical-align: middle;\n",
       "    }\n",
       "\n",
       "    .dataframe tbody tr th {\n",
       "        vertical-align: top;\n",
       "    }\n",
       "\n",
       "    .dataframe thead th {\n",
       "        text-align: right;\n",
       "    }\n",
       "</style>\n",
       "<table border=\"1\" class=\"dataframe\">\n",
       "  <thead>\n",
       "    <tr style=\"text-align: right;\">\n",
       "      <th></th>\n",
       "      <th>reviews.rating</th>\n",
       "    </tr>\n",
       "  </thead>\n",
       "  <tbody>\n",
       "    <tr>\n",
       "      <th>0</th>\n",
       "      <td>1.0</td>\n",
       "    </tr>\n",
       "    <tr>\n",
       "      <th>1</th>\n",
       "      <td>1.0</td>\n",
       "    </tr>\n",
       "    <tr>\n",
       "      <th>2</th>\n",
       "      <td>1.0</td>\n",
       "    </tr>\n",
       "    <tr>\n",
       "      <th>3</th>\n",
       "      <td>1.0</td>\n",
       "    </tr>\n",
       "    <tr>\n",
       "      <th>4</th>\n",
       "      <td>1.0</td>\n",
       "    </tr>\n",
       "    <tr>\n",
       "      <th>...</th>\n",
       "      <td>...</td>\n",
       "    </tr>\n",
       "    <tr>\n",
       "      <th>34655</th>\n",
       "      <td>1.0</td>\n",
       "    </tr>\n",
       "    <tr>\n",
       "      <th>34656</th>\n",
       "      <td>0.0</td>\n",
       "    </tr>\n",
       "    <tr>\n",
       "      <th>34657</th>\n",
       "      <td>0.0</td>\n",
       "    </tr>\n",
       "    <tr>\n",
       "      <th>34658</th>\n",
       "      <td>0.0</td>\n",
       "    </tr>\n",
       "    <tr>\n",
       "      <th>34659</th>\n",
       "      <td>0.0</td>\n",
       "    </tr>\n",
       "  </tbody>\n",
       "</table>\n",
       "<p>34626 rows × 1 columns</p>\n",
       "</div>"
      ],
      "text/plain": [
       "       reviews.rating\n",
       "0                 1.0\n",
       "1                 1.0\n",
       "2                 1.0\n",
       "3                 1.0\n",
       "4                 1.0\n",
       "...               ...\n",
       "34655             1.0\n",
       "34656             0.0\n",
       "34657             0.0\n",
       "34658             0.0\n",
       "34659             0.0\n",
       "\n",
       "[34626 rows x 1 columns]"
      ]
     },
     "execution_count": 294,
     "metadata": {},
     "output_type": "execute_result"
    }
   ],
   "source": [
    "rating"
   ]
  },
  {
   "cell_type": "code",
   "execution_count": 299,
   "id": "3ac3585b",
   "metadata": {},
   "outputs": [
    {
     "data": {
      "text/html": [
       "<div>\n",
       "<style scoped>\n",
       "    .dataframe tbody tr th:only-of-type {\n",
       "        vertical-align: middle;\n",
       "    }\n",
       "\n",
       "    .dataframe tbody tr th {\n",
       "        vertical-align: top;\n",
       "    }\n",
       "\n",
       "    .dataframe thead th {\n",
       "        text-align: right;\n",
       "    }\n",
       "</style>\n",
       "<table border=\"1\" class=\"dataframe\">\n",
       "  <thead>\n",
       "    <tr style=\"text-align: right;\">\n",
       "      <th></th>\n",
       "      <th>reviews.text</th>\n",
       "    </tr>\n",
       "  </thead>\n",
       "  <tbody>\n",
       "    <tr>\n",
       "      <th>0</th>\n",
       "      <td>This product so far has not disappointed. My c...</td>\n",
       "    </tr>\n",
       "    <tr>\n",
       "      <th>1</th>\n",
       "      <td>great for beginner or experienced person. Boug...</td>\n",
       "    </tr>\n",
       "    <tr>\n",
       "      <th>2</th>\n",
       "      <td>Inexpensive tablet for him to use and learn on...</td>\n",
       "    </tr>\n",
       "    <tr>\n",
       "      <th>3</th>\n",
       "      <td>I've had my Fire HD 8 two weeks now and I love...</td>\n",
       "    </tr>\n",
       "    <tr>\n",
       "      <th>4</th>\n",
       "      <td>I bought this for my grand daughter when she c...</td>\n",
       "    </tr>\n",
       "    <tr>\n",
       "      <th>...</th>\n",
       "      <td>...</td>\n",
       "    </tr>\n",
       "    <tr>\n",
       "      <th>34655</th>\n",
       "      <td>This is not appreciably faster than any other ...</td>\n",
       "    </tr>\n",
       "    <tr>\n",
       "      <th>34656</th>\n",
       "      <td>Amazon should include this charger with the Ki...</td>\n",
       "    </tr>\n",
       "    <tr>\n",
       "      <th>34657</th>\n",
       "      <td>Love my Kindle Fire but I am really disappoint...</td>\n",
       "    </tr>\n",
       "    <tr>\n",
       "      <th>34658</th>\n",
       "      <td>I was surprised to find it did not come with a...</td>\n",
       "    </tr>\n",
       "    <tr>\n",
       "      <th>34659</th>\n",
       "      <td>to spite the fact that i have nothing but good...</td>\n",
       "    </tr>\n",
       "  </tbody>\n",
       "</table>\n",
       "<p>34626 rows × 1 columns</p>\n",
       "</div>"
      ],
      "text/plain": [
       "                                            reviews.text\n",
       "0      This product so far has not disappointed. My c...\n",
       "1      great for beginner or experienced person. Boug...\n",
       "2      Inexpensive tablet for him to use and learn on...\n",
       "3      I've had my Fire HD 8 two weeks now and I love...\n",
       "4      I bought this for my grand daughter when she c...\n",
       "...                                                  ...\n",
       "34655  This is not appreciably faster than any other ...\n",
       "34656  Amazon should include this charger with the Ki...\n",
       "34657  Love my Kindle Fire but I am really disappoint...\n",
       "34658  I was surprised to find it did not come with a...\n",
       "34659  to spite the fact that i have nothing but good...\n",
       "\n",
       "[34626 rows x 1 columns]"
      ]
     },
     "execution_count": 299,
     "metadata": {},
     "output_type": "execute_result"
    }
   ],
   "source": [
    "data"
   ]
  },
  {
   "cell_type": "code",
   "execution_count": 329,
   "id": "4cc0e12a",
   "metadata": {},
   "outputs": [],
   "source": [
    "from sklearn.model_selection import train_test_split\n",
    "\n",
    "X_train, X_val, y_train, y_val = train_test_split(data[['reviews.text', ]],\n",
    "                                                 rating['reviews.rating'],\n",
    "                                                  test_size=0.30,\n",
    "                                                  shuffle=True,\n",
    "                                                  random_state=324\n",
    "                                                 )\n",
    "\n"
   ]
  },
  {
   "cell_type": "code",
   "execution_count": 330,
   "id": "ad1cb815",
   "metadata": {},
   "outputs": [
    {
     "data": {
      "text/plain": [
       "Counter({0.0: 23658, 1.0: 23658})"
      ]
     },
     "execution_count": 330,
     "metadata": {},
     "output_type": "execute_result"
    }
   ],
   "source": [
    "from imblearn.over_sampling import RandomOverSampler\n",
    "ROS = RandomOverSampler(sampling_strategy=1)\n",
    "X_train_ros, y_train_ros = ROS.fit_resample(X_train, y_train)\n",
    "from collections import Counter\n",
    "Counter(y_train_ros)\n",
    "\n",
    "\n",
    "\n"
   ]
  },
  {
   "cell_type": "code",
   "execution_count": 331,
   "id": "9f313499",
   "metadata": {},
   "outputs": [
    {
     "data": {
      "image/png": "[encoded data removed]",
      "text/plain": [
       "<Figure size 360x360 with 1 Axes>"
      ]
     },
     "metadata": {},
     "output_type": "display_data"
    }
   ],
   "source": [
    "# Declare a figure with a custom size\n",
    "fig = plt.figure(figsize=(5, 5))\n",
    "\n",
    "# labels for the two classes\n",
    "labels = 'Positives', 'Negative'\n",
    "\n",
    "# Sizes for each slide\n",
    "sizes = [y_train_ros[y_train_ros==1].shape[0], y_train_ros[y_train_ros==0].shape[0]] \n",
    "\n",
    "# Declare pie chart, where the slices will be ordered and plotted counter-clockwise:\n",
    "plt.pie(sizes, labels=labels, autopct='%1.1f%%',\n",
    "        shadow=True, startangle=90)\n",
    "# Equal aspect ratio ensures that pie is drawn as a circle.\n",
    "plt.axis('equal')  \n",
    "# Display the chart\n",
    "plt.show()\n"
   ]
  },
  {
   "cell_type": "code",
   "execution_count": 332,
   "id": "690b4342",
   "metadata": {},
   "outputs": [
    {
     "name": "stdout",
     "output_type": "stream",
     "text": [
      "Processing the reviewText fields\n"
     ]
    }
   ],
   "source": [
    "print('Processing the reviewText fields')\n",
    "X_train_ros['reviews.text'] = clean(X_train_ros['reviews.text'])\n",
    "X_val['reviews.text'] = clean(X_val['reviews.text'])\n",
    "\n"
   ]
  },
  {
   "cell_type": "code",
   "execution_count": 333,
   "id": "94820b6e",
   "metadata": {},
   "outputs": [],
   "source": [
    "def remove_emoji(text):\n",
    "    emojis = re.compile(\"[\"\n",
    "                           u\"\\U0001F600-\\U0001F64F\"  # emoticons\n",
    "                           u\"\\U0001F300-\\U0001F5FF\"  # symbols & pictographs\n",
    "                           u\"\\U0001F680-\\U0001F6FF\"  # transport & map symbols\n",
    "                           u\"\\U0001F1E0-\\U0001F1FF\"  # flags (iOS)\n",
    "                           u\"\\U00002702-\\U000027B0\"\n",
    "                           u\"\\U000024C2-\\U0001F251\"\n",
    "                           \"]+\", flags=re.UNICODE)\n",
    "    \n",
    "    text = re.sub(emojis,'',text)\n",
    "    return text"
   ]
  },
  {
   "cell_type": "code",
   "execution_count": 334,
   "id": "0077f369",
   "metadata": {},
   "outputs": [
    {
     "name": "stdout",
     "output_type": "stream",
     "text": [
      "start remove emojis from data\n",
      "finish.........\n"
     ]
    }
   ],
   "source": [
    "print(\"start remove emojis from data\")\n",
    "X_train_ros['reviews.text'] = X_train_ros['reviews.text'].apply(lambda x : remove_emoji(x))\n",
    "X_val['reviews.text'] = X_val['reviews.text'].apply(lambda x : remove_emoji(x))\n",
    "\n",
    "print(\"finish.........\")"
   ]
  },
  {
   "cell_type": "code",
   "execution_count": 335,
   "id": "b87c2f1c",
   "metadata": {},
   "outputs": [],
   "source": [
    "# Grab model features/inputs and target/output\n",
    "\n",
    "text_features = [\n",
    "                 'reviews.text']\n",
    "\n",
    "model_features =  text_features\n",
    "model_target = 'reviews.rating'"
   ]
  },
  {
   "cell_type": "code",
   "execution_count": 336,
   "id": "f8ca0fec",
   "metadata": {},
   "outputs": [
    {
     "name": "stdout",
     "output_type": "stream",
     "text": [
      "Datasets shapes before processing:  (47316, 1) (10388, 1)\n",
      "Datasets shapes after processing:  (47316, 200) (10388, 200)\n"
     ]
    }
   ],
   "source": [
    "from sklearn.impute import SimpleImputer\n",
    "from sklearn.preprocessing import MinMaxScaler\n",
    "from sklearn.feature_extraction.text import CountVectorizer\n",
    "from sklearn.pipeline import Pipeline\n",
    "from sklearn.compose import ColumnTransformer\n",
    "\n",
    "### COLUMN_TRANSFORMER ###\n",
    "##########################\n",
    "\n",
    "\n",
    "                                \n",
    "# Preprocess 1st text feature\n",
    "text_processor_0 = Pipeline([\n",
    "    ('text_vect_0', CountVectorizer(binary=True, max_features=200))\n",
    "                                ])\n",
    "\n",
    "\n",
    "\n",
    "# Combine all data preprocessors from above (add more, if you choose to define more!)\n",
    "# For each processor/step specify: a name, the actual process, and finally the features to be processed\n",
    "data_preprocessor = ColumnTransformer([\n",
    "    \n",
    "    ('text_pre_0', text_processor_0, text_features[0])\n",
    "    \n",
    "                                    ]) \n",
    "\n",
    "### DATA PREPROCESSING ###\n",
    "##########################\n",
    "\n",
    "print('Datasets shapes before processing: ', X_train_ros.shape, X_val.shape)\n",
    "\n",
    "X_train_ros = data_preprocessor.fit_transform(X_train_ros)\n",
    "X_val = data_preprocessor.transform(X_val)\n",
    "\n",
    "print('Datasets shapes after processing: ', X_train_ros.shape, X_val.shape)"
   ]
  },
  {
   "cell_type": "code",
   "execution_count": 337,
   "id": "03d083e2",
   "metadata": {},
   "outputs": [
    {
     "data": {
      "text/html": [
       "<style>#sk-container-id-2 {color: black;background-color: white;}#sk-container-id-2 pre{padding: 0;}#sk-container-id-2 div.sk-toggleable {background-color: white;}#sk-container-id-2 label.sk-toggleable__label {cursor: pointer;display: block;width: 100%;margin-bottom: 0;padding: 0.3em;box-sizing: border-box;text-align: center;}#sk-container-id-2 label.sk-toggleable__label-arrow:before {content: \"▸\";float: left;margin-right: 0.25em;color: #696969;}#sk-container-id-2 label.sk-toggleable__label-arrow:hover:before {color: black;}#sk-container-id-2 div.sk-estimator:hover label.sk-toggleable__label-arrow:before {color: black;}#sk-container-id-2 div.sk-toggleable__content {max-height: 0;max-width: 0;overflow: hidden;text-align: left;background-color: #f0f8ff;}#sk-container-id-2 div.sk-toggleable__content pre {margin: 0.2em;color: black;border-radius: 0.25em;background-color: #f0f8ff;}#sk-container-id-2 input.sk-toggleable__control:checked~div.sk-toggleable__content {max-height: 200px;max-width: 100%;overflow: auto;}#sk-container-id-2 input.sk-toggleable__control:checked~label.sk-toggleable__label-arrow:before {content: \"▾\";}#sk-container-id-2 div.sk-estimator input.sk-toggleable__control:checked~label.sk-toggleable__label {background-color: #d4ebff;}#sk-container-id-2 div.sk-label input.sk-toggleable__control:checked~label.sk-toggleable__label {background-color: #d4ebff;}#sk-container-id-2 input.sk-hidden--visually {border: 0;clip: rect(1px 1px 1px 1px);clip: rect(1px, 1px, 1px, 1px);height: 1px;margin: -1px;overflow: hidden;padding: 0;position: absolute;width: 1px;}#sk-container-id-2 div.sk-estimator {font-family: monospace;background-color: #f0f8ff;border: 1px dotted black;border-radius: 0.25em;box-sizing: border-box;margin-bottom: 0.5em;}#sk-container-id-2 div.sk-estimator:hover {background-color: #d4ebff;}#sk-container-id-2 div.sk-parallel-item::after {content: \"\";width: 100%;border-bottom: 1px solid gray;flex-grow: 1;}#sk-container-id-2 div.sk-label:hover label.sk-toggleable__label {background-color: #d4ebff;}#sk-container-id-2 div.sk-serial::before {content: \"\";position: absolute;border-left: 1px solid gray;box-sizing: border-box;top: 0;bottom: 0;left: 50%;z-index: 0;}#sk-container-id-2 div.sk-serial {display: flex;flex-direction: column;align-items: center;background-color: white;padding-right: 0.2em;padding-left: 0.2em;position: relative;}#sk-container-id-2 div.sk-item {position: relative;z-index: 1;}#sk-container-id-2 div.sk-parallel {display: flex;align-items: stretch;justify-content: center;background-color: white;position: relative;}#sk-container-id-2 div.sk-item::before, #sk-container-id-2 div.sk-parallel-item::before {content: \"\";position: absolute;border-left: 1px solid gray;box-sizing: border-box;top: 0;bottom: 0;left: 50%;z-index: -1;}#sk-container-id-2 div.sk-parallel-item {display: flex;flex-direction: column;z-index: 1;position: relative;background-color: white;}#sk-container-id-2 div.sk-parallel-item:first-child::after {align-self: flex-end;width: 50%;}#sk-container-id-2 div.sk-parallel-item:last-child::after {align-self: flex-start;width: 50%;}#sk-container-id-2 div.sk-parallel-item:only-child::after {width: 0;}#sk-container-id-2 div.sk-dashed-wrapped {border: 1px dashed gray;margin: 0 0.4em 0.5em 0.4em;box-sizing: border-box;padding-bottom: 0.4em;background-color: white;}#sk-container-id-2 div.sk-label label {font-family: monospace;font-weight: bold;display: inline-block;line-height: 1.2em;}#sk-container-id-2 div.sk-label-container {text-align: center;}#sk-container-id-2 div.sk-container {/* jupyter's `normalize.less` sets `[hidden] { display: none; }` but bootstrap.min.css set `[hidden] { display: none !important; }` so we also need the `!important` here to be able to override the default hidden behavior on the sphinx rendered scikit-learn.org. See: https://github.com/scikit-learn/scikit-learn/issues/21755 */display: inline-block !important;position: relative;}#sk-container-id-2 div.sk-text-repr-fallback {display: none;}</style><div id=\"sk-container-id-2\" class=\"sk-top-container\"><div class=\"sk-text-repr-fallback\"><pre>XGBClassifier(base_score=0.5, booster=&#x27;gbtree&#x27;, callbacks=None,\n",
       "              colsample_bylevel=1, colsample_bynode=1, colsample_bytree=0.6,\n",
       "              early_stopping_rounds=None, enable_categorical=False,\n",
       "              eval_metric=None, feature_types=None, gamma=0, gpu_id=-1,\n",
       "              grow_policy=&#x27;depthwise&#x27;, importance_type=None,\n",
       "              interaction_constraints=&#x27;&#x27;, learning_rate=0.300000012,\n",
       "              max_bin=256, max_cat_threshold=64, max_cat_to_onehot=4,\n",
       "              max_delta_step=0, max_depth=6, max_leaves=0, min_child_weight=1,\n",
       "              missing=nan, monotone_constraints=&#x27;()&#x27;, n_estimators=100,\n",
       "              n_jobs=0, num_parallel_tree=1, predictor=&#x27;auto&#x27;, random_state=42, ...)</pre><b>In a Jupyter environment, please rerun this cell to show the HTML representation or trust the notebook. <br />On GitHub, the HTML representation is unable to render, please try loading this page with nbviewer.org.</b></div><div class=\"sk-container\" hidden><div class=\"sk-item\"><div class=\"sk-estimator sk-toggleable\"><input class=\"sk-toggleable__control sk-hidden--visually\" id=\"sk-estimator-id-2\" type=\"checkbox\" checked><label for=\"sk-estimator-id-2\" class=\"sk-toggleable__label sk-toggleable__label-arrow\">XGBClassifier</label><div class=\"sk-toggleable__content\"><pre>XGBClassifier(base_score=0.5, booster=&#x27;gbtree&#x27;, callbacks=None,\n",
       "              colsample_bylevel=1, colsample_bynode=1, colsample_bytree=0.6,\n",
       "              early_stopping_rounds=None, enable_categorical=False,\n",
       "              eval_metric=None, feature_types=None, gamma=0, gpu_id=-1,\n",
       "              grow_policy=&#x27;depthwise&#x27;, importance_type=None,\n",
       "              interaction_constraints=&#x27;&#x27;, learning_rate=0.300000012,\n",
       "              max_bin=256, max_cat_threshold=64, max_cat_to_onehot=4,\n",
       "              max_delta_step=0, max_depth=6, max_leaves=0, min_child_weight=1,\n",
       "              missing=nan, monotone_constraints=&#x27;()&#x27;, n_estimators=100,\n",
       "              n_jobs=0, num_parallel_tree=1, predictor=&#x27;auto&#x27;, random_state=42, ...)</pre></div></div></div></div></div>"
      ],
      "text/plain": [
       "XGBClassifier(base_score=0.5, booster='gbtree', callbacks=None,\n",
       "              colsample_bylevel=1, colsample_bynode=1, colsample_bytree=0.6,\n",
       "              early_stopping_rounds=None, enable_categorical=False,\n",
       "              eval_metric=None, feature_types=None, gamma=0, gpu_id=-1,\n",
       "              grow_policy='depthwise', importance_type=None,\n",
       "              interaction_constraints='', learning_rate=0.300000012,\n",
       "              max_bin=256, max_cat_threshold=64, max_cat_to_onehot=4,\n",
       "              max_delta_step=0, max_depth=6, max_leaves=0, min_child_weight=1,\n",
       "              missing=nan, monotone_constraints='()', n_estimators=100,\n",
       "              n_jobs=0, num_parallel_tree=1, predictor='auto', random_state=42, ...)"
      ]
     },
     "execution_count": 337,
     "metadata": {},
     "output_type": "execute_result"
    }
   ],
   "source": [
    "import xgboost as xgb\n",
    "clf = xgb.XGBClassifier(random_state=42, seed=2, colsample_bytree=0.6, subsample=0.7)\n",
    "clf.fit(X_train_ros,y_train_ros)"
   ]
  },
  {
   "cell_type": "code",
   "execution_count": 338,
   "id": "4c47de21",
   "metadata": {},
   "outputs": [
    {
     "name": "stdout",
     "output_type": "stream",
     "text": [
      "Mean ROC AUC: 0.99369\n"
     ]
    }
   ],
   "source": [
    "# fit balanced xgboost on an imbalanced classification dataset\n",
    "from numpy import mean\n",
    "from sklearn.datasets import make_classification\n",
    "from sklearn.model_selection import cross_val_score\n",
    "from sklearn.model_selection import RepeatedStratifiedKFold\n",
    "from xgboost import XGBClassifier\n",
    "model = XGBClassifier(scale_pos_weight=100)\n",
    "# define evaluation procedure\n",
    "cv = RepeatedStratifiedKFold(n_splits=10, n_repeats=3, random_state=1)\n",
    "# evaluate model\n",
    "scores = cross_val_score(model, X_train_ros,y_train_ros, scoring='roc_auc', cv=cv, n_jobs=-1)\n",
    "# summarize performance\n",
    "print('Mean ROC AUC: %.5f' % mean(scores))"
   ]
  },
  {
   "cell_type": "code",
   "execution_count": 339,
   "id": "f7c132dc",
   "metadata": {},
   "outputs": [],
   "source": [
    "from sklearn.model_selection import GridSearchCV\n",
    "from sklearn.model_selection import RepeatedStratifiedKFold\n",
    "# define grid\n",
    "weights = [1, 10, 25, 50, 75, 99, 100, 1000]\n",
    "param_grid = dict(scale_pos_weight=weights)\n",
    "# define evaluation procedure\n",
    "cv = RepeatedStratifiedKFold(n_splits=10, n_repeats=3, random_state=1)\n",
    "# define grid search\n",
    "grid = GridSearchCV(estimator=model, param_grid=param_grid, n_jobs=-1, cv=cv, scoring='roc_auc')"
   ]
  },
  {
   "cell_type": "code",
   "execution_count": 340,
   "id": "042b2743",
   "metadata": {},
   "outputs": [
    {
     "name": "stdout",
     "output_type": "stream",
     "text": [
      "Best: 0.996134 using {'scale_pos_weight': 10}\n",
      "0.995985 (0.000683) with: {'scale_pos_weight': 1}\n",
      "0.996134 (0.000634) with: {'scale_pos_weight': 10}\n",
      "0.995536 (0.000835) with: {'scale_pos_weight': 25}\n",
      "0.994707 (0.000925) with: {'scale_pos_weight': 50}\n",
      "0.994103 (0.000835) with: {'scale_pos_weight': 75}\n",
      "0.993564 (0.001075) with: {'scale_pos_weight': 99}\n",
      "0.993694 (0.000926) with: {'scale_pos_weight': 100}\n",
      "0.987466 (0.001897) with: {'scale_pos_weight': 1000}\n"
     ]
    }
   ],
   "source": [
    "# execute the grid search\n",
    "# execute the grid search\n",
    "grid_result = grid.fit(X_train_ros,y_train_ros)\n",
    "# report the best configuration\n",
    "print(\"Best: %f using %s\" % (grid_result.best_score_, grid_result.best_params_))\n",
    "# report all configurations\n",
    "means = grid_result.cv_results_['mean_test_score']\n",
    "stds = grid_result.cv_results_['std_test_score']\n",
    "params = grid_result.cv_results_['params']\n",
    "for mean, stdev, param in zip(means, stds, params):\n",
    "    print(\"%f (%f) with: %r\" % (mean, stdev, param))"
   ]
  },
  {
   "cell_type": "code",
   "execution_count": 341,
   "id": "e9e6f85e",
   "metadata": {},
   "outputs": [
    {
     "name": "stdout",
     "output_type": "stream",
     "text": [
      "Accuracy - 0.975452445128995\n"
     ]
    }
   ],
   "source": [
    "from sklearn.metrics import accuracy_score\n",
    "prediction = grid_result.predict(X_val)\n",
    "print(\"Accuracy - {}\".format(accuracy_score(y_pred=prediction, y_true=y_val)))"
   ]
  },
  {
   "cell_type": "code",
   "execution_count": 342,
   "id": "1848e022",
   "metadata": {},
   "outputs": [
    {
     "name": "stdout",
     "output_type": "stream",
     "text": [
      "Sensitivity or TPR: 99.3304450571091%\n",
      "Specificity or TNR: 19.396551724137932%\n",
      "Precision: 98.18004866180048%\n",
      "Negative Predictive Value: 39.823008849557525%\n",
      "False Positive Rate: 80.60344827586206%\n",
      "False Negative Rate: 0.669554942890902%\n",
      "False Discovery Rate: 1.8199513381995134%\n",
      "Accuracy: 97.5452445128995%\n"
     ]
    }
   ],
   "source": [
    "print_metrics(y_val, prediction) "
   ]
  },
  {
   "cell_type": "code",
   "execution_count": 343,
   "id": "2c53dab7",
   "metadata": {},
   "outputs": [
    {
     "data": {
      "image/png": "[encoded data removed]",
      "text/plain": [
       "<Figure size 432x288 with 1 Axes>"
      ]
     },
     "metadata": {
      "needs_background": "light"
     },
     "output_type": "display_data"
    }
   ],
   "source": [
    "plot_confusion_matrix(test_labels=y_val, target_predicted=prediction) \n"
   ]
  },
  {
   "cell_type": "code",
   "execution_count": 344,
   "id": "6af67a37",
   "metadata": {},
   "outputs": [],
   "source": [
    "import pickle\n",
    "file_name = \"xgb_best.pkl\"\n",
    "\n",
    "# save\n",
    "pickle.dump(grid_result, open(file_name, \"wb\"))\n",
    "\n",
    "\n"
   ]
  },
  {
   "cell_type": "code",
   "execution_count": 345,
   "id": "e81f7382",
   "metadata": {},
   "outputs": [],
   "source": [
    "#load model\n",
    "xgb_model_loaded = pickle.load(open(file_name, \"rb\"))"
   ]
  },
  {
   "cell_type": "code",
   "execution_count": 346,
   "id": "7758b1c4",
   "metadata": {},
   "outputs": [
    {
     "name": "stdout",
     "output_type": "stream",
     "text": [
      "0\n",
      "negative\n"
     ]
    }
   ],
   "source": [
    "twt = {'reviews.text':[\"I was surprised to find it did not come with any type of charging cords so I had to purchase one and then found my Sprint HTC 3D charger is faster. I would not purchase again- 1st item I've ever not liked I've purchased from Amazon\"]}\n",
    "twt=pd.DataFrame(twt)\n",
    "#vectorizing the tweet by the pre-fitted tokenizer instance\n",
    "twt = data_preprocessor.transform(twt)\n",
    "#padding the tweet to have exactly the same shape as `embedding_2` input\n",
    "sentiment = xgb_model_loaded.predict(twt)[0]\n",
    "print(sentiment)\n",
    "if(sentiment == 0):\n",
    "    print(\"negative\")\n",
    "elif (sentiment == 1):\n",
    "    print(\"positive\")\n"
   ]
  },
  {
   "cell_type": "code",
   "execution_count": null,
   "id": "09ebd2a5",
   "metadata": {},
   "outputs": [],
   "source": []
  },
  {
   "cell_type": "code",
   "execution_count": null,
   "id": "c7adb3f2",
   "metadata": {},
   "outputs": [],
   "source": []
  },
  {
   "cell_type": "code",
   "execution_count": null,
   "id": "258b8282",
   "metadata": {},
   "outputs": [],
   "source": []
  },
  {
   "cell_type": "code",
   "execution_count": null,
   "id": "2bd4b0ed",
   "metadata": {},
   "outputs": [],
   "source": []
  }
 ],
 "metadata": {
  "kernelspec": {
   "display_name": "Python 3 (ipykernel)",
   "language": "python",
   "name": "python3"
  },
  "language_info": {
   "codemirror_mode": {
    "name": "ipython",
    "version": 3
   },
   "file_extension": ".py",
   "mimetype": "text/x-python",
   "name": "python",
   "nbconvert_exporter": "python",
   "pygments_lexer": "ipython3",
   "version": "3.9.7"
  }
 },
 "nbformat": 4,
 "nbformat_minor": 5
}
